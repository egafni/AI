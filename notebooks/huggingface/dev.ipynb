{
 "cells": [
  {
   "cell_type": "code",
   "execution_count": 1,
   "id": "18dcabb8-e447-4ba1-b7de-48d766c32786",
   "metadata": {},
   "outputs": [
    {
     "name": "stderr",
     "output_type": "stream",
     "text": [
      "/static/user/spock/.cache/pypoetry/virtualenvs/ai-iwSNfyWa-py3.10/lib/python3.10/site-packages/tqdm/auto.py:21: TqdmWarning: IProgress not found. Please update jupyter and ipywidgets. See https://ipywidgets.readthedocs.io/en/stable/user_install.html\n",
      "  from .autonotebook import tqdm as notebook_tqdm\n"
     ]
    }
   ],
   "source": [
    "from transformers import pipeline, AutoTokenizer, AutoModelForSequenceClassification, AutoModelForSeq2SeqLM, GenerationConfig"
   ]
  },
  {
   "cell_type": "code",
   "execution_count": 84,
   "id": "f30c7a59-be49-4a04-a7d5-6173e5a3fde7",
   "metadata": {},
   "outputs": [
    {
     "name": "stdout",
     "output_type": "stream",
     "text": [
      "{0: 'nothate', 1: 'hate'}\n"
     ]
    }
   ],
   "source": [
    "toxicity_model_name = \"facebook/roberta-hate-speech-dynabench-r4-target\"\n",
    "# toxicity_model_name = \"unitary/toxic-bert\"\n",
    "# toxicity_tokenizer = AutoTokenizer.from_pretrained(toxicity_model_name, device_map=\"auto\")\n",
    "# toxicity_model = AutoModelForSequenceClassification.from_pretrained(toxicity_model_name, device_map=\"auto\")\n",
    "toxicity_tokenizer = AutoTokenizer.from_pretrained(toxicity_model_name)\n",
    "toxicity_model = AutoModelForSequenceClassification.from_pretrained(toxicity_model_name)\n",
    "\n",
    "print(toxicity_model.config.id2label)"
   ]
  },
  {
   "cell_type": "code",
   "execution_count": 127,
   "id": "b5a20ef5-a727-4b6b-8274-b2152a392e06",
   "metadata": {},
   "outputs": [
    {
     "data": {
      "text/plain": [
       "device(type='cpu')"
      ]
     },
     "execution_count": 127,
     "metadata": {},
     "output_type": "execute_result"
    }
   ],
   "source": [
    "toxicity_model.device"
   ]
  },
  {
   "cell_type": "code",
   "execution_count": 128,
   "id": "88083223-bd1e-48de-8e93-35aba92bbd96",
   "metadata": {},
   "outputs": [],
   "source": [
    "ids = toxicity_tokenizer('fuck you ', return_tensors=\"pt\").input_ids"
   ]
  },
  {
   "cell_type": "code",
   "execution_count": 129,
   "id": "c33c63b7-830c-4c10-8a5b-579194a9229e",
   "metadata": {},
   "outputs": [],
   "source": [
    "# toxicity_model"
   ]
  },
  {
   "cell_type": "code",
   "execution_count": 130,
   "id": "f62e3106-a351-4ff0-9c0f-9b7ded6a5125",
   "metadata": {},
   "outputs": [],
   "source": [
    "_=toxicity_model.eval()"
   ]
  },
  {
   "cell_type": "code",
   "execution_count": 132,
   "id": "b1840d4d-f6d3-4697-9320-6fd6703da1c1",
   "metadata": {},
   "outputs": [
    {
     "data": {
      "text/plain": [
       "tensor([[-3.4335,  3.0830]], grad_fn=<AddmmBackward0>)"
      ]
     },
     "execution_count": 132,
     "metadata": {},
     "output_type": "execute_result"
    }
   ],
   "source": [
    "toxicity_model(input_ids=ids).logits"
   ]
  },
  {
   "cell_type": "code",
   "execution_count": null,
   "id": "84fe39db-646f-4a8b-8e52-cfc5f3b5b164",
   "metadata": {},
   "outputs": [],
   "source": []
  }
 ],
 "metadata": {
  "kernelspec": {
   "display_name": "Python 3 (ipykernel)",
   "language": "python",
   "name": "python3"
  },
  "language_info": {
   "codemirror_mode": {
    "name": "ipython",
    "version": 3
   },
   "file_extension": ".py",
   "mimetype": "text/x-python",
   "name": "python",
   "nbconvert_exporter": "python",
   "pygments_lexer": "ipython3",
   "version": "3.10.12"
  }
 },
 "nbformat": 4,
 "nbformat_minor": 5
}
