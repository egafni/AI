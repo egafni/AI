{
 "cells": [
  {
   "cell_type": "code",
   "execution_count": 15,
   "id": "2304f8f1-87a7-4dbf-ac95-a50bdad85430",
   "metadata": {},
   "outputs": [],
   "source": [
    "import numpy as np\n",
    "from datetime import datetime, timedelta\n",
    "import re\n",
    "from dataclasses import dataclass\n",
    "from pprint import pprint, pformat"
   ]
  },
  {
   "cell_type": "code",
   "execution_count": 4,
   "id": "cc564492-1e27-4480-8776-0bcc8fb4d62d",
   "metadata": {},
   "outputs": [],
   "source": [
    "@dataclass\n",
    "class Date:\n",
    "    month: int\n",
    "    year: int\n",
    "    day: int | None = None\n",
    "\n",
    "    def __post_init__(self):\n",
    "        if isinstance(self.month, str):\n",
    "            self.month=int(self.month)\n",
    "        if isinstance(self.year, str):\n",
    "            self.year=int(self.year)\n",
    "        if isinstance(self.day, str):\n",
    "            self.day=int(self.day)\n",
    "\n",
    "    def inc_month(self):\n",
    "        if self.month == 12:\n",
    "            month = 1\n",
    "            year = self.year + 1\n",
    "        else:\n",
    "            month = self.month + 1\n",
    "            year = self.year\n",
    "        return Date(year=year,month=month)\n",
    "\n",
    "    def dec_month(self):\n",
    "        if self.month == 1:\n",
    "            month = 12\n",
    "            year = self.year - 1\n",
    "        else:\n",
    "            month = self.month - 1\n",
    "            year = self.year\n",
    "        return Date(year=year,month=month)\n",
    "\n",
    "    def __hash__(self):\n",
    "        return hash((self.year, self.month, self.day))\n",
    "\n",
    "    def to_year_month_int(self):\n",
    "        return self.year*12+self.month"
   ]
  },
  {
   "cell_type": "code",
   "execution_count": 5,
   "id": "8bc98163-215e-4929-b4a9-18ffb68fc601",
   "metadata": {},
   "outputs": [
    {
     "data": {
      "text/plain": [
       "Date(month=1, year=2019, day=None)"
      ]
     },
     "execution_count": 5,
     "metadata": {},
     "output_type": "execute_result"
    }
   ],
   "source": [
    "a = 10000\n",
    "b = 1000\n",
    "startDate = \"01/2019\"\n",
    "endDate = \"08/2019\"\n",
    "def parse(s):\n",
    "    parts = s.split('/')\n",
    "    if len(parts) == 2:\n",
    "        year=int(parts[1])\n",
    "        month=int(parts[0])\n",
    "        return Date(month=month, year=year)\n",
    "    else:\n",
    "        month,day,year = parts\n",
    "        return Date(month=month,day=day, year=year)\n",
    "\n",
    "start_date = parse(startDate)\n",
    "end_date = parse(endDate)\n",
    "start_date"
   ]
  },
  {
   "cell_type": "code",
   "execution_count": 7,
   "id": "2a7c9635-d141-4a04-a669-d4f521564462",
   "metadata": {},
   "outputs": [
    {
     "data": {
      "text/plain": [
       "{24229: {'payment': 1000,\n",
       "  'on_time': False,\n",
       "  'date': Date(month=1, year=2019, day=16)},\n",
       " 24231: {'payment': 2400,\n",
       "  'on_time': False,\n",
       "  'date': Date(month=3, year=2019, day=20)},\n",
       " 24232: {'payment': 4000,\n",
       "  'on_time': False,\n",
       "  'date': Date(month=4, year=2019, day=25)},\n",
       " 24233: {'payment': 3300,\n",
       "  'on_time': True,\n",
       "  'date': Date(month=5, year=2019, day=6)},\n",
       " 24236: {'payment': 1500,\n",
       "  'on_time': True,\n",
       "  'date': Date(month=8, year=2019, day=15)}}"
      ]
     },
     "execution_count": 7,
     "metadata": {},
     "output_type": "execute_result"
    }
   ],
   "source": [
    "history = [\n",
    "    \"$1000 payment received on 01/16/2019\",\n",
    "    \"$2400 payment received on 03/20/2019\",\n",
    "    \"$4000 payment received on 04/25/2019\",\n",
    "    \"$3300 payment received on 05/06/2019\",\n",
    "    \"$1500 payment received on 08/15/2019\"\n",
    "]\n",
    "def parse_history2():\n",
    "    history2 = dict()\n",
    "    for x in history:\n",
    "        payment, b = re.search('\\$(\\d+).*on (\\d+/\\d+/\\d+)', x).groups()\n",
    "        d = parse(b)\n",
    "        history2[d.to_year_month_int()] = dict(payment=int(payment),on_time=d.day<=15, date=d)\n",
    "    return history2\n",
    "    \n",
    "history2 = parse_history2()\n",
    "history2"
   ]
  },
  {
   "cell_type": "code",
   "execution_count": 31,
   "id": "81649a06-3c5c-47a2-af80-9bb6df49e34f",
   "metadata": {},
   "outputs": [],
   "source": [
    "def last_n_months(date, n):\n",
    "    r = []\n",
    "    for i in range(0,n):\n",
    "        x = history2.get(cur_date.to_year_month_int() - i)\n",
    "        r.append(x)\n",
    "    return r\n",
    "\n",
    "# list(last_n_months(cur_date, 3))\n"
   ]
  },
  {
   "cell_type": "code",
   "execution_count": 32,
   "id": "2ad911b2-2e8a-4c3c-8500-2d0c92080d2f",
   "metadata": {},
   "outputs": [
    {
     "data": {
      "text/plain": [
       "Date(month=9, year=2019, day=None)"
      ]
     },
     "execution_count": 32,
     "metadata": {},
     "output_type": "execute_result"
    }
   ],
   "source": [
    "cur_date"
   ]
  },
  {
   "cell_type": "code",
   "execution_count": 40,
   "id": "0055234f-b983-4ea0-974b-a4757dd8428b",
   "metadata": {},
   "outputs": [
    {
     "data": {
      "text/plain": [
       "[]"
      ]
     },
     "execution_count": 40,
     "metadata": {},
     "output_type": "execute_result"
    }
   ],
   "source": [
    "servers = 3\n",
    "list(zip(range(servers),[]*servers))"
   ]
  },
  {
   "cell_type": "code",
   "execution_count": null,
   "id": "d0537789-de63-45d8-b856-d4a4922b5908",
   "metadata": {},
   "outputs": [],
   "source": []
  },
  {
   "cell_type": "code",
   "execution_count": 44,
   "id": "fd220499-2f7f-49b0-b4bc-76c2130bf42a",
   "metadata": {},
   "outputs": [
    {
     "data": {
      "text/plain": [
       "(range(0, 3), [[], [], []])"
      ]
     },
     "execution_count": 44,
     "metadata": {},
     "output_type": "execute_result"
    }
   ],
   "source": [
    "range(servers),[[]for _ in range(servers)]"
   ]
  },
  {
   "cell_type": "code",
   "execution_count": 46,
   "id": "2a1f0b55-da7f-461e-bcc4-37bbacf33186",
   "metadata": {},
   "outputs": [
    {
     "data": {
      "text/plain": [
       "0"
      ]
     },
     "execution_count": 46,
     "metadata": {},
     "output_type": "execute_result"
    }
   ],
   "source": [
    "np.argmax([0]*10)"
   ]
  },
  {
   "cell_type": "code",
   "execution_count": 39,
   "id": "59d4cc17-52ca-4802-afef-147bd8f8c98c",
   "metadata": {},
   "outputs": [],
   "source": [
    "a= list('abcdefghijklmnopqrstuvwxyz')\n",
    "m = dict()\n",
    "# b='abcdefghijklmnopqrstuvwxyz'\n",
    "# assert a==b\n"
   ]
  },
  {
   "cell_type": "code",
   "execution_count": 35,
   "id": "7fed60dd-42c3-41b5-8bf5-c1aaa610eaf6",
   "metadata": {},
   "outputs": [
    {
     "name": "stdout",
     "output_type": "stream",
     "text": [
      "{ '_3b': 3000,\n",
      "  '_late': 3,\n",
      "  'b': 1000,\n",
      "  'b_start': 1000,\n",
      "  'cur_date': Date(month=1, year=2019, day=None),\n",
      "  'didnt_pay_last_2_months': False,\n",
      "  'hists': [ { 'date': Date(month=1, year=2019, day=16),\n",
      "               'on_time': False,\n",
      "               'payment': 1000},\n",
      "             None,\n",
      "             None],\n",
      "  'months_elapsed': 1,\n",
      "  'msg': 'Leave as it is, 1000',\n",
      "  'paid': 1000,\n",
      "  'paid_enough': True}\n",
      "\n",
      "{ '_3b': 3000,\n",
      "  '_late': 3,\n",
      "  'b': 1000,\n",
      "  'b_start': 1000,\n",
      "  'cur_date': Date(month=2, year=2019, day=None),\n",
      "  'didnt_pay_last_2_months': False,\n",
      "  'hists': [ None,\n",
      "             { 'date': Date(month=1, year=2019, day=16),\n",
      "               'on_time': False,\n",
      "               'payment': 1000},\n",
      "             None],\n",
      "  'months_elapsed': 2,\n",
      "  'msg': 'Leave as it is, 1000',\n",
      "  'paid': 1000,\n",
      "  'paid_enough': True}\n",
      "\n"
     ]
    },
    {
     "ename": "NameError",
     "evalue": "name 'd' is not defined",
     "output_type": "error",
     "traceback": [
      "\u001b[0;31m---------------------------------------------------------------------------\u001b[0m",
      "\u001b[0;31mNameError\u001b[0m                                 Traceback (most recent call last)",
      "Cell \u001b[0;32mIn[35], line 30\u001b[0m\n\u001b[1;32m     28\u001b[0m msg \u001b[38;5;241m=\u001b[39m \u001b[38;5;124mf\u001b[39m\u001b[38;5;124m'\u001b[39m\u001b[38;5;124mLeave as it is, \u001b[39m\u001b[38;5;132;01m{\u001b[39;00mb\u001b[38;5;132;01m}\u001b[39;00m\u001b[38;5;124m'\u001b[39m\n\u001b[1;32m     29\u001b[0m \u001b[38;5;28;01mif\u001b[39;00m \u001b[38;5;129;01mnot\u001b[39;00m paid_enough \u001b[38;5;129;01mor\u001b[39;00m didnt_pay_last_2_months:\n\u001b[0;32m---> 30\u001b[0m     b \u001b[38;5;241m=\u001b[39m \u001b[38;5;28mround\u001b[39m(b \u001b[38;5;241m+\u001b[39m a \u001b[38;5;241m*\u001b[39m \u001b[43md\u001b[49m \u001b[38;5;241m/\u001b[39m \u001b[38;5;241m100\u001b[39m)\n\u001b[1;32m     31\u001b[0m     msg \u001b[38;5;241m=\u001b[39m \u001b[38;5;124mf\u001b[39m\u001b[38;5;124m'\u001b[39m\u001b[38;5;124mAdd one year, \u001b[39m\u001b[38;5;132;01m{\u001b[39;00mb\u001b[38;5;132;01m}\u001b[39;00m\u001b[38;5;124m'\u001b[39m\n\u001b[1;32m     32\u001b[0m \u001b[38;5;28;01melse\u001b[39;00m:\n",
      "\u001b[0;31mNameError\u001b[0m: name 'd' is not defined"
     ]
    }
   ],
   "source": [
    "cur_date = parse(startDate)\n",
    "b = b\n",
    "\n",
    "while cur_date.month <= end_date.month:\n",
    "    b_start = b\n",
    "    months_elapsed = cur_date.to_year_month_int() - start_date.to_year_month_int() + 1\n",
    "    # print('start cur_Date', cur_date)\n",
    "    # print('months_elapsed', months_elapsed)\n",
    "\n",
    "    # print('last 3 months')\n",
    "    # If the user has paid less than 3·b dollars during the last three months,\n",
    "    hists3mo = list(last_n_months(cur_date, 3))\n",
    "    # print('hists', hists3mo)\n",
    "\n",
    "    paid = sum(h['payment'] for h in hists3mo if h)\n",
    "    n_late = sum(1 for h in hists3mo if h is None or ~h['on_time'] )\n",
    "\n",
    "    # last two months\n",
    "    if months_elapsed == 3:\n",
    "        paid_enough = paid >= 3*b and n_late != 3\n",
    "    else:\n",
    "        paid_enough = True\n",
    "\n",
    "    if months_elapsed == 2:\n",
    "        didnt_pay_last_two_months = hists3mo[-2:] is [None, None]\n",
    "\n",
    "\n",
    "    msg = f'Leave as it is, {b}'\n",
    "    if not paid_enough or didnt_pay_last_2_months:\n",
    "        b = round(b + a * d / 100)\n",
    "        msg = f'Add one year, {b}'\n",
    "    else:\n",
    "        if months_elapsed == 3:\n",
    "            # did we pay last 3 months?\n",
    "            payments = [h['payment'] for h in hists3mo if h]\n",
    "            if len(payments) == 3 and all(p>=b*2 for p in payments):\n",
    "                b = round(b - a * d / 100)\n",
    "                msg = f'Remove one year, {b}'\n",
    "\n",
    "    \n",
    "    \n",
    "    pprint(dict(cur_date=cur_date,\n",
    "                hists=hists3mo,\n",
    "                paid=paid, \n",
    "                _late=n_late, \n",
    "                paid_enough=paid_enough,\n",
    "                b_start=b,\n",
    "                _3b=3*b,\n",
    "                b=b,\n",
    "                msg=msg,\n",
    "                didnt_pay_last_2_months=didnt_pay_last_2_months,\n",
    "                months_elapsed=months_elapsed), indent=2)\n",
    "    \n",
    "    \n",
    "    \n",
    "\n",
    "    cur_date = cur_date.inc_month()\n",
    "    print()"
   ]
  },
  {
   "cell_type": "code",
   "execution_count": null,
   "id": "bdaa5d06-b10b-4d80-ae43-0b8d4de26f17",
   "metadata": {},
   "outputs": [],
   "source": []
  },
  {
   "cell_type": "code",
   "execution_count": null,
   "id": "fa19fe60-91df-4613-9203-15a8f1159da2",
   "metadata": {},
   "outputs": [],
   "source": []
  }
 ],
 "metadata": {
  "kernelspec": {
   "display_name": "Python 3 (ipykernel)",
   "language": "python",
   "name": "python3"
  },
  "language_info": {
   "codemirror_mode": {
    "name": "ipython",
    "version": 3
   },
   "file_extension": ".py",
   "mimetype": "text/x-python",
   "name": "python",
   "nbconvert_exporter": "python",
   "pygments_lexer": "ipython3",
   "version": "3.10.12"
  }
 },
 "nbformat": 4,
 "nbformat_minor": 5
}
