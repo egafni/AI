{
 "cells": [
  {
   "cell_type": "code",
   "execution_count": 1,
   "id": "66a6ba64-65ad-4e30-95ef-c170b231acb2",
   "metadata": {},
   "outputs": [],
   "source": [
    "from llama_index.core import (\n",
    "    VectorStoreIndex,\n",
    "    SimpleKeywordTableIndex,\n",
    "    SimpleDirectoryReader,\n",
    ")\n",
    "from llama_index.core import SummaryIndex\n",
    "from llama_index.core.schema import IndexNode\n",
    "from llama_index.core.tools import QueryEngineTool, ToolMetadata\n",
    "from llama_index.llms.openai import OpenAI\n",
    "from llama_index.core.callbacks import CallbackManager"
   ]
  },
  {
   "cell_type": "code",
   "execution_count": 2,
   "id": "0a29b73b-c8d0-40a5-a14e-d2ff34bc74a2",
   "metadata": {},
   "outputs": [],
   "source": [
    "wiki_titles = [\n",
    "    \"Toronto\",\n",
    "    \"Seattle\",\n",
    "    \"Chicago\",\n",
    "    \"Boston\",\n",
    "    \"Houston\",\n",
    "    \"Tokyo\",\n",
    "    \"Berlin\",\n",
    "    \"Lisbon\",\n",
    "    \"Paris\",\n",
    "    \"London\",\n",
    "    \"Atlanta\",\n",
    "    \"Munich\",\n",
    "    \"Shanghai\",\n",
    "    \"Beijing\",\n",
    "    \"Copenhagen\",\n",
    "    \"Moscow\",\n",
    "    \"Cairo\",\n",
    "    \"Karachi\",\n",
    "]\n",
    "from pathlib import Path\n",
    "\n",
    "import requests\n",
    "\n",
    "for title in wiki_titles:\n",
    "    response = requests.get(\n",
    "        \"https://en.wikipedia.org/w/api.php\",\n",
    "        params={\n",
    "            \"action\": \"query\",\n",
    "            \"format\": \"json\",\n",
    "            \"titles\": title,\n",
    "            \"prop\": \"extracts\",\n",
    "            # 'exintro': True,\n",
    "            \"explaintext\": True,\n",
    "        },\n",
    "    ).json()\n",
    "    page = next(iter(response[\"query\"][\"pages\"].values()))\n",
    "    wiki_text = page[\"extract\"]\n",
    "\n",
    "    data_path = Path(\"data\")\n",
    "    if not data_path.exists():\n",
    "        Path.mkdir(data_path)\n",
    "\n",
    "    with open(data_path / f\"{title}.txt\", \"w\") as fp:\n",
    "        fp.write(wiki_text)\n",
    "# Load all wiki documents\n",
    "city_docs = {}\n",
    "for wiki_title in wiki_titles:\n",
    "    city_docs[wiki_title] = SimpleDirectoryReader(\n",
    "        input_files=[f\"data/{wiki_title}.txt\"]\n",
    "    ).load_data()"
   ]
  },
  {
   "cell_type": "code",
   "execution_count": 3,
   "id": "19df8011-1d77-48af-9440-a4fcc971d9fd",
   "metadata": {},
   "outputs": [],
   "source": [
    "import os\n",
    "\n",
    "# os.environ[\"OPENAI_API_KEY\"] = \"sk-...\"\n",
    "from llama_index.llms.openai import OpenAI\n",
    "from llama_index.embeddings.openai import OpenAIEmbedding\n",
    "from llama_index.core import Settings\n",
    "\n",
    "llm = Settings.llm = OpenAI(temperature=0, model=\"gpt-3.5-turbo\")\n",
    "embed_model = Settings.embed_model = OpenAIEmbedding(model=\"text-embedding-ada-002\")"
   ]
  },
  {
   "cell_type": "code",
   "execution_count": 4,
   "id": "c72f1e17-2a34-4d09-bf23-adc361ae543e",
   "metadata": {},
   "outputs": [],
   "source": [
    "from llama_index.agent.openai import OpenAIAgent\n",
    "from llama_index.core import load_index_from_storage, StorageContext\n",
    "from llama_index.core.node_parser import SentenceSplitter\n",
    "import os\n",
    "\n",
    "node_parser = SentenceSplitter()\n",
    "\n",
    "# Build agents dictionary\n",
    "agents = {}\n",
    "query_engines = {}\n",
    "\n",
    "# this is for the baseline\n",
    "all_nodes = []\n",
    "\n",
    "for idx, wiki_title in enumerate(wiki_titles):\n",
    "    nodes = node_parser.get_nodes_from_documents(city_docs[wiki_title])\n",
    "    all_nodes.extend(nodes)\n",
    "\n",
    "    if not os.path.exists(f\"./data/{wiki_title}\"):\n",
    "        # build vector index\n",
    "        vector_index = VectorStoreIndex(nodes)\n",
    "        vector_index.storage_context.persist(\n",
    "            persist_dir=f\"./data/{wiki_title}\"\n",
    "        )\n",
    "    else:\n",
    "        vector_index = load_index_from_storage(\n",
    "            StorageContext.from_defaults(persist_dir=f\"./data/{wiki_title}\"),\n",
    "        )\n",
    "\n",
    "    # build summary index\n",
    "    summary_index = SummaryIndex(nodes)\n",
    "    # define query engines\n",
    "    vector_query_engine = vector_index.as_query_engine(llm=llm)\n",
    "    summary_query_engine = summary_index.as_query_engine(llm=llm)\n",
    "\n",
    "    # define tools\n",
    "    query_engine_tools = [\n",
    "        QueryEngineTool(\n",
    "            query_engine=vector_query_engine,\n",
    "            metadata=ToolMetadata(\n",
    "                name=\"vector_tool\",\n",
    "                description=(\n",
    "                    \"Useful for questions related to specific aspects of\"\n",
    "                    f\" {wiki_title} (e.g. the history, arts and culture,\"\n",
    "                    \" sports, demographics, or more).\"\n",
    "                ),\n",
    "            ),\n",
    "        ),\n",
    "        QueryEngineTool(\n",
    "            query_engine=summary_query_engine,\n",
    "            metadata=ToolMetadata(\n",
    "                name=\"summary_tool\",\n",
    "                description=(\n",
    "                    \"Useful for any requests that require a holistic summary\"\n",
    "                    f\" of EVERYTHING about {wiki_title}. For questions about\"\n",
    "                    \" more specific sections, please use the vector_tool.\"\n",
    "                ),\n",
    "            ),\n",
    "        ),\n",
    "    ]\n",
    "\n",
    "    # build agent\n",
    "    function_llm = OpenAI(model=\"gpt-4\")\n",
    "    agent = OpenAIAgent.from_tools(\n",
    "        query_engine_tools,\n",
    "        llm=function_llm,\n",
    "        verbose=True,\n",
    "        system_prompt=f\"\"\"\\\n",
    "You are a specialized agent designed to answer queries about {wiki_title}.\n",
    "You must ALWAYS use at least one of the tools provided when answering a question; do NOT rely on prior knowledge.\\\n",
    "\"\"\",\n",
    "    )\n",
    "\n",
    "    agents[wiki_title] = agent\n",
    "    query_engines[wiki_title] = vector_index.as_query_engine(\n",
    "        similarity_top_k=2\n",
    "    )"
   ]
  },
  {
   "cell_type": "code",
   "execution_count": 5,
   "id": "f032ad98-4362-4777-a04f-6740af23c5d1",
   "metadata": {},
   "outputs": [],
   "source": [
    "# define tool for each document agent\n",
    "all_tools = []\n",
    "for wiki_title in wiki_titles:\n",
    "    wiki_summary = (\n",
    "        f\"This content contains Wikipedia articles about {wiki_title}. Use\"\n",
    "        f\" this tool if you want to answer any questions about {wiki_title}.\\n\"\n",
    "    )\n",
    "    doc_tool = QueryEngineTool(\n",
    "        query_engine=agents[wiki_title],\n",
    "        metadata=ToolMetadata(\n",
    "            name=f\"tool_{wiki_title}\",\n",
    "            description=wiki_summary,\n",
    "        ),\n",
    "    )\n",
    "    all_tools.append(doc_tool)\n",
    "# define an \"object\" index and retriever over these tools\n",
    "from llama_index.core import VectorStoreIndex\n",
    "from llama_index.core.objects import ObjectIndex, SimpleToolNodeMapping\n",
    "\n",
    "tool_mapping = SimpleToolNodeMapping.from_objects(all_tools)\n",
    "obj_index = ObjectIndex.from_objects(\n",
    "    all_tools,\n",
    "    tool_mapping,\n",
    "    VectorStoreIndex,\n",
    ")"
   ]
  },
  {
   "cell_type": "code",
   "execution_count": 11,
   "id": "ead73348-e0c5-4aba-a89e-7caa76d9f503",
   "metadata": {},
   "outputs": [],
   "source": [
    "from llama_index.agent.openai_legacy import FnRetrieverOpenAIAgent\n",
    "\n",
    "top_agent = FnRetrieverOpenAIAgent.from_retriever(\n",
    "    obj_index.as_retriever(similarity_top_k=3),\n",
    "    system_prompt=\"\"\" \\\n",
    "You are an agent designed to answer queries about a set of given cities.\n",
    "Please always use the tools provided to answer a question. Do not rely on prior knowledge.\\\n",
    "\n",
    "\"\"\",\n",
    "    verbose=True,\n",
    ")"
   ]
  },
  {
   "cell_type": "code",
   "execution_count": 12,
   "id": "84d4531c-08f7-4d5f-8b29-6965e9b22d30",
   "metadata": {},
   "outputs": [],
   "source": [
    "base_index = VectorStoreIndex(all_nodes)\n",
    "base_query_engine = base_index.as_query_engine(similarity_top_k=4)"
   ]
  },
  {
   "cell_type": "code",
   "execution_count": 18,
   "id": "80247e21-df47-40a2-9576-5c7006402a08",
   "metadata": {},
   "outputs": [
    {
     "name": "stdout",
     "output_type": "stream",
     "text": [
      "STARTING TURN 1\n",
      "---------------\n",
      "\n",
      "=== Calling Function ===\n",
      "Calling function: tool_Moscow with args: {\"input\":\"Living in Moscow\"}\n",
      "Added user message to memory: Living in Moscow\n",
      "=== Calling Function ===\n",
      "Calling function: summary_tool with args: {\n",
      "  \"input\": \"Living in Moscow\"\n",
      "}\n",
      "Got output: Moscow provides a dynamic living environment with an extensive transit system and plenty of parks. The city boasts prestigious educational institutions and a diverse population, including students. Moscow is a key education hub, with well-known universities such as the Moscow Institute of Physics and Technology and the Moscow Engineering Physics Institute. In recent times, there has been an increase in commercial and private educational establishments offering courses in business and management. Moreover, Moscow is a significant scientific hub, hosting the Russian Academy of Sciences headquarters and numerous research facilities.\n",
      "========================\n",
      "\n",
      "Got output: Living in Moscow offers a vibrant and dynamic environment. The city has an extensive transit system, including the Moscow Metro, one of the deepest subway systems in the world, and a well-developed network of buses, trams, and trolleybuses. This makes commuting in the city relatively easy and efficient.\n",
      "\n",
      "Moscow is also known for its green spaces, with numerous parks and gardens where residents can relax and enjoy outdoor activities. Some of the most popular ones include Gorky Park, Sokolniki Park, and the Botanical Garden of Academy of Sciences.\n",
      "\n",
      "Education is a major focus in Moscow. The city is home to prestigious institutions like the Moscow Institute of Physics and Technology and the Moscow Engineering Physics Institute. There are also many commercial and private educational establishments offering courses in business and management, catering to the city's growing business sector.\n",
      "\n",
      "Moreover, Moscow is a significant scientific hub. It hosts the headquarters of the Russian Academy of Sciences and numerous research facilities, offering opportunities for those interested in scientific research and development.\n",
      "\n",
      "The city has a diverse population, including a large number of students, making it a culturally rich and vibrant place to live.\n",
      "========================\n",
      "\n",
      "STARTING TURN 2\n",
      "---------------\n",
      "\n"
     ]
    }
   ],
   "source": [
    "# should use Boston agent -> vector tool\n",
    "response = top_agent.query(\"Tell me about what it's like to live in Moscow\")"
   ]
  },
  {
   "cell_type": "code",
   "execution_count": 13,
   "id": "5941040b-4df2-46f2-86bd-92bc730e2dc1",
   "metadata": {},
   "outputs": [
    {
     "name": "stdout",
     "output_type": "stream",
     "text": [
      "STARTING TURN 1\n",
      "---------------\n",
      "\n",
      "=== Calling Function ===\n",
      "Calling function: tool_Boston with args: {\"input\":\"arts and culture\"}\n",
      "Added user message to memory: arts and culture\n",
      "=== Calling Function ===\n",
      "Calling function: vector_tool with args: {\n",
      "  \"input\": \"arts and culture\"\n",
      "}\n",
      "Got output: Boston has a rich arts and culture scene, with a strong emphasis on music and performing arts. The city is home to renowned institutions such as the Boston Symphony Orchestra, the Boston Ballet, and various theaters in the Theater District. Additionally, Boston hosts several major annual events like the Boston Early Music Festival, the Boston Arts Festival, and the Boston gay pride parade. The city also boasts a number of art museums and galleries, including the Museum of Fine Arts and the Isabella Stewart Gardner Museum, making it a vibrant hub for artistic expression and appreciation.\n",
      "========================\n",
      "\n",
      "Got output: Boston is renowned for its vibrant arts and culture scene. The city is home to prestigious institutions such as the Boston Symphony Orchestra and the Boston Ballet, both of which contribute significantly to the city's cultural landscape. Boston's Theater District is a hub for performing arts, hosting a variety of shows and performances.\n",
      "\n",
      "In addition to these, Boston hosts several major annual events that celebrate the city's artistic and cultural diversity. These include the Boston Early Music Festival, the Boston Arts Festival, and the Boston gay pride parade.\n",
      "\n",
      "The city is also a haven for art lovers, with numerous museums and galleries. The Museum of Fine Arts and the Isabella Stewart Gardner Museum are among the most notable, offering a wide range of art collections that cater to different tastes and interests.\n",
      "\n",
      "In summary, Boston's arts and culture scene is a vibrant mix of music, performing arts, festivals, and visual arts, making it a dynamic hub for artistic expression and appreciation.\n",
      "========================\n",
      "\n",
      "STARTING TURN 2\n",
      "---------------\n",
      "\n"
     ]
    }
   ],
   "source": [
    "# should use Boston agent -> vector tool\n",
    "response = top_agent.query(\"Tell me about the arts and culture in Boston\")"
   ]
  },
  {
   "cell_type": "code",
   "execution_count": 14,
   "id": "a06ac970-ec22-4723-9b2e-88b16834a750",
   "metadata": {},
   "outputs": [
    {
     "name": "stdout",
     "output_type": "stream",
     "text": [
      "Boston is renowned for its vibrant arts and culture scene. The city is home to prestigious institutions such as the Boston Symphony Orchestra and the Boston Ballet, both of which contribute significantly to the city's cultural landscape. Boston's Theater District is a hub for performing arts, hosting a variety of shows and performances.\n",
      "\n",
      "In addition to these, Boston hosts several major annual events that celebrate the city's artistic and cultural diversity. These include the Boston Early Music Festival, the Boston Arts Festival, and the Boston gay pride parade.\n",
      "\n",
      "The city is also a haven for art lovers, with numerous museums and galleries. The Museum of Fine Arts and the Isabella Stewart Gardner Museum are among the most notable, offering a wide range of art collections that cater to different tastes and interests.\n",
      "\n",
      "In summary, Boston's arts and culture scene is a vibrant mix of music, performing arts, festivals, and visual arts, making it a dynamic hub for artistic expression and appreciation.\n"
     ]
    }
   ],
   "source": [
    "print(response)"
   ]
  },
  {
   "cell_type": "code",
   "execution_count": 15,
   "id": "853c4dea-e958-4fa7-87da-80f07ffa16f5",
   "metadata": {},
   "outputs": [
    {
     "name": "stdout",
     "output_type": "stream",
     "text": [
      "Boston has a rich arts and culture scene with a strong emphasis on literature, music, performing arts, and museums. The city has a deep literary history, being home to renowned writers like Ralph Waldo Emerson, Henry David Thoreau, and Nathaniel Hawthorne. Boston's music culture is vibrant, with institutions like the Boston Symphony Orchestra and the Boston Pops Orchestra being highly acclaimed. The city also boasts a variety of performing arts organizations, theaters, and annual events such as the Boston Early Music Festival and the Boston Arts Festival. Additionally, Boston is home to several art museums and galleries, including the Museum of Fine Arts and the Isabella Stewart Gardner Museum, showcasing a diverse range of artistic expressions.\n"
     ]
    }
   ],
   "source": [
    "# baseline\n",
    "response = base_query_engine.query(\n",
    "    \"Tell me about the arts and culture in Boston\"\n",
    ")\n",
    "print(str(response))\n"
   ]
  },
  {
   "cell_type": "code",
   "execution_count": null,
   "id": "497bc22e-2681-4f89-b8bc-280c947c22aa",
   "metadata": {},
   "outputs": [],
   "source": []
  }
 ],
 "metadata": {
  "kernelspec": {
   "display_name": "Python 3 (ipykernel)",
   "language": "python",
   "name": "python3"
  },
  "language_info": {
   "codemirror_mode": {
    "name": "ipython",
    "version": 3
   },
   "file_extension": ".py",
   "mimetype": "text/x-python",
   "name": "python",
   "nbconvert_exporter": "python",
   "pygments_lexer": "ipython3",
   "version": "3.10.12"
  }
 },
 "nbformat": 4,
 "nbformat_minor": 5
}
