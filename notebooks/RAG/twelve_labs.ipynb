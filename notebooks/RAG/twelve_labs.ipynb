{
 "cells": [
  {
   "cell_type": "code",
   "execution_count": 53,
   "id": "dbe40c41-3351-4c9a-8f5a-c891c25b9087",
   "metadata": {},
   "outputs": [],
   "source": [
    "from llama_index.core import SummaryIndex\n",
    "from llama_index.readers.web import SimpleWebPageReader\n",
    "from IPython.display import Markdown, display\n",
    "import os\n",
    "from llama_index.core.query_engine import CitationQueryEngine\n",
    "from llama_index.core import VectorStoreIndex, SimpleDirectoryReader\n",
    "from llama_index.readers.web import TrafilaturaWebReader\n",
    "import pandas as pd\n",
    "from pydantic.v1.error_wrappers import ValidationError\n",
    "from joblib import Parallel, delayed\n",
    "from llama_index.llms.openai import OpenAI\n",
    "from llama_index.embeddings.openai import OpenAIEmbedding\n",
    "from llama_index.core import Settings\n",
    "\n",
    "Settings.llm = OpenAI(temperature=0, model=\"gpt-3.5-turbo\")\n",
    "Settings.embed_model = OpenAIEmbedding(model=\"text-embedding-ada-002\")"
   ]
  },
  {
   "cell_type": "code",
   "execution_count": 39,
   "id": "bb57a4bb-fcac-413d-bc4a-0d425225902a",
   "metadata": {},
   "outputs": [],
   "source": [
    "import requests\n",
    "\n",
    "def check_url(url):\n",
    "    try:\n",
    "        response = requests.get(url)\n",
    "        if response.ok:   # alternatively you can use response.status_code == 200\n",
    "            return True\n",
    "        else:\n",
    "            return False\n",
    "    except:\n",
    "        return False"
   ]
  },
  {
   "cell_type": "code",
   "execution_count": 38,
   "id": "144ad595-97fb-484b-ae86-efbde1556a2e",
   "metadata": {},
   "outputs": [
    {
     "data": {
      "text/plain": [
       "<Response [200]>"
      ]
     },
     "execution_count": 38,
     "metadata": {},
     "output_type": "execute_result"
    }
   ],
   "source": [
    "requests.get('https://docs.twelvelabs.io/v1.2/docs/introduction')"
   ]
  },
  {
   "cell_type": "code",
   "execution_count": 4,
   "id": "6c12dc6f-9ea1-42c2-9b4e-58cad2937716",
   "metadata": {},
   "outputs": [
    {
     "data": {
      "text/html": [
       "<div>\n",
       "<style scoped>\n",
       "    .dataframe tbody tr th:only-of-type {\n",
       "        vertical-align: middle;\n",
       "    }\n",
       "\n",
       "    .dataframe tbody tr th {\n",
       "        vertical-align: top;\n",
       "    }\n",
       "\n",
       "    .dataframe thead th {\n",
       "        text-align: right;\n",
       "    }\n",
       "</style>\n",
       "<table border=\"1\" class=\"dataframe\">\n",
       "  <thead>\n",
       "    <tr style=\"text-align: right;\">\n",
       "      <th></th>\n",
       "      <th>category</th>\n",
       "      <th>url</th>\n",
       "      <th>picture</th>\n",
       "      <th>date</th>\n",
       "    </tr>\n",
       "  </thead>\n",
       "  <tbody>\n",
       "    <tr>\n",
       "      <th>0</th>\n",
       "      <td>Home Page</td>\n",
       "      <td>https://twelvelabs.io/</td>\n",
       "      <td>no</td>\n",
       "      <td>Internal</td>\n",
       "    </tr>\n",
       "    <tr>\n",
       "      <th>1</th>\n",
       "      <td>Main menu</td>\n",
       "      <td>https://twelvelabs.io/technology</td>\n",
       "      <td>no</td>\n",
       "      <td>Internal</td>\n",
       "    </tr>\n",
       "    <tr>\n",
       "      <th>2</th>\n",
       "      <td>Main menu</td>\n",
       "      <td>https://twelvelabs.io/product</td>\n",
       "      <td>no</td>\n",
       "      <td>Internal</td>\n",
       "    </tr>\n",
       "    <tr>\n",
       "      <th>3</th>\n",
       "      <td>Guides v1.2</td>\n",
       "      <td>https://docs.twelvelabs.io/v1.2/docs/introduction</td>\n",
       "      <td>yes</td>\n",
       "      <td>Internal</td>\n",
       "    </tr>\n",
       "    <tr>\n",
       "      <th>4</th>\n",
       "      <td>Guides v1.2</td>\n",
       "      <td>https://docs.twelvelabs.io/v1.2/docs/introduction</td>\n",
       "      <td>yes</td>\n",
       "      <td>Internal</td>\n",
       "    </tr>\n",
       "  </tbody>\n",
       "</table>\n",
       "</div>"
      ],
      "text/plain": [
       "      category                                                url picture  \\\n",
       "0    Home Page                             https://twelvelabs.io/      no   \n",
       "1    Main menu                   https://twelvelabs.io/technology      no   \n",
       "2    Main menu                      https://twelvelabs.io/product      no   \n",
       "3  Guides v1.2  https://docs.twelvelabs.io/v1.2/docs/introduction     yes   \n",
       "4  Guides v1.2  https://docs.twelvelabs.io/v1.2/docs/introduction     yes   \n",
       "\n",
       "       date  \n",
       "0  Internal  \n",
       "1  Internal  \n",
       "2  Internal  \n",
       "3  Internal  \n",
       "4  Internal  "
      ]
     },
     "execution_count": 4,
     "metadata": {},
     "output_type": "execute_result"
    }
   ],
   "source": [
    "df = pd.read_table('links.txt', header=None)\n",
    "df.columns = ['category','url','picture','date']\n",
    "df.head()"
   ]
  },
  {
   "cell_type": "code",
   "execution_count": 40,
   "id": "5b58330e-931e-45ae-b8fc-7edc7d368e4a",
   "metadata": {},
   "outputs": [],
   "source": [
    "df['url_ok'] = Parallel(n_jobs=32)(delayed(check_url)(url) for url in df['url'])\n",
    "df['url_ok'].sum()"
   ]
  },
  {
   "cell_type": "code",
   "execution_count": 43,
   "id": "4042e7d0-9cb7-4d4a-981c-f3adbac0b7b5",
   "metadata": {},
   "outputs": [],
   "source": [
    "documents = TrafilaturaWebReader(html_to_text=True).load_data(df[df['url_ok']]['url'].tolist())"
   ]
  },
  {
   "cell_type": "code",
   "execution_count": 44,
   "id": "d23d4e93-aca8-4995-b3d1-4b2d08d8533b",
   "metadata": {},
   "outputs": [],
   "source": [
    "index = SummaryIndex.from_documents(documents)"
   ]
  },
  {
   "cell_type": "code",
   "execution_count": 45,
   "id": "e291cffd-ac15-4e33-8521-a8f1de61b5dc",
   "metadata": {},
   "outputs": [],
   "source": [
    "query_engine = CitationQueryEngine.from_args(\n",
    "    index,\n",
    "    similarity_top_k=3,\n",
    "    # here we can control how granular citation sources are, the default is 512\n",
    "citation_chunk_size=512,\n",
    ")"
   ]
  },
  {
   "cell_type": "code",
   "execution_count": 51,
   "id": "f9946785-5bc1-4d9c-8a12-af4fe1fe3a7a",
   "metadata": {},
   "outputs": [
    {
     "data": {
      "text/plain": [
       "307"
      ]
     },
     "execution_count": 51,
     "metadata": {},
     "output_type": "execute_result"
    }
   ],
   "source": [
    "retriever = index.as_retriever()\n",
    "nodes = retriever.retrieve(\"How does twelve labs technology work?\")\n",
    "len(nodes)"
   ]
  },
  {
   "cell_type": "code",
   "execution_count": 46,
   "id": "56c9130b-5c1f-4fd8-b50c-3c8380fdb8b1",
   "metadata": {},
   "outputs": [
    {
     "name": "stderr",
     "output_type": "stream",
     "text": [
      "\n",
      "KeyboardInterrupt\n",
      "\n"
     ]
    }
   ],
   "source": [
    "response = query_engine.query(\"How does twelve labs technology work?\")\n",
    "display(Markdown(f\"<b>{response}</b>\"))"
   ]
  },
  {
   "cell_type": "code",
   "execution_count": null,
   "id": "be761d49-36e8-4940-8799-e43d0d20ab38",
   "metadata": {},
   "outputs": [],
   "source": [
    "response = query_engine.query(\"What does twelve labs do?\")\n",
    "display(Markdown(f\"<b>{response}</b>\"))\n"
   ]
  },
  {
   "cell_type": "code",
   "execution_count": null,
   "id": "22f776c8-6f33-4536-809c-c197696f677c",
   "metadata": {},
   "outputs": [],
   "source": [
    "response = query_engine.query(\"what is pagination?\")\n",
    "display(Markdown(f\"<b>{response}</b>\"))\n"
   ]
  },
  {
   "cell_type": "code",
   "execution_count": null,
   "id": "e373eee6-b034-443f-b578-2778761f6258",
   "metadata": {},
   "outputs": [],
   "source": [
    "response = query_engine.query(\"what is the engine object?\")\n",
    "display(Markdown(f\"<b>{response}</b>\"))\n"
   ]
  },
  {
   "cell_type": "code",
   "execution_count": 24,
   "id": "58e393e8-e69d-427b-9fe7-a519bcd71a18",
   "metadata": {},
   "outputs": [
    {
     "data": {
      "text/markdown": [
       "<b>Unfortunately, none of the provided sources contain information about the engine object.</b>"
      ],
      "text/plain": [
       "<IPython.core.display.Markdown object>"
      ]
     },
     "metadata": {},
     "output_type": "display_data"
    }
   ],
   "source": [
    "display(Markdown(f\"<b>{response}</b>\"))\n"
   ]
  },
  {
   "cell_type": "code",
   "execution_count": 49,
   "id": "95517cb6-1e4e-4b1c-b91e-0162952d429d",
   "metadata": {},
   "outputs": [
    {
     "data": {
      "text/plain": [
       "NodeWithScore(node=TextNode(id_='5d5f791b-441b-400b-aa79-846030e9d5e3', embedding=None, metadata={}, excluded_embed_metadata_keys=[], excluded_llm_metadata_keys=[], relationships={<NodeRelationship.SOURCE: '1'>: RelatedNodeInfo(node_id='https://docs.twelvelabs.io/docs/playground-classify', node_type=<ObjectType.DOCUMENT: '4'>, metadata={}, hash='b0fef5a343244815e6c990b5c2289e74e8c7b60babb04f4c88e0b0d4361f4dce'), <NodeRelationship.PREVIOUS: '2'>: RelatedNodeInfo(node_id='67d559b4-2ae5-4acd-bfd5-d180b94ceb86', node_type=<ObjectType.TEXT: '1'>, metadata={}, hash='d4d77c6924efb51f1fc9c171ff86017b50e02531a6983b78e5236d7af6f3b4b7'), <NodeRelationship.NEXT: '3'>: RelatedNodeInfo(node_id='17cb36aa-a009-44e0-90ea-57e978a1ca87', node_type=<ObjectType.TEXT: '1'>, metadata={}, hash='554483c8aad89fcff5cdf6b494df43971a0f153c06bfcbee1c1cb5fbf69ca2ff')}, text='Source 12:\\nClassify\\nThe platform uses a hierarchical structure to classify your videos. Groups of classes form the top level of the structure. and each group comprises multiple classes. Classes serve as the primary units of organization, meaning that your videos are categorized into classes. Each class contains multiple prompts that define its characteristics. The prompts act as building blocks for the classification system, enabling a precise placement of videos into relevant classes based on their content.\\nHistorically, video classification was constrained to a predetermined set of classes, primarily targeting the recognition of events, actions, objects, and similar attributes. However, the Twelve Labs Video Understanding Platform now allows you to customize classification criteria without the need to retrain the model, eliminating the complexities associated with model training.\\nFollow the steps in this guide to classify your videos.\\nClassify Videos\\n-\\nFrom the Indexes page, find the index containing the videos to be classified and select the Classify button:\\n-\\n(Optional) The Playground offers a set of predefined classes, and it also allows you to add custom ones. To manage your classes, select the Edit button, which opens the Class Group page. Once there, refer to the Manage classes section for instructions:\\n-\\nFrom the Select class group drop-down list, choose a group of classes:\\n-\\n(Optional) By default, the Playground classifies your videos based on all the classes in the group you selected in the previous step. You can use the Filter by class drop-down list to narrow down the list of classes:\\n-\\nTo perform a classification request, select the Run button. The Playground will group the results by class. For each video clip, the Playground shows the name of the video file, a thumbnail from the middle of the video, the score, and the duration ratio.\\n-\\n(Optional) You can expand the Advanced parameters section and set the following advanced parameters:\\n-\\nMinimum video score: This slider allows you to filter on the confidence level that the video clips match the specified class.\\n-\\nMinimum duration ratio: This slider allows you to filter on the duration ratio, which represents the sum of the lengths of the matching video clips inside a video divided by the total length of the video. By adjusting this slider, you can control the inclusion or exclusion of specific video clips based on their duration relative to the overall video length.\\n-\\n-\\n(Optional) Use the View code button to view the code snippet that the platform used to perform this request. You can copy and paste it into your application.\\n', start_char_idx=0, end_char_idx=4875, text_template='{metadata_str}\\n\\n{content}', metadata_template='{key}: {value}', metadata_seperator='\\n'), score=None)"
      ]
     },
     "execution_count": 49,
     "metadata": {},
     "output_type": "execute_result"
    }
   ],
   "source": [
    "response.source_nodes[11]"
   ]
  }
 ],
 "metadata": {
  "kernelspec": {
   "display_name": "Python 3 (ipykernel)",
   "language": "python",
   "name": "python3"
  },
  "language_info": {
   "codemirror_mode": {
    "name": "ipython",
    "version": 3
   },
   "file_extension": ".py",
   "mimetype": "text/x-python",
   "name": "python",
   "nbconvert_exporter": "python",
   "pygments_lexer": "ipython3",
   "version": "3.10.12"
  }
 },
 "nbformat": 4,
 "nbformat_minor": 5
}
