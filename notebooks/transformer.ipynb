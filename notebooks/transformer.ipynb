{
 "cells": [
  {
   "cell_type": "code",
   "execution_count": 1,
   "id": "3dc488ba-ae01-4a73-b81e-5db7e81c9276",
   "metadata": {},
   "outputs": [],
   "source": [
    "%load_ext autoreload\n",
    "%autoreload 2"
   ]
  },
  {
   "cell_type": "code",
   "execution_count": 2,
   "id": "8312c9eb-9049-4733-b38e-efe737e6108a",
   "metadata": {},
   "outputs": [
    {
     "name": "stderr",
     "output_type": "stream",
     "text": [
      "/static/user/spock/.cache/pypoetry/virtualenvs/ai-iwSNfyWa-py3.10/lib/python3.10/site-packages/tqdm/auto.py:21: TqdmWarning: IProgress not found. Please update jupyter and ipywidgets. See https://ipywidgets.readthedocs.io/en/stable/user_install.html\n",
      "  from .autonotebook import tqdm as notebook_tqdm\n"
     ]
    }
   ],
   "source": [
    "from ai.datamodules.text import TextDataModule\n",
    "from ai.constants import REPO_DIR\n",
    "from ai.models.nlp.transformer import Transformer\n",
    "from ai.models.nlp.transformer3 import Transformer as Transformer2\n",
    "from ai.misc_utils import get_vocab_size"
   ]
  },
  {
   "cell_type": "code",
   "execution_count": 3,
   "id": "a18b7147-b7e4-4931-bb7f-985743eb1465",
   "metadata": {},
   "outputs": [],
   "source": [
    "fname = f'{REPO_DIR}/data/shakespeare.txt'\n",
    "vocab_size = get_vocab_size(fname)\n",
    "block_size = 256\n",
    "batch_size = 2\n",
    "n_embd = 32\n",
    "\n",
    "dm = TextDataModule.Config(fname=fname, block_size=block_size, batch_size=batch_size, num_workers=0).i()"
   ]
  },
  {
   "cell_type": "code",
   "execution_count": 4,
   "id": "e8ce3eb3-929b-4487-b837-d4a2de5d3f02",
   "metadata": {},
   "outputs": [],
   "source": [
    "# c = c1 = Transformer.Config(vocab_size=vocab_size, n_embd=n_embd, n_heads=4, n_blocks=2, dropout=0.2,\n",
    "#                        block_size=block_size)\n",
    "c = Transformer2.Config(vocab_size=vocab_size, n_embd=n_embd, n_heads=4, n_blocks=2, dropout=0.2,\n",
    "                       block_size=block_size)"
   ]
  },
  {
   "cell_type": "code",
   "execution_count": 5,
   "id": "ef455841-df99-4e51-9152-fb71bad48e32",
   "metadata": {},
   "outputs": [],
   "source": [
    "for x,y in dm.train_dataloader():\n",
    "    break"
   ]
  },
  {
   "cell_type": "code",
   "execution_count": 6,
   "id": "cba4ae54-c8e0-4092-bd3b-91c6a031b590",
   "metadata": {},
   "outputs": [],
   "source": [
    "import torch\n",
    "torch.manual_seed(1)\n",
    "model = c.i()"
   ]
  },
  {
   "cell_type": "code",
   "execution_count": 7,
   "id": "0ad2323e-4d83-44c9-a6d8-4ae04315f437",
   "metadata": {},
   "outputs": [
    {
     "data": {
      "text/plain": [
       "tensor([[[-0.5106, -0.4883, -0.2213,  ...,  0.5135,  0.6589, -0.5288],\n",
       "         [ 0.0059, -0.1837,  0.1019,  ..., -0.0641, -0.6460, -0.2449],\n",
       "         [ 0.0297, -0.4568, -0.3425,  ...,  0.6316, -0.0912, -0.2744],\n",
       "         ...,\n",
       "         [-0.4546,  0.1096,  0.4184,  ..., -0.3855, -0.5672,  0.2856],\n",
       "         [ 0.0375,  0.0167,  0.5121,  ..., -0.4606, -0.8091, -0.1599],\n",
       "         [ 0.3481, -0.5106, -0.6157,  ...,  0.4083,  0.6206, -0.2870]],\n",
       "\n",
       "        [[-0.5989, -0.9339, -0.3969,  ..., -0.6836,  0.3041, -0.4241],\n",
       "         [-0.5685, -0.8701,  0.0161,  ..., -0.5150, -0.5112,  0.2682],\n",
       "         [ 0.1575, -0.3644,  0.5215,  ...,  0.5324, -0.6748,  0.5271],\n",
       "         ...,\n",
       "         [ 0.0956, -0.3694, -1.2192,  ..., -0.2393, -0.9070, -0.0547],\n",
       "         [ 0.1386,  0.0098,  0.6312,  ..., -0.3457, -0.8452, -0.2361],\n",
       "         [-0.0335, -0.7762, -0.1867,  ...,  0.3534,  0.3137, -0.3658]]],\n",
       "       grad_fn=<ViewBackward0>)"
      ]
     },
     "execution_count": 7,
     "metadata": {},
     "output_type": "execute_result"
    }
   ],
   "source": [
    "model(x)"
   ]
  },
  {
   "cell_type": "code",
   "execution_count": 30,
   "id": "11fb2ec0-54c1-4217-8a51-14a9f8987fbf",
   "metadata": {},
   "outputs": [
    {
     "data": {
      "text/plain": [
       "tensor([[ 1, 50, 43,  ...,  1, 63, 53],\n",
       "        [ 1, 51, 53,  ..., 51, 39, 49],\n",
       "        [57,  1, 40,  ..., 59, 51, 40],\n",
       "        ...,\n",
       "        [42,  1, 39,  ..., 43, 57,  1],\n",
       "        [ 1, 40, 43,  ..., 56, 59, 47],\n",
       "        [15, 39, 54,  ..., 43,  6,  1]])"
      ]
     },
     "execution_count": 30,
     "metadata": {},
     "output_type": "execute_result"
    }
   ],
   "source": [
    "x"
   ]
  },
  {
   "cell_type": "code",
   "execution_count": 31,
   "id": "bb702278-a1f2-4082-a322-c84c04b323b6",
   "metadata": {},
   "outputs": [
    {
     "data": {
      "text/plain": [
       "tensor([[50, 43, 39,  ..., 63, 53, 59],\n",
       "        [51, 53, 56,  ..., 39, 49, 43],\n",
       "        [ 1, 40, 59,  ..., 51, 40, 43],\n",
       "        ...,\n",
       "        [ 1, 39, 50,  ..., 57,  1, 47],\n",
       "        [40, 43, 57,  ..., 59, 47, 52],\n",
       "        [39, 54, 47,  ...,  6,  1, 51]])"
      ]
     },
     "execution_count": 31,
     "metadata": {},
     "output_type": "execute_result"
    }
   ],
   "source": [
    "y"
   ]
  },
  {
   "cell_type": "code",
   "execution_count": null,
   "id": "10332417-878d-4bc9-b0fe-ed0789aae93d",
   "metadata": {},
   "outputs": [],
   "source": []
  }
 ],
 "metadata": {
  "kernelspec": {
   "display_name": "Python 3 (ipykernel)",
   "language": "python",
   "name": "python3"
  },
  "language_info": {
   "codemirror_mode": {
    "name": "ipython",
    "version": 3
   },
   "file_extension": ".py",
   "mimetype": "text/x-python",
   "name": "python",
   "nbconvert_exporter": "python",
   "pygments_lexer": "ipython3",
   "version": "3.10.12"
  }
 },
 "nbformat": 4,
 "nbformat_minor": 5
}
