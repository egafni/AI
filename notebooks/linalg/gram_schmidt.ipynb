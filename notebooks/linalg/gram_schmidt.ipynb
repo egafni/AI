{
 "cells": [
  {
   "cell_type": "code",
   "execution_count": 1,
   "id": "cb8d01e8-0c6c-4fa4-89ff-946c6ce1f622",
   "metadata": {},
   "outputs": [],
   "source": [
    "import numpy as np\n",
    "import matplotlib.pyplot as plt"
   ]
  },
  {
   "cell_type": "code",
   "execution_count": 2,
   "id": "8cde3b26-445f-4bc0-9c56-acf719d13b99",
   "metadata": {},
   "outputs": [
    {
     "data": {
      "text/plain": [
       "(array([-1.66666667,  0.        ,  1.66666667,  3.33333333]),\n",
       " 8.881784197001252e-16)"
      ]
     },
     "execution_count": 2,
     "metadata": {},
     "output_type": "execute_result"
    }
   ],
   "source": [
    "a = np.array([1,2,3,4])\n",
    "b = np.array([4,3,2,1])\n",
    "ahat = a - (a@b)/(b@b)*b\n",
    "ahat, ahat@b"
   ]
  },
  {
   "cell_type": "code",
   "execution_count": 3,
   "id": "248dd64c-046d-4954-b8ab-1e656fdf40ab",
   "metadata": {},
   "outputs": [],
   "source": [
    "def gram_schmidt(a):\n",
    "    q = []\n",
    "    for i in range(len(a)):\n",
    "        \n",
    "        #orthogonalization to all previous vectors\n",
    "        q_tilde = a[i]\n",
    "        for j in range(len(q)):\n",
    "            q_tilde = q_tilde - (q[j] @ a[i])*q[j] # this works because |q[j]|==1\n",
    "            \n",
    "            #Test for dependennce\n",
    "                \n",
    "            if np.sqrt(sum(q_tilde**2)) <= 1e-10: \n",
    "                print('Vectors are linearly dependent.')\n",
    "                print('GS algorithm terminates at iteration ', i+1)\n",
    "                return q\n",
    "                \n",
    "        # Normalization\n",
    "        else:\n",
    "            q_tilde = q_tilde / np.sqrt(sum(q_tilde**2))\n",
    "            q.append(q_tilde)\n",
    "    print('Vectors are linearly independent.')\n",
    "    return np.array(q).T"
   ]
  },
  {
   "cell_type": "code",
   "execution_count": 4,
   "id": "9dabcbb4-8e9c-47be-9053-161273afe7f9",
   "metadata": {},
   "outputs": [
    {
     "name": "stdout",
     "output_type": "stream",
     "text": [
      "Vectors are linearly independent.\n",
      "[[-0.5  0.5 -0.5  0.5]\n",
      " [ 0.5  0.5  0.5  0.5]\n",
      " [-0.5 -0.5  0.5  0.5]]\n",
      "Norm of q[0] : 1.0\n",
      "Inner product of q[0] and q[1] : 0.0\n",
      "Inner product of q[0] and q[2] : 0.0\n",
      "Norm of q[1] : 1.0\n",
      "Inner product of q[1] and q[2] : 0.0\n",
      "Norm of q[2] : 1.0\n"
     ]
    }
   ],
   "source": [
    "a = np.array([[-1, 1, -1, 1], \n",
    "              [-1, 3, -1, 3],\n",
    "              [1, 3, 5, 7]]) \n",
    "q = gram_schmidt(a).T\n",
    "print(q)\n",
    "#Test orthonormality\n",
    "print('Norm of q[0] :', (sum(q[0]**2))**0.5)\n",
    "print('Inner product of q[0] and q[1] :', q[0] @ q[1])\n",
    "print('Inner product of q[0] and q[2] :', q[0] @ q[2])\n",
    "print('Norm of q[1] :', (sum(q[1]**2))**0.5)\n",
    "print('Inner product of q[1] and q[2] :', q[1] @ q[2])\n",
    "print('Norm of q[2] :', (sum(q[2]**2))**0.5)"
   ]
  },
  {
   "cell_type": "code",
   "execution_count": 21,
   "id": "765b3f96-d532-4643-9eda-86c64731ec9a",
   "metadata": {},
   "outputs": [
    {
     "name": "stdout",
     "output_type": "stream",
     "text": [
      "Vectors are linearly independent.\n"
     ]
    }
   ],
   "source": [
    "A = np.array([[0,1,0,0,1],\n",
    "              [1,0,1,2,0],\n",
    "              [0,0,1,1,1], \n",
    "              [1,0,0,0,0],\n",
    "              [0,0,0,0,3]])\n",
    "\n",
    "def QR_factorization(A):\n",
    "    Q = gram_schmidt(A)\n",
    "    R = Q @ A\n",
    "    return Q.T, R\n",
    "Q, R = QR_factorization(A)\n",
    "Q = Q.round(2)\n",
    "R = R.round(2)"
   ]
  },
  {
   "cell_type": "code",
   "execution_count": 22,
   "id": "b1d40038-d911-438a-bb72-1fe9f6355126",
   "metadata": {},
   "outputs": [
    {
     "data": {
      "text/plain": [
       "array([[ 0.  ,  0.41, -0.5 ,  0.76,  0.  ],\n",
       "       [ 0.71,  0.  , -0.5 , -0.33, -0.38],\n",
       "       [ 0.  ,  0.41,  0.5 ,  0.11, -0.76],\n",
       "       [ 0.  ,  0.82, -0.  , -0.44,  0.38],\n",
       "       [ 0.71,  0.  ,  0.5 ,  0.33,  0.38]])"
      ]
     },
     "execution_count": 22,
     "metadata": {},
     "output_type": "execute_result"
    }
   ],
   "source": [
    "Q.T"
   ]
  },
  {
   "cell_type": "code",
   "execution_count": 24,
   "id": "1df45418-7752-4482-9fa8-6d6f603e0085",
   "metadata": {},
   "outputs": [
    {
     "data": {
      "text/plain": [
       "array([[ 1.00e+00,  0.00e+00,  0.00e+00,  0.00e+00,  0.00e+00],\n",
       "       [ 0.00e+00,  1.00e+00,  0.00e+00,  0.00e+00,  5.55e-17],\n",
       "       [ 0.00e+00,  0.00e+00,  1.00e+00,  0.00e+00,  1.11e-16],\n",
       "       [ 0.00e+00,  0.00e+00,  0.00e+00,  1.00e+00, -5.55e-17],\n",
       "       [ 0.00e+00,  0.00e+00,  0.00e+00,  0.00e+00,  1.00e+00]])"
      ]
     },
     "execution_count": 24,
     "metadata": {},
     "output_type": "execute_result"
    }
   ],
   "source": [
    "C = np.linalg.inv(A)\n",
    "C@A"
   ]
  },
  {
   "cell_type": "code",
   "execution_count": null,
   "id": "25e18944-ab30-4944-b1fc-043449d30560",
   "metadata": {},
   "outputs": [],
   "source": []
  }
 ],
 "metadata": {
  "kernelspec": {
   "display_name": "Python 3 (ipykernel)",
   "language": "python",
   "name": "python3"
  },
  "language_info": {
   "codemirror_mode": {
    "name": "ipython",
    "version": 3
   },
   "file_extension": ".py",
   "mimetype": "text/x-python",
   "name": "python",
   "nbconvert_exporter": "python",
   "pygments_lexer": "ipython3",
   "version": "3.10.12"
  }
 },
 "nbformat": 4,
 "nbformat_minor": 5
}
