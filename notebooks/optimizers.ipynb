{
 "cells": [
  {
   "cell_type": "code",
   "id": "initial_id",
   "metadata": {
    "collapsed": true,
    "ExecuteTime": {
     "end_time": "2024-07-25T21:27:53.240647Z",
     "start_time": "2024-07-25T21:27:53.237864Z"
    }
   },
   "source": [
    "import torch\n",
    "from ai.optimizers.adam import CustomAdam\n",
    "from torch.optim import Adam\n",
    "\n",
    "def rosenbrock_loss(x, y):\n",
    "    term_1 = (1.0 - x) **2\n",
    "    term_2 = 100 * (y - torch.pow(x, 2))**2\n",
    "    return term_1 + term_2\n",
    "\n",
    "from random import uniform\n",
    "x = uniform(-1, 1)\n",
    "y = uniform(-1, 1)\n",
    "xy = torch.tensor((x,y), requires_grad = True, dtype = torch.float64)"
   ],
   "outputs": [],
   "execution_count": 52
  },
  {
   "metadata": {
    "ExecuteTime": {
     "end_time": "2024-07-25T21:52:09.791771Z",
     "start_time": "2024-07-25T21:52:09.786625Z"
    }
   },
   "cell_type": "code",
   "source": [
    "B=2\n",
    "F=2\n",
    "H=4\n",
    "O=2\n",
    "\n",
    "w1 = torch.randn((F,H), requires_grad=True)\n",
    "b1 = torch.zeros(H, requires_grad=True)\n",
    "w2 = torch.randn((H,O), requires_grad=True)\n",
    "b2 = torch.zeros(O, requires_grad=True)\n",
    "\n",
    "X = torch.randn((B,F))\n",
    "y = (torch.randn((B,1))>0).int().flatten()"
   ],
   "id": "3be035b713e7dab7",
   "outputs": [],
   "execution_count": 126
  },
  {
   "metadata": {
    "ExecuteTime": {
     "end_time": "2024-07-25T21:52:10.056329Z",
     "start_time": "2024-07-25T21:52:10.054056Z"
    }
   },
   "cell_type": "code",
   "source": "optim = Adam([w1,b1,w2,b2])",
   "id": "3e73e8ecd8fe116d",
   "outputs": [],
   "execution_count": 127
  },
  {
   "metadata": {
    "ExecuteTime": {
     "end_time": "2024-07-25T21:52:10.402166Z",
     "start_time": "2024-07-25T21:52:10.323804Z"
    }
   },
   "cell_type": "code",
   "source": [
    "for step in range(500):\n",
    "    # forward\n",
    "    pre1=X@w1+b1\n",
    "    act1=torch.relu(pre1)\n",
    "    pre2=act1@w2+b2\n",
    "    y_logps = torch.log_softmax(pre2,-1)\n",
    "    loss = -y_logps[range(B), y].sum()\n",
    "    if step % 10 == 0:\n",
    "        print(f\"{step}:{loss.item()}\")\n",
    "    loss.backward()\n",
    "    optim.step()"
   ],
   "id": "8c649bfa1c4a26a8",
   "outputs": [
    {
     "name": "stdout",
     "output_type": "stream",
     "text": [
      "0:0.7520197629928589\n",
      "10:0.7118231654167175\n",
      "20:0.6647453308105469\n",
      "30:0.6151500344276428\n",
      "40:0.5648937225341797\n",
      "50:0.5155109763145447\n",
      "60:0.4680715799331665\n",
      "70:0.4232423007488251\n",
      "80:0.3813871443271637\n",
      "90:0.3426603376865387\n",
      "100:0.30707699060440063\n",
      "110:0.27456268668174744\n",
      "120:0.24498704075813293\n",
      "130:0.21818670630455017\n",
      "140:0.19398100674152374\n",
      "150:0.17218181490898132\n",
      "160:0.15260039269924164\n",
      "170:0.13505242764949799\n",
      "180:0.11936085671186447\n",
      "190:0.105356864631176\n",
      "200:0.09288238734006882\n",
      "210:0.08178955316543579\n",
      "220:0.07194137573242188\n",
      "230:0.06321161240339279\n",
      "240:0.05548422411084175\n",
      "250:0.048653438687324524\n",
      "260:0.042623121291399\n",
      "270:0.03730567544698715\n",
      "280:0.03262249380350113\n",
      "290:0.028502346947789192\n",
      "300:0.02488129958510399\n",
      "310:0.021702177822589874\n",
      "320:0.01891360804438591\n",
      "330:0.016470057889819145\n",
      "340:0.014330636709928513\n",
      "350:0.012459265999495983\n",
      "360:0.01082376018166542\n",
      "370:0.009395343251526356\n",
      "380:0.008149208500981331\n",
      "390:0.007062690798193216\n",
      "400:0.006116270087659359\n",
      "410:0.0052925474010407925\n",
      "420:0.004576034378260374\n",
      "430:0.003953421022742987\n",
      "440:0.0034127612598240376\n",
      "450:0.00294372602365911\n",
      "460:0.0025371399242430925\n",
      "470:0.0021848708856850863\n",
      "480:0.0018799551762640476\n",
      "490:0.0016161279054358602\n"
     ]
    }
   ],
   "execution_count": 128
  },
  {
   "metadata": {
    "ExecuteTime": {
     "end_time": "2024-07-25T21:39:43.909346Z",
     "start_time": "2024-07-25T21:39:43.904804Z"
    }
   },
   "cell_type": "code",
   "source": "optim",
   "id": "cec91263f3d9021e",
   "outputs": [
    {
     "data": {
      "text/plain": [
       "Adam (\n",
       "Parameter Group 0\n",
       "    amsgrad: False\n",
       "    betas: (0.9, 0.999)\n",
       "    capturable: False\n",
       "    differentiable: False\n",
       "    eps: 1e-08\n",
       "    foreach: None\n",
       "    fused: None\n",
       "    lr: 0.001\n",
       "    maximize: False\n",
       "    weight_decay: 0\n",
       ")"
      ]
     },
     "execution_count": 116,
     "metadata": {},
     "output_type": "execute_result"
    }
   ],
   "execution_count": 116
  },
  {
   "metadata": {
    "ExecuteTime": {
     "end_time": "2024-07-25T21:39:44.907536Z",
     "start_time": "2024-07-25T21:39:44.900745Z"
    }
   },
   "cell_type": "code",
   "source": "optim.state_dict()",
   "id": "3c14ea47053f74c8",
   "outputs": [
    {
     "data": {
      "text/plain": [
       "{'state': {0: {'step': tensor(500.),\n",
       "   'exp_avg': tensor([[-17.4198, -14.2589, -33.9308,  24.7399],\n",
       "           [ 13.5721,  11.1094,  -8.4367,   6.1601]]),\n",
       "   'exp_avg_sq': tensor([[ 97.5193,  64.9222, 408.6638, 192.1826],\n",
       "           [ 59.1970,  39.4097,  25.2651,  11.8868]])},\n",
       "  1: {'step': tensor(500.),\n",
       "   'exp_avg': tensor([-22.6313, -18.5247,  30.3377, -22.1385]),\n",
       "   'exp_avg_sq': tensor([164.5973, 109.5785, 326.6952, 153.6765])},\n",
       "  2: {'step': tensor(500.),\n",
       "   'exp_avg': tensor([[-23.6109,  23.6109],\n",
       "           [-10.3909,  10.3909],\n",
       "           [ -4.7472,   4.7472],\n",
       "           [-43.9304,  43.9304]]),\n",
       "   'exp_avg_sq': tensor([[178.5665, 178.5665],\n",
       "           [ 33.3891,  33.3891],\n",
       "           [  8.2299,   8.2299],\n",
       "           [614.6895, 614.6898]])},\n",
       "  3: {'step': tensor(500.),\n",
       "   'exp_avg': tensor([-41.0072,  41.0073]),\n",
       "   'exp_avg_sq': tensor([551.1333, 551.1335])}},\n",
       " 'param_groups': [{'lr': 0.001,\n",
       "   'betas': (0.9, 0.999),\n",
       "   'eps': 1e-08,\n",
       "   'weight_decay': 0,\n",
       "   'amsgrad': False,\n",
       "   'maximize': False,\n",
       "   'foreach': None,\n",
       "   'capturable': False,\n",
       "   'differentiable': False,\n",
       "   'fused': None,\n",
       "   'params': [0, 1, 2, 3]}]}"
      ]
     },
     "execution_count": 117,
     "metadata": {},
     "output_type": "execute_result"
    }
   ],
   "execution_count": 117
  },
  {
   "metadata": {
    "ExecuteTime": {
     "end_time": "2024-07-25T21:40:23.331752Z",
     "start_time": "2024-07-25T21:40:23.330074Z"
    }
   },
   "cell_type": "code",
   "source": "# w1",
   "id": "9bfe280d45b5b1c1",
   "outputs": [],
   "execution_count": 119
  },
  {
   "metadata": {},
   "cell_type": "code",
   "outputs": [],
   "execution_count": null,
   "source": "",
   "id": "5492b53d00961ef6"
  }
 ],
 "metadata": {
  "kernelspec": {
   "display_name": "Python 3",
   "language": "python",
   "name": "python3"
  },
  "language_info": {
   "codemirror_mode": {
    "name": "ipython",
    "version": 2
   },
   "file_extension": ".py",
   "mimetype": "text/x-python",
   "name": "python",
   "nbconvert_exporter": "python",
   "pygments_lexer": "ipython2",
   "version": "2.7.6"
  }
 },
 "nbformat": 4,
 "nbformat_minor": 5
}
