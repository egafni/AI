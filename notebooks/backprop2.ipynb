{
 "cells": [
  {
   "cell_type": "code",
   "execution_count": 113,
   "id": "70c93b46-538a-417d-bfe2-04ce8bd758bd",
   "metadata": {},
   "outputs": [],
   "source": [
    "import torch\n",
    "from torch import nn\n",
    "import torch.nn.functional as F\n",
    "import math\n",
    "import numpy"
   ]
  },
  {
   "cell_type": "code",
   "execution_count": 114,
   "id": "4a29a4cb-cde4-4f86-9f8b-e25e84a1597d",
   "metadata": {},
   "outputs": [],
   "source": [
    "def check(a,b):\n",
    "    assert a.shape == b.shape, f'{a.shape} {b.shape}'\n",
    "    assert torch.isclose(a,b.grad,atol=1e-6).all(), f'{a} {b.grad}'"
   ]
  },
  {
   "cell_type": "code",
   "execution_count": 161,
   "id": "f88b7f61-6d21-478d-8cc7-718dba79783e",
   "metadata": {},
   "outputs": [],
   "source": [
    "B=20\n",
    "C=4\n",
    "H=50\n",
    "CLASSES=3\n",
    "\n",
    "y = torch.randint(0,2,size=(B,))\n",
    "X = torch.randn((B,C))\n",
    "\n",
    "w1 = torch.randn(C,H) / math.sqrt(C) / math.sqrt(2)\n",
    "b1 = torch.zeros(H) \n",
    "w2 = torch.randn(H,H) / math.sqrt(H)  / math.sqrt(2) \n",
    "b2 = torch.zeros(H) \n",
    "\n",
    "proj_w = torch.randn(H,CLASSES)\n",
    "proj_b = torch.zeros(CLASSES)\n",
    "\n",
    "params = [w1,b1,w2,b2,proj_w,proj_b]\n",
    "\n",
    "for p in params:\n",
    "    p.requires_grad = True"
   ]
  },
  {
   "cell_type": "code",
   "execution_count": 179,
   "id": "d06131a5-aca7-47fa-94bf-870aeb4ebadf",
   "metadata": {},
   "outputs": [
    {
     "data": {
      "text/plain": [
       "tensor([[-1.0708e-01,  9.3737e-02,  1.3343e-02],\n",
       "        [-1.8898e-03,  1.6998e-03,  1.9001e-04],\n",
       "        [ 7.1448e-06, -2.3603e-05,  1.6408e-05],\n",
       "        [ 3.8724e-01, -4.1024e-01,  2.2998e-02],\n",
       "        [ 9.0890e-02, -1.2328e-01,  3.2387e-02],\n",
       "        [-1.8725e-01,  1.2580e-01,  6.1455e-02],\n",
       "        [ 1.3942e-02, -1.8981e-02,  5.0392e-03],\n",
       "        [-1.9257e-02,  1.2869e-02,  6.3874e-03],\n",
       "        [ 3.3940e-02, -3.8430e-02,  4.4898e-03],\n",
       "        [ 1.1845e-01, -1.3141e-01,  1.2960e-02],\n",
       "        [-3.5583e-01,  3.0753e-01,  4.8291e-02],\n",
       "        [-5.6557e-02,  4.9081e-02,  7.4759e-03],\n",
       "        [ 1.9431e-01, -2.0716e-01,  1.2853e-02],\n",
       "        [ 2.6587e-02, -3.6173e-02,  9.5860e-03],\n",
       "        [-2.2896e-01,  1.9981e-01,  2.9153e-02],\n",
       "        [-1.4738e-01,  1.3204e-01,  1.5335e-02],\n",
       "        [-1.0942e-01,  1.0328e-01,  6.1402e-03],\n",
       "        [ 3.8698e-03, -7.6649e-03,  3.7952e-03],\n",
       "        [-4.1177e-02,  3.9461e-02,  1.7153e-03],\n",
       "        [-1.0427e-02,  8.9497e-03,  1.4770e-03]])"
      ]
     },
     "execution_count": 179,
     "metadata": {},
     "output_type": "execute_result"
    }
   ],
   "source": [
    "dlogits*B"
   ]
  },
  {
   "cell_type": "code",
   "execution_count": 182,
   "id": "b8551372-0b98-4771-bcb3-bb95c4a51131",
   "metadata": {},
   "outputs": [
    {
     "data": {
      "text/plain": [
       "tensor([0, 0, 1, 1, 1, 0, 1, 0, 1, 1, 0, 0, 1, 1, 0, 0, 0, 1, 0, 0])"
      ]
     },
     "execution_count": 182,
     "metadata": {},
     "output_type": "execute_result"
    }
   ],
   "source": [
    "y"
   ]
  },
  {
   "cell_type": "code",
   "execution_count": 180,
   "id": "f8fecefe-ef49-4679-be19-c30677bab6bf",
   "metadata": {},
   "outputs": [
    {
     "data": {
      "text/plain": [
       "tensor([[1.0708e-01, 9.0626e-01, 9.8666e-01],\n",
       "        [1.8898e-03, 9.9830e-01, 9.9981e-01],\n",
       "        [9.9999e-01, 2.3603e-05, 9.9998e-01],\n",
       "        [6.1276e-01, 4.1024e-01, 9.7700e-01],\n",
       "        [9.0911e-01, 1.2328e-01, 9.6761e-01],\n",
       "        [1.8725e-01, 8.7420e-01, 9.3855e-01],\n",
       "        [9.8606e-01, 1.8981e-02, 9.9496e-01],\n",
       "        [1.9257e-02, 9.8713e-01, 9.9361e-01],\n",
       "        [9.6606e-01, 3.8430e-02, 9.9551e-01],\n",
       "        [8.8155e-01, 1.3141e-01, 9.8704e-01],\n",
       "        [3.5583e-01, 6.9247e-01, 9.5171e-01],\n",
       "        [5.6557e-02, 9.5092e-01, 9.9252e-01],\n",
       "        [8.0569e-01, 2.0716e-01, 9.8715e-01],\n",
       "        [9.7341e-01, 3.6173e-02, 9.9041e-01],\n",
       "        [2.2896e-01, 8.0019e-01, 9.7085e-01],\n",
       "        [1.4738e-01, 8.6796e-01, 9.8467e-01],\n",
       "        [1.0942e-01, 8.9672e-01, 9.9386e-01],\n",
       "        [9.9613e-01, 7.6649e-03, 9.9620e-01],\n",
       "        [4.1177e-02, 9.6054e-01, 9.9828e-01],\n",
       "        [1.0427e-02, 9.9105e-01, 9.9852e-01]], grad_fn=<RsubBackward1>)"
      ]
     },
     "execution_count": 180,
     "metadata": {},
     "output_type": "execute_result"
    }
   ],
   "source": [
    "1-probas"
   ]
  },
  {
   "cell_type": "code",
   "execution_count": 176,
   "id": "30b8a6e8-a253-4dac-a6b0-06fc81289455",
   "metadata": {},
   "outputs": [
    {
     "name": "stdout",
     "output_type": "stream",
     "text": [
      "0.13677462935447693\n",
      "0.13573968410491943\n",
      "0.13477015495300293\n",
      "0.13373026251792908\n",
      "0.13279816508293152\n",
      "0.13181805610656738\n",
      "0.1308976113796234\n",
      "0.12997914850711823\n",
      "0.12904365360736847\n",
      "0.12816651165485382\n"
     ]
    }
   ],
   "source": [
    "for i in range(10):\n",
    "    # forward\n",
    "    pre1 = X@w1+b1\n",
    "    act1 = torch.relu(pre1)\n",
    "    pre2 = act1@w2+b2\n",
    "    act2 = torch.relu(pre2)\n",
    "    logits = act2@proj_w+proj_b\n",
    "    \n",
    "    # probas = torch.softmax(logits, 1)\n",
    "    logits_minus_max = logits-logits.max()\n",
    "    logits_exp = torch.exp(logits_minus_max)\n",
    "    denom = logits_exp.sum(-1,keepdims=True)\n",
    "    probas = logits_exp / denom\n",
    "    \n",
    "    sel_probas = probas[range(len(y)), y]\n",
    "    log_probs = torch.log(sel_probas)\n",
    "    loss = -log_probs.mean()\n",
    "    print(f'{loss.item()}')\n",
    "    # log_probs.requires_grad=True\n",
    "    \n",
    "    vars = [pre1,act1,pre2,act2,logits,probas,sel_probas,log_probs,logits_exp,denom,logits_minus_max]\n",
    "    for v in vars:\n",
    "        v.retain_grad()\n",
    "    \n",
    "    for p in vars + params:\n",
    "        p.grad = None\n",
    "    \n",
    "    loss.backward()\n",
    "    \n",
    "    with torch.no_grad():\n",
    "        # dlog_probs = torch.ones_like(log_probs)*-1/B\n",
    "        # dsel_probas = 1/sel_probas * dlog_probs\n",
    "        # dprobas = torch.zeros_like(logits)\n",
    "        # dprobas[range(len(y)), y] = dsel_probas\n",
    "        # dlogits_exp = 1/denom * dprobas\n",
    "        # ddenom = (-denom**-2 * logits_exp * dprobas).sum(1,keepdims=True)\n",
    "        # dlogits_exp = 1/denom * dprobas\n",
    "        # dlogits_exp += ddenom    \n",
    "        # dlogits_minus_max = dlogits_exp * logits_exp\n",
    "        # dlogits = dlogits_minus_max\n",
    "\n",
    "        dlogits = probas.clone()\n",
    "        dlogits[range(B), y] -= 1\n",
    "        dlogits /= B\n",
    "        \n",
    "        dact2 = dlogits@proj_w.T\n",
    "        dproj_w = act2.T@dlogits    \n",
    "        dproj_b = dlogits.sum(0)\n",
    "        dpre2 = torch.where(pre2>0, dact2, 0)\n",
    "        check(dpre2, pre2)\n",
    "        dact1 = dpre2@w2.T\n",
    "        dw2 = act1.T@dpre2\n",
    "        db2 = dpre2.sum(0)\n",
    "        dpre1 = torch.where(pre1>0,dact1,0)\n",
    "        dw1 = X.T@dpre1\n",
    "        db1 = dpre1.sum(0)\n",
    "    \n",
    "    dparams = [dw1,db1,dw2,db2,dproj_w,dproj_b]\n",
    "    \n",
    "    lr=1e-2\n",
    "    for p,dp in zip(params,dparams):\n",
    "        check(dp,p)\n",
    "        assert dp.shape == p.shape\n",
    "        # ass\n",
    "        with torch.no_grad():\n",
    "            p.data -= lr*dp\n",
    "\n"
   ]
  },
  {
   "cell_type": "code",
   "execution_count": null,
   "id": "cedb275e-6402-4284-a805-f1957dd740ef",
   "metadata": {},
   "outputs": [],
   "source": []
  },
  {
   "cell_type": "code",
   "execution_count": 171,
   "id": "b8161a46-a0fa-499b-96d8-93166d9674ca",
   "metadata": {},
   "outputs": [
    {
     "data": {
      "text/plain": [
       "tensor([0, 0, 1, 1, 1, 0, 1, 0, 1, 1, 0, 0, 1, 1, 0, 0, 0, 1, 0, 0])"
      ]
     },
     "execution_count": 171,
     "metadata": {},
     "output_type": "execute_result"
    }
   ],
   "source": []
  }
 ],
 "metadata": {
  "kernelspec": {
   "display_name": "Python 3 (ipykernel)",
   "language": "python",
   "name": "python3"
  },
  "language_info": {
   "codemirror_mode": {
    "name": "ipython",
    "version": 3
   },
   "file_extension": ".py",
   "mimetype": "text/x-python",
   "name": "python",
   "nbconvert_exporter": "python",
   "pygments_lexer": "ipython3",
   "version": "3.10.12"
  }
 },
 "nbformat": 4,
 "nbformat_minor": 5
}
