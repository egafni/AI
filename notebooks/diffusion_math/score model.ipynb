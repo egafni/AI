{
 "cells": [
  {
   "cell_type": "code",
   "execution_count": 1,
   "id": "ee1c8e0f-b160-4474-89d3-3a23c1304d6a",
   "metadata": {},
   "outputs": [],
   "source": [
    "#https://ericmjl.github.io/score-models/notebooks/02-langevin-dynamics.html"
   ]
  },
  {
   "cell_type": "code",
   "execution_count": 3,
   "id": "7816d425-fea2-4ea2-a0e0-5afbc7da1315",
   "metadata": {},
   "outputs": [
    {
     "ename": "ModuleNotFoundError",
     "evalue": "No module named 'score_models'",
     "output_type": "error",
     "traceback": [
      "\u001b[0;31m---------------------------------------------------------------------------\u001b[0m",
      "\u001b[0;31mModuleNotFoundError\u001b[0m                       Traceback (most recent call last)",
      "Cell \u001b[0;32mIn[3], line 2\u001b[0m\n\u001b[1;32m      1\u001b[0m \u001b[38;5;28;01mfrom\u001b[39;00m \u001b[38;5;21;01mjax\u001b[39;00m \u001b[38;5;28;01mimport\u001b[39;00m random, numpy \u001b[38;5;28;01mas\u001b[39;00m np\n\u001b[0;32m----> 2\u001b[0m \u001b[38;5;28;01mfrom\u001b[39;00m \u001b[38;5;21;01mscore_models\u001b[39;00m\u001b[38;5;21;01m.\u001b[39;00m\u001b[38;5;21;01mtraining\u001b[39;00m \u001b[38;5;28;01mimport\u001b[39;00m fit\n\u001b[1;32m      3\u001b[0m \u001b[38;5;28;01mfrom\u001b[39;00m \u001b[38;5;21;01mscore_models\u001b[39;00m\u001b[38;5;21;01m.\u001b[39;00m\u001b[38;5;21;01mmodels\u001b[39;00m \u001b[38;5;28;01mimport\u001b[39;00m FeedForwardModel1D\n\u001b[1;32m      4\u001b[0m \u001b[38;5;28;01mfrom\u001b[39;00m \u001b[38;5;21;01mscore_models\u001b[39;00m\u001b[38;5;21;01m.\u001b[39;00m\u001b[38;5;21;01mlosses\u001b[39;00m \u001b[38;5;28;01mimport\u001b[39;00m score_matching_loss\n",
      "\u001b[0;31mModuleNotFoundError\u001b[0m: No module named 'score_models'"
     ]
    }
   ],
   "source": [
    "from jax import random, numpy as np\n",
    "from score_models.training import fit\n",
    "from score_models.models import FeedForwardModel1D\n",
    "from score_models.losses import score_matching_loss\n",
    "import optax\n",
    "\n",
    "def langevin_dynamics_step(prev_x, score_func, epsilon, key):\n",
    "    \"\"\"One step of Langevin dynamics sampling.\"\"\"\n",
    "    draw = random.normal(key)\n",
    "    new_x = prev_x + epsilon * score_func(prev_x) + np.sqrt(2 * epsilon) * draw\n",
    "    return new_x"
   ]
  },
  {
   "cell_type": "code",
   "execution_count": null,
   "id": "a4353c70-190d-4e3d-b5bb-91a8ea5f631a",
   "metadata": {},
   "outputs": [],
   "source": [
    "\n",
    "ffmodel = FeedForwardModel1D()\n",
    "\n",
    "optimizer = optax.adam(learning_rate=5e-3)\n",
    "updated_model, loss_history = fit(\n",
    "    ffmodel, \n",
    "    data, \n",
    "    score_matching_loss, \n",
    "    optimizer, \n",
    "    steps=2_000, \n",
    "    progress_bar=False\n",
    ")"
   ]
  },
  {
   "cell_type": "code",
   "execution_count": 2,
   "id": "1e2089e5-b8e6-423c-b330-40d5ac852449",
   "metadata": {},
   "outputs": [
    {
     "name": "stderr",
     "output_type": "stream",
     "text": [
      "/home/spock/.pyenv/versions/3.10.12/lib/python3.10/pty.py:89: RuntimeWarning: os.fork() was called. os.fork() is incompatible with multithreaded code, and JAX is multithreaded, so this will likely lead to a deadlock.\n",
      "  pid, fd = os.forkpty()\n"
     ]
    },
    {
     "name": "stdout",
     "output_type": "stream",
     "text": [
      "The following packages are already present in the pyproject.toml and will be skipped:\n",
      "\n",
      "  • \u001b[36moptax\u001b[39m\n",
      "\n",
      "If you want to update it to the latest compatible version, you can use `poetry update package`.\n",
      "If you prefer to upgrade it to the latest available version, you can use `poetry add package@latest`.\n",
      "\n",
      "Nothing to add.\n"
     ]
    }
   ],
   "source": [
    "!poetry add optax"
   ]
  },
  {
   "cell_type": "code",
   "execution_count": null,
   "id": "1231242b-ff00-49c1-b0db-cfd06379bd65",
   "metadata": {},
   "outputs": [],
   "source": [
    "langevin_dynamics_step()"
   ]
  }
 ],
 "metadata": {
  "kernelspec": {
   "display_name": "Python 3 (ipykernel)",
   "language": "python",
   "name": "python3"
  },
  "language_info": {
   "codemirror_mode": {
    "name": "ipython",
    "version": 3
   },
   "file_extension": ".py",
   "mimetype": "text/x-python",
   "name": "python",
   "nbconvert_exporter": "python",
   "pygments_lexer": "ipython3",
   "version": "3.10.12"
  }
 },
 "nbformat": 4,
 "nbformat_minor": 5
}
