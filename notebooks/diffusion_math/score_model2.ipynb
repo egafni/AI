{
 "cells": [
  {
   "cell_type": "code",
   "execution_count": null,
   "id": "4ce9464e-e89b-4787-a11f-7f9676d49e7c",
   "metadata": {},
   "outputs": [],
   "source": [
    "#https://ericmjl.github.io/score-models/notebooks/01-score-function.html#fig-likelihood"
   ]
  },
  {
   "cell_type": "code",
   "execution_count": null,
   "id": "3cc18e4c-fe0d-4f78-af3a-224c41f408ed",
   "metadata": {},
   "outputs": [],
   "source": [
    "from jax import random\n",
    "\n",
    "key = random.PRNGKey(44)\n",
    "\n",
    "true_mu = 3.0\n",
    "true_sigma = 1.0\n",
    "\n",
    "data = random.normal(key, shape=(1000, 1)) * true_sigma + true_mu\n",
    "data[0:5]  # showing just the first 10 samples drawn"
   ]
  },
  {
   "cell_type": "code",
   "execution_count": 100,
   "id": "3b58f6a6-39cf-4fa5-aff3-ca838a5d0c87",
   "metadata": {},
   "outputs": [
    {
     "name": "stdout",
     "output_type": "stream",
     "text": [
      "class GaussianModel(eqx.Module):\n",
      "    \"\"\"Univariate Gaussian score function.\"\"\"\n",
      "\n",
      "    mu: np.array = np.array(0.0)\n",
      "    log_sigma: np.array = np.array(0.0)\n",
      "\n",
      "    @eqx.filter_jit\n",
      "    def __call__(self, x):\n",
      "        \"\"\"Forward pass.\n",
      "\n",
      "        :param x: Data. Should be of shape (1, :),\n",
      "            where `1` is in the batch dimension slot.\n",
      "            as the model is intended to be vmapped over batches of data.\n",
      "        :returns: Score of a Gaussian conditioned on a `mu` and `log_sigma`.\n",
      "        \"\"\"\n",
      "        gaussian_score_func = jacfwd(norm.logpdf)\n",
      "        return gaussian_score_func(x, loc=self.mu, scale=np.exp(self.log_sigma))\n",
      "\n"
     ]
    }
   ],
   "source": [
    "from score_models.models.gaussian import GaussianModel\n",
    "from inspect import getsource\n",
    "\n",
    "print(getsource(GaussianModel))"
   ]
  },
  {
   "cell_type": "code",
   "execution_count": 101,
   "id": "15d649db-393b-4452-9a2e-9eac9bde2255",
   "metadata": {},
   "outputs": [
    {
     "data": {
      "text/plain": [
       "(Array(3., dtype=float32, weak_type=True),\n",
       " Array(-0., dtype=float32, weak_type=True),\n",
       " Array(-3., dtype=float32, weak_type=True))"
      ]
     },
     "execution_count": 101,
     "metadata": {},
     "output_type": "execute_result"
    }
   ],
   "source": [
    "gaussian_model = GaussianModel()\n",
    "(\n",
    "    gaussian_model(-3.0),\n",
    "    gaussian_model(0.0),\n",
    "    gaussian_model(3.0),\n",
    ")"
   ]
  },
  {
   "cell_type": "code",
   "execution_count": 103,
   "id": "36728a9d-0a69-4bdc-9dba-d9e51061928e",
   "metadata": {},
   "outputs": [
    {
     "data": {
      "text/plain": [
       "Array([-0.8219464, -3.8602278, -1.4089172, -3.4423368, -3.2420166],      dtype=float32)"
      ]
     },
     "execution_count": 103,
     "metadata": {},
     "output_type": "execute_result"
    }
   ],
   "source": [
    "from jax import vmap\n",
    "data_score = vmap(gaussian_model)(data).squeeze()\n",
    "data_score[0:5]"
   ]
  },
  {
   "cell_type": "code",
   "execution_count": 116,
   "id": "1d78f024-ad36-4b7c-9a7b-6ea059d2222c",
   "metadata": {},
   "outputs": [
    {
     "data": {
      "text/plain": [
       "1.0"
      ]
     },
     "execution_count": 116,
     "metadata": {},
     "output_type": "execute_result"
    }
   ],
   "source": [
    "true_sigma"
   ]
  },
  {
   "cell_type": "code",
   "execution_count": null,
   "id": "3f475e73-6a60-464b-8c49-b139ecf96f22",
   "metadata": {},
   "outputs": [],
   "source": [
    "from matplotlib import pyplot as plt\n",
    "support = jax.numpy.linspace(0,6,100)\n",
    "plt.plot(support, vmap(GaussianModel(true_mu,jax.numpy.log(true_sigma)))(support).squeeze(),label='true')\n",
    "plt.plot(support, vmap(GaussianModel())(support).squeeze(),label='init')\n",
    "plt.legend()"
   ]
  },
  {
   "cell_type": "code",
   "execution_count": null,
   "id": "7d687006-5dcd-4606-a855-c388afa30ae9",
   "metadata": {},
   "outputs": [],
   "source": []
  },
  {
   "cell_type": "code",
   "execution_count": null,
   "id": "66068a27-9263-432d-89f5-357e652c077d",
   "metadata": {},
   "outputs": [],
   "source": []
  }
 ],
 "metadata": {
  "kernelspec": {
   "display_name": "Python 3 (ipykernel)",
   "language": "python",
   "name": "python3"
  },
  "language_info": {
   "codemirror_mode": {
    "name": "ipython",
    "version": 3
   },
   "file_extension": ".py",
   "mimetype": "text/x-python",
   "name": "python",
   "nbconvert_exporter": "python",
   "pygments_lexer": "ipython3",
   "version": "3.10.12"
  }
 },
 "nbformat": 4,
 "nbformat_minor": 5
}
