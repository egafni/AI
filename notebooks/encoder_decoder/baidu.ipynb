{
 "cells": [
  {
   "cell_type": "code",
   "execution_count": 12,
   "id": "0246732d-074e-4656-b40a-d73e170bc3e3",
   "metadata": {},
   "outputs": [
    {
     "name": "stdout",
     "output_type": "stream",
     "text": [
      "The autoreload extension is already loaded. To reload it, use:\n",
      "  %reload_ext autoreload\n"
     ]
    }
   ],
   "source": [
    "import os\n",
    "os.environ['CUDA_VISIBLE_DEVICES']='0'\n",
    "os.environ['CUDA_LAUNCH_BLOCKING']='1'\n",
    "from io import open\n",
    "import unicodedata\n",
    "import re\n",
    "import random\n",
    "\n",
    "import torch\n",
    "import torch.nn as nn\n",
    "from torch import optim\n",
    "import torch.nn.functional as F\n",
    "from torch.optim import AdamW\n",
    "import math \n",
    "import matplotlib.pyplot as plt\n",
    "\n",
    "import numpy as np\n",
    "from torch.utils.data import TensorDataset, DataLoader, RandomSampler\n",
    "%load_ext autoreload\n",
    "%autoreload 2\n",
    "\n",
    "# device = torch.device(\"cuda\" if torch.cuda.is_available() else \"cpu\")"
   ]
  },
  {
   "cell_type": "code",
   "execution_count": 2,
   "id": "edd56767-ec02-4942-921e-1c87d4200542",
   "metadata": {},
   "outputs": [
    {
     "name": "stderr",
     "output_type": "stream",
     "text": [
      "/mnt/ssd3/user/spock/.cache/pypoetry/virtualenvs/ai-iwSNfyWa-py3.10/lib/python3.10/site-packages/tqdm/auto.py:21: TqdmWarning: IProgress not found. Please update jupyter and ipywidgets. See https://ipywidgets.readthedocs.io/en/stable/user_install.html\n",
      "  from .autonotebook import tqdm as notebook_tqdm\n"
     ]
    }
   ],
   "source": [
    "from torchtext.data.utils import get_tokenizer\n",
    "from torchtext.vocab import build_vocab_from_iterator\n",
    "from torchtext.datasets import multi30k, Multi30k\n",
    "from typing import Iterable, List\n",
    "\n",
    "\n",
    "# We need to modify the URLs for the dataset since the links to the original dataset are broken\n",
    "# Refer to https://github.com/pytorch/text/issues/1756#issuecomment-1163664163 for more info\n",
    "multi30k.URL[\"train\"] = \"https://raw.githubusercontent.com/neychev/small_DL_repo/master/datasets/Multi30k/training.tar.gz\"\n",
    "multi30k.URL[\"valid\"] = \"https://raw.githubusercontent.com/neychev/small_DL_repo/master/datasets/Multi30k/validation.tar.gz\"\n",
    "\n",
    "SRC_LANGUAGE = 'de'\n",
    "TGT_LANGUAGE = 'en'\n",
    "\n",
    "# Place-holders\n",
    "token_transform = {}\n",
    "vocab_transform = {}"
   ]
  },
  {
   "cell_type": "code",
   "execution_count": 3,
   "id": "73be4966-9edc-4cd3-b666-c0ec2030bf9b",
   "metadata": {},
   "outputs": [],
   "source": [
    "# token_transform"
   ]
  },
  {
   "cell_type": "code",
   "execution_count": 4,
   "id": "291d51a4-6177-4e9d-aee1-7084f3c6f615",
   "metadata": {},
   "outputs": [],
   "source": [
    "# next(iter(Multi30k(split='valid', language_pair=(SRC_LANGUAGE, TGT_LANGUAGE))))"
   ]
  },
  {
   "cell_type": "code",
   "execution_count": 5,
   "id": "15a7551c-e30d-47b8-b691-611724cbfe1c",
   "metadata": {},
   "outputs": [],
   "source": [
    "token_transform[SRC_LANGUAGE] = get_tokenizer('spacy', language='de_core_news_sm')\n",
    "token_transform[TGT_LANGUAGE] = get_tokenizer('spacy', language='en_core_web_sm')\n",
    "\n",
    "\n",
    "# helper function to yield list of tokens\n",
    "def yield_tokens(data_iter: Iterable, language: str) -> List[str]:\n",
    "    language_index = {SRC_LANGUAGE: 0, TGT_LANGUAGE: 1}\n",
    "\n",
    "    for data_sample in data_iter:\n",
    "        yield token_transform[language](data_sample[language_index[language]])\n",
    "\n",
    "# Define special symbols and indices\n",
    "UNK_IDX, PAD_IDX, BOS_IDX, EOS_IDX = 0, 1, 2, 3\n",
    "# Make sure the tokens are in order of their indices to properly insert them in vocab\n",
    "special_symbols = ['<unk>', '<pad>', '<bos>', '<eos>']\n",
    "\n",
    "for ln in [SRC_LANGUAGE, TGT_LANGUAGE]:\n",
    "    # Training data Iterator\n",
    "    train_iter = Multi30k(split='train', language_pair=(SRC_LANGUAGE, TGT_LANGUAGE))\n",
    "    # Create torchtext's Vocab object\n",
    "    vocab_transform[ln] = build_vocab_from_iterator(yield_tokens(train_iter, ln),\n",
    "                                                    min_freq=1,\n",
    "                                                    specials=special_symbols,\n",
    "                                                    special_first=True)\n",
    "\n",
    "# Set ``UNK_IDX`` as the default index. This index is returned when the token is not found.\n",
    "# If not set, it throws ``RuntimeError`` when the queried token is not found in the Vocabulary.\n",
    "for ln in [SRC_LANGUAGE, TGT_LANGUAGE]:\n",
    "  vocab_transform[ln].set_default_index(UNK_IDX)"
   ]
  },
  {
   "cell_type": "code",
   "execution_count": 6,
   "id": "1ff65857-c716-43fe-9d26-a4300d5ea5f6",
   "metadata": {},
   "outputs": [
    {
     "data": {
      "text/plain": [
       "tensor([[   2, 5465,    3,    1,    1,    1,    1,    1,    1,    1,    1,    1,\n",
       "            1,    1,    1,    1,    1,    1,    1,    1,    1,    1,    1,    1,\n",
       "            1],\n",
       "        [   2, 2227, 2572,    3,    1,    1,    1,    1,    1,    1,    1,    1,\n",
       "            1,    1,    1,    1,    1,    1,    1,    1,    1,    1,    1,    1,\n",
       "            1]])"
      ]
     },
     "execution_count": 6,
     "metadata": {},
     "output_type": "execute_result"
    }
   ],
   "source": [
    "from torch.nn.utils.rnn import pad_sequence\n",
    "from torchtext.transforms import PadTransform, Truncate, AddToken, VocabTransform, Sequential, ToTensor\n",
    "\n",
    "class Tokenize(nn.Module):\n",
    "    def __init__(self, tokenizer):\n",
    "        super().__init__()\n",
    "        self.tokenizer = tokenizer\n",
    "        \n",
    "    def forward(self, x):\n",
    "        # Do some transformations\n",
    "        return [self.tokenizer(sentence) for sentence in x]\n",
    "\n",
    "class Pad(nn.Module):\n",
    "    def __init__(self, length, pad_value):\n",
    "        super().__init__()\n",
    "        self.length = length\n",
    "        self.pad_value = pad_value \n",
    "\n",
    "    def forward(self, x):\n",
    "        # m = max(len(x_) for x_ in x)\n",
    "        def pad(x):        \n",
    "            if len(x) < self.length:\n",
    "                x += [self.pad_value] * (self.length - len(x))\n",
    "            return x\n",
    "            \n",
    "        return [pad(x_) for x_ in x]\n",
    "\n",
    "def get_preproc(token_transform, vocab_transform, max_seq_len):\n",
    "    # vocab = \n",
    "    return nn.Sequential(\n",
    "        Tokenize(token_transform),\n",
    "        VocabTransform(vocab_transform),\n",
    "        Truncate(max_seq_len=max_seq_len-2),\n",
    "        AddToken(BOS_IDX, begin=True),\n",
    "        AddToken(EOS_IDX, begin=False),\n",
    "        Pad(pad_value=PAD_IDX,length=max_seq_len),\n",
    "        ToTensor(),\n",
    "    )\n",
    "\n",
    "BLOCK_SIZE=24\n",
    "preproc_src = get_preproc(token_transform['de'],vocab_transform['de'], max_seq_len=BLOCK_SIZE)\n",
    "# can remove this +1 since last token is basically EOS\n",
    "preproc_tgt = get_preproc(token_transform['en'],vocab_transform['en'], max_seq_len=BLOCK_SIZE+1)\n",
    "preproc_tgt(['hello', 'my fellow'])"
   ]
  },
  {
   "cell_type": "code",
   "execution_count": 7,
   "id": "0b38b341-f771-417b-8242-48b6416c4edc",
   "metadata": {},
   "outputs": [],
   "source": [
    "BATCH_SIZE=256\n",
    "train_iter = Multi30k(split='train', language_pair=(SRC_LANGUAGE, TGT_LANGUAGE))\n",
    "train_dataloader = DataLoader(train_iter, batch_size=BATCH_SIZE)\n",
    "test_iter = Multi30k(split='valid', language_pair=(SRC_LANGUAGE, TGT_LANGUAGE))\n",
    "test_dataloader = DataLoader(test_iter, batch_size=BATCH_SIZE)"
   ]
  },
  {
   "cell_type": "code",
   "execution_count": 8,
   "id": "65701148-a99f-4cc5-b9b3-119b05945df5",
   "metadata": {},
   "outputs": [],
   "source": [
    "# from ai.models.nlp.seq2seq.simple_attention import Encoder, Decoder\n",
    "from ai.models.nlp.seq2seq.bahdana import EncoderRNN, AttnDecoderRNN\n",
    "device = torch.device('cuda')\n",
    "\n",
    "SRC_VOCAB_SIZE = len(vocab_transform[SRC_LANGUAGE])\n",
    "TGT_VOCAB_SIZE = len(vocab_transform[TGT_LANGUAGE])\n",
    "n_embd=32\n",
    "encoder = EncoderRNN(input_size=SRC_VOCAB_SIZE, hidden_size=n_embd).to(device)\n",
    "decoder = AttnDecoderRNN(output_size=TGT_VOCAB_SIZE, hidden_size=n_embd, block_size=BLOCK_SIZE, BOS_token=BOS_IDX).to(device)"
   ]
  },
  {
   "cell_type": "code",
   "execution_count": 9,
   "id": "a3d88cd5-38f5-42b3-b5f6-cbad69297cba",
   "metadata": {},
   "outputs": [],
   "source": [
    "lr=.003\n",
    "optim1 = AdamW(list(encoder.parameters()) + list(decoder.parameters()), lr=lr)"
   ]
  },
  {
   "cell_type": "code",
   "execution_count": 18,
   "id": "366d888b-63c1-4a49-bccc-a06b4706d016",
   "metadata": {},
   "outputs": [
    {
     "name": "stderr",
     "output_type": "stream",
     "text": [
      "/mnt/ssd3/user/spock/.cache/pypoetry/virtualenvs/ai-iwSNfyWa-py3.10/lib/python3.10/site-packages/torch/utils/data/datapipes/iter/combining.py:337: UserWarning: Some child DataPipes are not exhausted when __iter__ is called. We are resetting the buffer and each child DataPipe will read from the start again.\n",
      "  warnings.warn(\"Some child DataPipes are not exhausted when __iter__ is called. We are resetting \"\n"
     ]
    },
    {
     "name": "stdout",
     "output_type": "stream",
     "text": [
      "e0:s100 | loss:2.897\n"
     ]
    },
    {
     "name": "stderr",
     "output_type": "stream",
     "text": [
      "/mnt/ssd3/user/spock/.cache/pypoetry/virtualenvs/ai-iwSNfyWa-py3.10/lib/python3.10/site-packages/torch/_jit_internal.py:1358: UserWarning: The inner type of a container is lost when calling torch.jit.isinstance in eager mode. For example, List[int] would become list and therefore falsely return True for List[float] or List[str].\n",
      "  warnings.warn(\n"
     ]
    },
    {
     "name": "stdout",
     "output_type": "stream",
     "text": [
      "e1:s200 | loss:2.500\n",
      "e2:s300 | loss:2.454\n",
      "e3:s400 | loss:2.333\n",
      "e4:s500 | loss:2.142\n",
      "e5:s600 | loss:2.166\n",
      "e6:s700 | loss:2.226\n",
      "e7:s800 | loss:2.192\n",
      "e7:s900 | loss:2.638\n",
      "e8:s1000 | loss:2.126\n",
      "e9:s1100 | loss:2.192\n"
     ]
    }
   ],
   "source": [
    "step = 0\n",
    "for epoch in range(10):\n",
    "    for src,tgt in train_dataloader:\n",
    "        step +=1\n",
    "        src = preproc_src(src).to(device)\n",
    "        tgt = preproc_tgt(tgt).to(device)\n",
    "        \n",
    "        enc_outputs, enc_hidden = encoder(src)\n",
    "        decoder_outputs, decoder_hidden, attentions = decoder(enc_outputs, enc_hidden, tgt)\n",
    "        loss = F.cross_entropy(decoder_outputs.view(-1, decoder_outputs.shape[-1]), tgt[:,1:].contiguous().view(-1))\n",
    "        if step % 100 == 0:\n",
    "            print(f'e{epoch}:s{step} | loss:{loss:.3f}')\n",
    "        optim1.zero_grad()\n",
    "        # optim2.zero_grad()\n",
    "        loss.backward()\n",
    "        optim1.step()\n",
    "        # optim2.step()\n",
    "        # break\n"
   ]
  },
  {
   "cell_type": "code",
   "execution_count": 13,
   "id": "d5af6edc-2175-46e2-9098-3d43a2227350",
   "metadata": {},
   "outputs": [
    {
     "data": {
      "text/plain": [
       "<matplotlib.image.AxesImage at 0x7f17e4db62c0>"
      ]
     },
     "execution_count": 13,
     "metadata": {},
     "output_type": "execute_result"
    },
    {
     "data": {
      "image/png": "[encoded data removed]",
      "text/plain": [
       "<Figure size 640x480 with 1 Axes>"
      ]
     },
     "metadata": {},
     "output_type": "display_data"
    }
   ],
   "source": [
    "plt.imshow(attentions[0].detach().cpu().numpy())"
   ]
  },
  {
   "cell_type": "code",
   "execution_count": 14,
   "id": "f38b205a-e544-4a51-af3c-7205ba9db190",
   "metadata": {},
   "outputs": [],
   "source": [
    "# y_hat[:,:-1]"
   ]
  },
  {
   "cell_type": "code",
   "execution_count": 15,
   "id": "9335d7d2-f2d6-4e23-9b01-c71e0533fcea",
   "metadata": {},
   "outputs": [
    {
     "name": "stdout",
     "output_type": "stream",
     "text": [
      "src :<bos> Eine Gruppe von Männern lädt Baumwolle auf einen Lastwagen <eos>             \n",
      "yhat:<bos> A group of in man in a a a . . <eos> . . <eos>         \n",
      "y   :<bos> A group of men are loading cotton onto a truck <eos>             \n",
      "************************************************************************\n",
      "src :<bos> Ein Mann schläft in einem grünen Raum auf einem Sofa . <eos>           \n",
      "yhat:<bos> A man in in a a in is a a in in is a a . . . <eos> . . <eos>  \n",
      "y   :<bos> A man sleeping in a green room on a couch . <eos>            \n",
      "************************************************************************\n",
      "src :<bos> Ein Junge mit Kopfhörern sitzt auf den Schultern einer Frau . <eos>           \n",
      "yhat:<bos> A man a a a in a of . <eos> <eos>             \n",
      "y   :<bos> A boy wearing headphones sits on a woman 's shoulders . <eos>            \n",
      "************************************************************************\n",
      "src :<bos> Zwei Männer bauen eine blaue <unk> auf einem <unk> See auf <eos>           \n",
      "yhat:<bos> Two men of a a of a a a . <eos> .            \n",
      "y   :<bos> Two men setting up a blue ice fishing hut on an iced over lake <eos>         \n",
      "************************************************************************\n",
      "src :<bos> Ein Mann mit beginnender Glatze , der eine rote Rettungsweste trägt , sitzt in einem kleinen Boot . <eos>    \n",
      "yhat:<bos> A man in a a a beach with a a with a            \n",
      "y   :<bos> A balding man wearing a red life jacket is sitting in a small boat . <eos>        \n",
      "************************************************************************\n",
      "src :<bos> Eine Frau in einem rotem Mantel , die eine vermutlich aus Asien <unk> Handtasche in einem blauen Farbton hält , springt für <eos>\n",
      "yhat:<bos> A man a a in a a a with a of of a           \n",
      "y   :<bos> A lady in a red coat , holding a bluish hand bag likely of asian descent , jumping off the ground for a <eos>\n",
      "************************************************************************\n",
      "src :<bos> Ein brauner Hund rennt dem schwarzen Hund hinterher . <eos>             \n",
      "yhat:<bos> A young in in in a a a of . <eos>             \n",
      "y   :<bos> A brown dog is running after the black dog . <eos>             \n",
      "************************************************************************\n",
      "src :<bos> Ein kleiner Junge mit einem <unk> schwingt einen Baseballschläger in Richtung eines ankommenden Balls . <eos>       \n",
      "yhat:<bos> A young in a blue shirt is a a a a a a . a         \n",
      "y   :<bos> A young boy wearing a Giants jersey swings a baseball bat at an incoming pitch . <eos>       \n",
      "************************************************************************\n",
      "src :<bos> Ein Mann telefoniert in einem unaufgeräumten Büro <eos>               \n",
      "yhat:<bos> A man in a a water . <eos>                \n",
      "y   :<bos> A man in a cluttered office is using the telephone <eos>             \n",
      "************************************************************************\n",
      "src :<bos> Eine lächelnde Frau mit einem pfirsichfarbenen Trägershirt hält ein Mountainbike <eos>            \n",
      "yhat:<bos> A man in people are a a a beach . a a . . . <eos> <eos> . . . <eos>   \n",
      "y   :<bos> A smiling woman in a peach tank top stands holding a mountain bike <eos>          \n",
      "************************************************************************\n",
      "src :<bos> Ein kleines Kind steht allein auf einem zerklüfteten Felsen . <eos>            \n",
      "yhat:<bos> A young dog is a a of of . a              \n",
      "y   :<bos> A young child is standing alone on some jagged rocks . <eos>            \n",
      "************************************************************************\n",
      "src :<bos> Eine Person auf einem Schneemobil mitten im Sprung . <eos>             \n",
      "yhat:<bos> A man in a blue is a in a . . . .           \n",
      "y   :<bos> A person on a snowmobile in mid jump . <eos>              \n",
      "************************************************************************\n"
     ]
    }
   ],
   "source": [
    "itos=vocab_transform['en'].get_itos()\n",
    "stoi=vocab_transform['en'].get_stoi()\n",
    "\n",
    "for X,y in test_dataloader:\n",
    "    break\n",
    "X = preproc_src(X).to(device)\n",
    "y = preproc_tgt(y).to(device)\n",
    "\n",
    "y_hat = torch.tensor([[BOS_IDX] + [PAD_IDX]*(BLOCK_SIZE) for _ in range(y.shape[0])]).to(device)\n",
    "for i in range(0,BLOCK_SIZE):\n",
    "    enc_outputs, enc_hidden  = encoder(X)\n",
    "    decoder_outputs, decoder_hidden, attentions = decoder(enc_outputs, enc_hidden, tgt)\n",
    "    y_hat[:, i+1] = decoder_outputs[:, i].topk(1).indices.flatten()\n",
    "\n",
    "for i in range(X.shape[0]):\n",
    "    print('src :'+' '.join(vocab_transform['de'].lookup_tokens(X[i].tolist())).replace('<pad>',''))\n",
    "    print('yhat:'+' '.join(vocab_transform['en'].lookup_tokens(y_hat[i].tolist())).replace('<pad>',''))    \n",
    "    print('y   :'+' '.join(vocab_transform['en'].lookup_tokens(y[i].tolist())).replace('<pad>',''))    \n",
    "    print('*'*72)\n",
    "    if i>10:\n",
    "        break\n",
    "        "
   ]
  },
  {
   "cell_type": "code",
   "execution_count": 16,
   "id": "fbf263a1-fd0f-40b7-acc6-00be846064f5",
   "metadata": {},
   "outputs": [
    {
     "data": {
      "text/plain": [
       "array([[0.00395802, 0.0032268 , 0.02412406, 0.03925501, 0.04424185,\n",
       "        0.04538531, 0.04907579, 0.05042267, 0.06135575, 0.05149632,\n",
       "        0.05189437, 0.04620714, 0.04388232, 0.04322834, 0.04277337,\n",
       "        0.04273958, 0.04247819, 0.04274226, 0.04336159, 0.04392469,\n",
       "        0.04484616, 0.04579854, 0.04645703, 0.04712481],\n",
       "       [0.00158947, 0.00123582, 0.02107078, 0.04057724, 0.04638335,\n",
       "        0.05052602, 0.05296296, 0.05435207, 0.06553932, 0.05519526,\n",
       "        0.05759432, 0.0488828 , 0.04530928, 0.04393069, 0.04277008,\n",
       "        0.04207005, 0.04105425, 0.04067236, 0.04067171, 0.04073029,\n",
       "        0.04111985, 0.04160422, 0.04188425, 0.04227357],\n",
       "       [0.00049723, 0.0003868 , 0.0045074 , 0.01597761, 0.02399592,\n",
       "        0.03458279, 0.049248  , 0.05781901, 0.08755057, 0.06368084,\n",
       "        0.07079025, 0.053028  , 0.0471844 , 0.04560588, 0.04424614,\n",
       "        0.04376028, 0.04266825, 0.04255125, 0.04307365, 0.04357846,\n",
       "        0.04472345, 0.04598508, 0.0467878 , 0.04777089],\n",
       "       [0.00050693, 0.00042257, 0.00299954, 0.01027985, 0.01631946,\n",
       "        0.02549908, 0.0435463 , 0.05707501, 0.09492368, 0.0659916 ,\n",
       "        0.07562349, 0.05448643, 0.0476408 , 0.04600129, 0.0445589 ,\n",
       "        0.04420902, 0.04308334, 0.04313768, 0.04399602, 0.04479753,\n",
       "        0.04644193, 0.04823213, 0.04941339, 0.05081409],\n",
       "       [0.00049882, 0.0003979 , 0.00465453, 0.01637604, 0.02443924,\n",
       "        0.0346681 , 0.05009453, 0.05924691, 0.09133954, 0.06493079,\n",
       "        0.07202717, 0.05385521, 0.04761946, 0.04566493, 0.0440414 ,\n",
       "        0.04327825, 0.04194368, 0.04164552, 0.04199195, 0.04236266,\n",
       "        0.04333672, 0.04444745, 0.04513469, 0.04600449],\n",
       "       [0.00037357, 0.00030735, 0.00366263, 0.01351565, 0.02103603,\n",
       "        0.03081533, 0.04707208, 0.05748932, 0.08858296, 0.06464265,\n",
       "        0.07225369, 0.05367023, 0.04751272, 0.04590263, 0.04452696,\n",
       "        0.04409461, 0.04299536, 0.04297109, 0.04366248, 0.04432122,\n",
       "        0.04571343, 0.04723937, 0.04822943, 0.04940925],\n",
       "       [0.00055608, 0.00048599, 0.00308805, 0.01011794, 0.01595755,\n",
       "        0.02466907, 0.04215572, 0.05649466, 0.09692581, 0.06610368,\n",
       "        0.07712832, 0.05431788, 0.04723546, 0.04562353, 0.04419674,\n",
       "        0.04391355, 0.04281566, 0.04294   , 0.04390799, 0.04480974,\n",
       "        0.04662181, 0.04858541, 0.04990316, 0.05144623],\n",
       "       [0.00061943, 0.00054793, 0.00311869, 0.0104953 , 0.01645955,\n",
       "        0.02553396, 0.04286471, 0.05730411, 0.10271194, 0.06658694,\n",
       "        0.0778368 , 0.05469798, 0.047474  , 0.04565467, 0.04407276,\n",
       "        0.04359583, 0.04233579, 0.04226772, 0.04298894, 0.0436761 ,\n",
       "        0.04518662, 0.04683517, 0.04791624, 0.04921884],\n",
       "       [0.00063948, 0.00056647, 0.00358393, 0.01217692, 0.0189634 ,\n",
       "        0.02828647, 0.04547142, 0.05822122, 0.09788746, 0.06566796,\n",
       "        0.07558177, 0.05415516, 0.04746046, 0.04563591, 0.04411596,\n",
       "        0.04358491, 0.04237854, 0.04228437, 0.04290564, 0.04351181,\n",
       "        0.04485848, 0.04632729, 0.04729208, 0.04844294],\n",
       "       [0.00057846, 0.00054439, 0.00318706, 0.01130107, 0.01784175,\n",
       "        0.02669486, 0.04356111, 0.05594908, 0.08892965, 0.06318922,\n",
       "        0.07157478, 0.05422675, 0.04857679, 0.0470758 , 0.04580449,\n",
       "        0.04542518, 0.04439675, 0.04439825, 0.04507707, 0.045729  ,\n",
       "        0.04710551, 0.04857801, 0.04955909, 0.05069582],\n",
       "       [0.00034675, 0.00033667, 0.00257291, 0.00904195, 0.01460753,\n",
       "        0.0219307 , 0.0374175 , 0.05030888, 0.0844524 , 0.05877746,\n",
       "        0.06748658, 0.05191419, 0.04732971, 0.04682149, 0.04630685,\n",
       "        0.04680272, 0.0465994 , 0.04732326, 0.04878109, 0.05007511,\n",
       "        0.05229248, 0.05453145, 0.05612382, 0.05781912],\n",
       "       [0.00162569, 0.0016614 , 0.00504686, 0.01093573, 0.01536686,\n",
       "        0.02133011, 0.03491537, 0.04768045, 0.08295804, 0.05663356,\n",
       "        0.06677013, 0.05106969, 0.04678716, 0.04649162, 0.04613441,\n",
       "        0.04678097, 0.04673254, 0.04756398, 0.04911891, 0.05050395,\n",
       "        0.05283684, 0.05522474, 0.05697678, 0.05885426],\n",
       "       [0.00079308, 0.00079936, 0.00268889, 0.00746603, 0.01151986,\n",
       "        0.01787883, 0.03275173, 0.04653138, 0.07616217, 0.05602101,\n",
       "        0.06513371, 0.0521624 , 0.0485875 , 0.04858676, 0.04843099,\n",
       "        0.04918728, 0.04922588, 0.05005805, 0.05155061, 0.05285742,\n",
       "        0.05503784, 0.05723589, 0.05882301, 0.06051036],\n",
       "       [0.00079009, 0.00079328, 0.00294866, 0.00757136, 0.01142042,\n",
       "        0.01696553, 0.0308949 , 0.04487284, 0.07853296, 0.05515281,\n",
       "        0.06507359, 0.05051366, 0.0466091 , 0.04673188, 0.04676564,\n",
       "        0.04789272, 0.04831603, 0.04965047, 0.05179422, 0.05369515,\n",
       "        0.05671899, 0.05977878, 0.06207216, 0.06444475],\n",
       "       [0.00186033, 0.00195992, 0.00580992, 0.01232878, 0.01669674,\n",
       "        0.02237199, 0.03400145, 0.04487653, 0.07373156, 0.05321551,\n",
       "        0.06137128, 0.04962351, 0.04659054, 0.04679888, 0.04688634,\n",
       "        0.0478649 , 0.04829346, 0.04939612, 0.05111844, 0.05263074,\n",
       "        0.05500943, 0.05738704, 0.05916746, 0.06100912],\n",
       "       [0.00099026, 0.00100435, 0.00295382, 0.0073665 , 0.01130626,\n",
       "        0.0174203 , 0.03209851, 0.04592233, 0.08054729, 0.05633774,\n",
       "        0.06644634, 0.0513036 , 0.0473657 , 0.04744359, 0.04735568,\n",
       "        0.04827851, 0.04846292, 0.04947936, 0.05121484, 0.05273343,\n",
       "        0.05521489, 0.05772331, 0.05954571, 0.06148469],\n",
       "       [0.00037554, 0.00037067, 0.00176792, 0.00662321, 0.01094209,\n",
       "        0.01862578, 0.03478899, 0.04841772, 0.07716327, 0.05859269,\n",
       "        0.06658721, 0.05384081, 0.04998187, 0.04965032, 0.04919236,\n",
       "        0.04955953, 0.04921216, 0.04965342, 0.050711  , 0.05164135,\n",
       "        0.05332963, 0.05507913, 0.05627031, 0.05762307],\n",
       "       [0.00043952, 0.0004364 , 0.00188332, 0.00666777, 0.01082332,\n",
       "        0.01833372, 0.03429756, 0.04817251, 0.07895619, 0.05872218,\n",
       "        0.06727524, 0.05389081, 0.04991911, 0.04958978, 0.04911091,\n",
       "        0.04947828, 0.04910326, 0.04951747, 0.05054964, 0.05145388,\n",
       "        0.05312313, 0.0548538 , 0.05602672, 0.05737543],\n",
       "       [0.00043345, 0.0004295 , 0.00186728, 0.00664462, 0.01080755,\n",
       "        0.01833303, 0.03434141, 0.0482436 , 0.0790512 , 0.05878769,\n",
       "        0.06736054, 0.0539357 , 0.04994075, 0.04959802, 0.0491076 ,\n",
       "        0.04946502, 0.04907873, 0.04948557, 0.0505118 , 0.05141133,\n",
       "        0.05307564, 0.05480209, 0.05597122, 0.05731671],\n",
       "       [0.00043213, 0.00042821, 0.00186439, 0.00663935, 0.01080506,\n",
       "        0.01833223, 0.03435188, 0.04825825, 0.07908168, 0.0588018 ,\n",
       "        0.06737992, 0.05393646, 0.04993499, 0.04959041, 0.04909857,\n",
       "        0.04945564, 0.04906867, 0.04947606, 0.05050366, 0.05140448,\n",
       "        0.05307073, 0.05479918, 0.05596971, 0.05731656],\n",
       "       [0.00043839, 0.00043438, 0.00187627, 0.0066433 , 0.01079543,\n",
       "        0.01830323, 0.03430299, 0.0482205 , 0.07914371, 0.05878682,\n",
       "        0.06737733, 0.05393581, 0.04993973, 0.04959811, 0.04910789,\n",
       "        0.04946581, 0.04907936, 0.04948556, 0.05051085, 0.05140935,\n",
       "        0.05307234, 0.0547974 , 0.0559654 , 0.05731005],\n",
       "       [0.00043932, 0.00043538, 0.00187804, 0.00664389, 0.0107942 ,\n",
       "        0.01829918, 0.03429678, 0.04821688, 0.07916891, 0.05878739,\n",
       "        0.0673859 , 0.05393418, 0.04993634, 0.04959497, 0.04910474,\n",
       "        0.04946312, 0.0490768 , 0.04948324, 0.05050893, 0.05140773,\n",
       "        0.05307131, 0.05479691, 0.05596532, 0.05731048],\n",
       "       [0.00043705, 0.00043308, 0.00187387, 0.00664288, 0.01079824,\n",
       "        0.01830979, 0.03431152, 0.04822554, 0.07913803, 0.0587879 ,\n",
       "        0.06738275, 0.0539312 , 0.04993239, 0.04959101, 0.04910101,\n",
       "        0.04946002, 0.04907452, 0.04948215, 0.05050941, 0.05140962,\n",
       "        0.05307499, 0.05480238, 0.05597216, 0.05731855],\n",
       "       [0.0004369 , 0.00043295, 0.00187332, 0.00663929, 0.01079439,\n",
       "        0.01830455, 0.0343119 , 0.04822746, 0.0791265 , 0.05878933,\n",
       "        0.06737224, 0.05393286, 0.04993645, 0.04959474, 0.0491049 ,\n",
       "        0.04946332, 0.04907766, 0.04948511, 0.05051201, 0.05141199,\n",
       "        0.05307676, 0.05480362, 0.05597302, 0.05731879]], dtype=float32)"
      ]
     },
     "execution_count": 16,
     "metadata": {},
     "output_type": "execute_result"
    }
   ],
   "source": [
    "import matplotlib.pyplot as plt\n",
    "attentions[0].detach().cpu().numpy()"
   ]
  },
  {
   "cell_type": "code",
   "execution_count": 17,
   "id": "c7e0c427-e463-4d9f-98c5-9efe8fcb7af2",
   "metadata": {},
   "outputs": [
    {
     "data": {
      "text/plain": [
       "<matplotlib.image.AxesImage at 0x7f17e4cda350>"
      ]
     },
     "execution_count": 17,
     "metadata": {},
     "output_type": "execute_result"
    },
    {
     "data": {
      "image/png": "[encoded data removed]",
      "text/plain": [
       "<Figure size 640x480 with 1 Axes>"
      ]
     },
     "metadata": {},
     "output_type": "display_data"
    }
   ],
   "source": [
    "import matplotlib.pyplot as plt\n",
    "plt.imshow(attentions[0].detach().cpu().numpy())"
   ]
  },
  {
   "cell_type": "code",
   "execution_count": null,
   "id": "26381daa-ec0f-436d-9617-9828d7ea737b",
   "metadata": {},
   "outputs": [],
   "source": []
  }
 ],
 "metadata": {
  "kernelspec": {
   "display_name": "Python 3 (ipykernel)",
   "language": "python",
   "name": "python3"
  },
  "language_info": {
   "codemirror_mode": {
    "name": "ipython",
    "version": 3
   },
   "file_extension": ".py",
   "mimetype": "text/x-python",
   "name": "python",
   "nbconvert_exporter": "python",
   "pygments_lexer": "ipython3",
   "version": "3.10.12"
  }
 },
 "nbformat": 4,
 "nbformat_minor": 5
}
