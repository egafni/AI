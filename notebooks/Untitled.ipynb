{
 "cells": [
  {
   "cell_type": "code",
   "execution_count": 20,
   "id": "26ba5b19-3441-4bf9-bae4-0c4865fbb629",
   "metadata": {},
   "outputs": [],
   "source": [
    "import matplotlib.pyplot as plt\n",
    "import numpy as np\n",
    "norm = np.linalg.norm"
   ]
  },
  {
   "cell_type": "code",
   "execution_count": 185,
   "id": "97f06b9b-d42c-451f-a051-02756a384ab2",
   "metadata": {},
   "outputs": [],
   "source": [
    "nums = [5,2,-3,-2,0,27,25]\n",
    "n = len(nums)\n",
    "\n",
    "for i in range(n):\n",
    "    while 1 <= nums[i] <= n and nums[nums[i] - 1] != nums[i]:\n",
    "        nums[nums[i] - 1], nums[i] = nums[i], nums[nums[i] - 1]\n",
    "        break"
   ]
  },
  {
   "cell_type": "code",
   "execution_count": 195,
   "id": "97a6641f-cf33-47c1-9da6-cab3fa8400ae",
   "metadata": {},
   "outputs": [
    {
     "data": {
      "text/plain": [
       "'000000asdf'"
      ]
     },
     "execution_count": 195,
     "metadata": {},
     "output_type": "execute_result"
    }
   ],
   "source": [
    "import re\n",
    "'asdf'.zfill(10)"
   ]
  },
  {
   "cell_type": "code",
   "execution_count": 188,
   "id": "5993fc0f-b15f-4d42-9853-03d64d3e4643",
   "metadata": {},
   "outputs": [
    {
     "data": {
      "text/plain": [
       "24"
      ]
     },
     "execution_count": 188,
     "metadata": {},
     "output_type": "execute_result"
    }
   ],
   "source": [
    "nums[i]-1"
   ]
  },
  {
   "cell_type": "code",
   "execution_count": 186,
   "id": "07dd8eec-062b-4f37-bd46-6ca5e9d41792",
   "metadata": {},
   "outputs": [
    {
     "data": {
      "text/plain": [
       "[0, 2, -3, -2, 5, 27, 25]"
      ]
     },
     "execution_count": 186,
     "metadata": {},
     "output_type": "execute_result"
    }
   ],
   "source": [
    "nums"
   ]
  },
  {
   "cell_type": "code",
   "execution_count": 168,
   "id": "2b5b20ef-85de-4fa4-a096-3136e608a27a",
   "metadata": {},
   "outputs": [
    {
     "data": {
      "text/plain": [
       "0.0"
      ]
     },
     "execution_count": 168,
     "metadata": {},
     "output_type": "execute_result"
    }
   ],
   "source": [
    "x, y = np.array([1,.1]), np.array([-.1,1])\n",
    "x@y/(norm(x)*norm(y))"
   ]
  },
  {
   "cell_type": "code",
   "execution_count": 169,
   "id": "0a692cf0-4e7a-4e0f-a680-776baa13bea4",
   "metadata": {},
   "outputs": [
    {
     "data": {
      "text/plain": [
       "(1.004987562112089, 1.004987562112089)"
      ]
     },
     "execution_count": 169,
     "metadata": {},
     "output_type": "execute_result"
    }
   ],
   "source": [
    "norm(x), norm(y)"
   ]
  },
  {
   "cell_type": "code",
   "execution_count": 170,
   "id": "998d39f3-c782-4c76-8fad-f622d92f90e3",
   "metadata": {},
   "outputs": [
    {
     "data": {
      "text/plain": [
       "(-10.0, 10.0)"
      ]
     },
     "execution_count": 170,
     "metadata": {},
     "output_type": "execute_result"
    },
    {
     "data": {
      "image/png": "[encoded data removed]",
      "text/plain": [
       "<Figure size 640x480 with 1 Axes>"
      ]
     },
     "metadata": {},
     "output_type": "display_data"
    }
   ],
   "source": [
    "fig, ax = plt.subplots()\n",
    "ax.plot([0,x[0]],[0,x[1]])\n",
    "ax.plot([0,y[0]],[0,y[1]])\n",
    "ax.set_xlim(-10,10)\n",
    "ax.set_ylim(-10,10)"
   ]
  },
  {
   "cell_type": "code",
   "execution_count": 123,
   "id": "97ca91df-5eab-4fbb-a11d-f75ee10aa42b",
   "metadata": {},
   "outputs": [
    {
     "name": "stdout",
     "output_type": "stream",
     "text": [
      "(array([1, 4, 9]), array([  1, 100, 100]))\n"
     ]
    },
    {
     "data": {
      "text/plain": [
       "(14, 201)"
      ]
     },
     "execution_count": 123,
     "metadata": {},
     "output_type": "execute_result"
    }
   ],
   "source": [
    "x = np.array([1,-2,3,1,10,10])\n",
    "z = x[:3]**2, x[3:]**2\n",
    "print(z)\n",
    "z[0].sum(), z[1].sum()"
   ]
  },
  {
   "cell_type": "code",
   "execution_count": 124,
   "id": "bd062242-7d53-4cb0-892d-7b2d9ce3e80d",
   "metadata": {},
   "outputs": [
    {
     "data": {
      "text/plain": [
       "53.04714883949938"
      ]
     },
     "execution_count": 124,
     "metadata": {},
     "output_type": "execute_result"
    }
   ],
   "source": [
    "np.sqrt(z[0].sum()) * np.sqrt(z[1].sum())"
   ]
  },
  {
   "cell_type": "code",
   "execution_count": 125,
   "id": "5797d01f-12fb-43f7-ab7c-021eba251054",
   "metadata": {},
   "outputs": [
    {
     "data": {
      "text/plain": [
       "11"
      ]
     },
     "execution_count": 125,
     "metadata": {},
     "output_type": "execute_result"
    }
   ],
   "source": [
    "x[:3]@x[3:]"
   ]
  },
  {
   "cell_type": "code",
   "execution_count": 99,
   "id": "ebb65713-91b7-41e9-81ac-9ae369847b19",
   "metadata": {},
   "outputs": [
    {
     "data": {
      "text/plain": [
       "225"
      ]
     },
     "execution_count": 99,
     "metadata": {},
     "output_type": "execute_result"
    }
   ],
   "source": [
    "(5*3)**2\n",
    "\n",
    "5**2*3**2"
   ]
  },
  {
   "cell_type": "code",
   "execution_count": 100,
   "id": "ec49b475-ae16-4380-97c1-9f91d94f081c",
   "metadata": {},
   "outputs": [
    {
     "data": {
      "text/plain": [
       "(-14.0, -14.0)"
      ]
     },
     "execution_count": 100,
     "metadata": {},
     "output_type": "execute_result"
    }
   ],
   "source": [
    "x = np.array([1,-2,3,10])\n",
    "f = lambda x: x[-1]-x.mean()\n",
    "a = -4\n",
    "b = 2\n",
    "\n",
    "f(x*a+x*b),a*f(x)+b*f(x)"
   ]
  },
  {
   "cell_type": "code",
   "execution_count": 91,
   "id": "318a5f0d-3f23-4690-89fa-b5c0e8331dc1",
   "metadata": {},
   "outputs": [],
   "source": [
    "# (x[0]+x[1]+x[2])/3"
   ]
  },
  {
   "cell_type": "code",
   "execution_count": 96,
   "id": "c2444d2e-4bce-42ba-8f73-a66aa12cde8c",
   "metadata": {},
   "outputs": [
    {
     "data": {
      "text/plain": [
       "7.0"
      ]
     },
     "execution_count": 96,
     "metadata": {},
     "output_type": "execute_result"
    }
   ],
   "source": [
    "[-1/4.,-1/4.,-1/4,1-1/4] @ x"
   ]
  },
  {
   "cell_type": "code",
   "execution_count": 93,
   "id": "d55062aa-323c-495e-b4b3-0d41e41a50bb",
   "metadata": {},
   "outputs": [
    {
     "data": {
      "text/plain": [
       "7.0"
      ]
     },
     "execution_count": 93,
     "metadata": {},
     "output_type": "execute_result"
    }
   ],
   "source": [
    "f(x)"
   ]
  },
  {
   "cell_type": "code",
   "execution_count": null,
   "id": "031c5b65-f734-4c1d-ba22-2041ab585890",
   "metadata": {},
   "outputs": [],
   "source": []
  },
  {
   "cell_type": "code",
   "execution_count": 63,
   "id": "96679963-bd4d-4f20-81e8-89578a3db88a",
   "metadata": {},
   "outputs": [
    {
     "data": {
      "text/plain": [
       "(4.666666666666667, 4.666666666666667)"
      ]
     },
     "execution_count": 63,
     "metadata": {},
     "output_type": "execute_result"
    }
   ],
   "source": [
    "x@x/n, norm(x)**2/n"
   ]
  },
  {
   "cell_type": "code",
   "execution_count": 42,
   "id": "59f4b97c-8646-42ed-9f27-4bf74fed6105",
   "metadata": {},
   "outputs": [
    {
     "data": {
      "text/plain": [
       "2.160246899469287"
      ]
     },
     "execution_count": 42,
     "metadata": {},
     "output_type": "execute_result"
    }
   ],
   "source": [
    "x = np.ones(10)\n",
    "x = np.array([1,-2,3])\n",
    "n = len(x)\n",
    "np.sqrt(sum(x**2) / n)"
   ]
  },
  {
   "cell_type": "code",
   "execution_count": 46,
   "id": "0ef95842-9583-4c94-91ba-b2d54263b1d3",
   "metadata": {},
   "outputs": [
    {
     "data": {
      "text/plain": [
       "2.449489742783178"
      ]
     },
     "execution_count": 46,
     "metadata": {},
     "output_type": "execute_result"
    }
   ],
   "source": [
    "np.sqrt(np.abs(x).sum())"
   ]
  },
  {
   "cell_type": "code",
   "execution_count": 52,
   "id": "2f391ed8-1431-4dfc-8093-8039fcb0a9cb",
   "metadata": {},
   "outputs": [
    {
     "data": {
      "text/plain": [
       "3.464101615137755"
      ]
     },
     "execution_count": 52,
     "metadata": {},
     "output_type": "execute_result"
    }
   ],
   "source": [
    "norm(x,1) / np.sqrt(n)"
   ]
  },
  {
   "cell_type": "code",
   "execution_count": 53,
   "id": "234e1e0a-19f2-48bd-8376-a56041cd639c",
   "metadata": {},
   "outputs": [
    {
     "data": {
      "text/plain": [
       "1.116789652944836"
      ]
     },
     "execution_count": 53,
     "metadata": {},
     "output_type": "execute_result"
    }
   ],
   "source": [
    "np.sqrt(norm(x,2) / n)"
   ]
  },
  {
   "cell_type": "code",
   "execution_count": 13,
   "id": "28abeb6f-f93e-48a9-b1a0-66b053eb8c7e",
   "metadata": {},
   "outputs": [
    {
     "data": {
      "text/plain": [
       "3.7416573867739413"
      ]
     },
     "execution_count": 13,
     "metadata": {},
     "output_type": "execute_result"
    }
   ],
   "source": [
    "x = np.array([1,-2,3])\n",
    "np.linalg.norm(x)"
   ]
  },
  {
   "cell_type": "code",
   "execution_count": 17,
   "id": "7b113919-4e0c-47e4-b152-4d43e2a7c8ac",
   "metadata": {},
   "outputs": [
    {
     "data": {
      "text/plain": [
       "(0.7745966692414834, 0.7745966692414833)"
      ]
     },
     "execution_count": 17,
     "metadata": {},
     "output_type": "execute_result"
    }
   ],
   "source": [
    "np.sqrt(3/5) , np.sqrt(3) / np.sqrt(5)"
   ]
  },
  {
   "cell_type": "code",
   "execution_count": 29,
   "id": "18eff47b-8a98-401e-889d-da6b1816caa4",
   "metadata": {},
   "outputs": [],
   "source": [
    "# sum(x.abs())"
   ]
  },
  {
   "cell_type": "code",
   "execution_count": 26,
   "id": "a9a50657-bf9b-4827-a8a8-bd82a65ff1bc",
   "metadata": {},
   "outputs": [
    {
     "data": {
      "text/plain": [
       "6.0"
      ]
     },
     "execution_count": 26,
     "metadata": {},
     "output_type": "execute_result"
    }
   ],
   "source": [
    "norm(x,1)"
   ]
  },
  {
   "cell_type": "code",
   "execution_count": 25,
   "id": "47543503-a957-4b31-9623-28d261eeb1e9",
   "metadata": {},
   "outputs": [
    {
     "data": {
      "text/plain": [
       "5.0"
      ]
     },
     "execution_count": 25,
     "metadata": {},
     "output_type": "execute_result"
    }
   ],
   "source": [
    "norm(5)"
   ]
  },
  {
   "cell_type": "code",
   "execution_count": 24,
   "id": "c62a2535-4d28-4cb3-8de0-d6d40835d798",
   "metadata": {},
   "outputs": [
    {
     "data": {
      "text/plain": [
       "(10.44030650891055, 8.74165738677394)"
      ]
     },
     "execution_count": 24,
     "metadata": {},
     "output_type": "execute_result"
    }
   ],
   "source": [
    "norm(x+5), norm(x) + norm(5)"
   ]
  },
  {
   "cell_type": "code",
   "execution_count": 15,
   "id": "3b30ad77-0536-4880-a0d8-c839b05e61a8",
   "metadata": {},
   "outputs": [
    {
     "data": {
      "text/plain": [
       "3.7416573867739413"
      ]
     },
     "execution_count": 15,
     "metadata": {},
     "output_type": "execute_result"
    }
   ],
   "source": [
    "np.sqrt(x.T@x)"
   ]
  },
  {
   "cell_type": "code",
   "execution_count": 2,
   "id": "6975914f-1fc3-4d49-a41f-a84eb2de0c54",
   "metadata": {},
   "outputs": [
    {
     "data": {
      "image/png": "[encoded data removed]",
      "text/plain": [
       "<Figure size 600x600 with 1 Axes>"
      ]
     },
     "metadata": {},
     "output_type": "display_data"
    }
   ],
   "source": [
    "import matplotlib.pyplot as plt\n",
    "import numpy as np\n",
    "\n",
    "# Basis vectors\n",
    "i = i_hat = np.array([1, 0])\n",
    "j = j_hat = np.array([0, 1])\n",
    "\n",
    "# Creating the plot\n",
    "plt.figure(figsize=(6, 6))\n",
    "plt.quiver(0, 0, i_hat[0], i_hat[1], angles='xy', scale_units='xy', scale=1, color='r', label='i-hat')\n",
    "plt.quiver(0, 0, j_hat[0], j_hat[1], angles='xy', scale_units='xy', scale=1, color='b', label='j-hat')\n",
    "\n",
    "# Setting the limits and labels\n",
    "plt.xlim(-2, 2)\n",
    "plt.ylim(-2, 2)\n",
    "plt.xlabel('X axis')\n",
    "plt.ylabel('Y axis')\n",
    "plt.title('Plot of Basis Vectors')\n",
    "plt.grid(True)\n",
    "plt.axhline(y=0, color='k')\n",
    "plt.axvline(x=0, color='k')\n",
    "plt.legend()\n",
    "plt.show()"
   ]
  },
  {
   "cell_type": "code",
   "execution_count": 12,
   "id": "01858b8d-a2ea-4e3c-9c51-8d8c9e10286f",
   "metadata": {},
   "outputs": [
    {
     "data": {
      "text/plain": [
       "(array([0, 2, 3]),)"
      ]
     },
     "execution_count": 12,
     "metadata": {},
     "output_type": "execute_result"
    }
   ],
   "source": [
    "np.where([1,0,1,1])"
   ]
  },
  {
   "cell_type": "code",
   "execution_count": 8,
   "id": "7e9112a0-7621-4bcb-bc09-c17d11cf8df0",
   "metadata": {},
   "outputs": [
    {
     "data": {
      "text/plain": [
       "array([0, 1])"
      ]
     },
     "execution_count": 8,
     "metadata": {},
     "output_type": "execute_result"
    }
   ],
   "source": [
    "j"
   ]
  },
  {
   "cell_type": "code",
   "execution_count": 10,
   "id": "153d5551-f5ee-475c-8a96-24585dcab684",
   "metadata": {},
   "outputs": [
    {
     "data": {
      "text/plain": [
       "0"
      ]
     },
     "execution_count": 10,
     "metadata": {},
     "output_type": "execute_result"
    }
   ],
   "source": []
  },
  {
   "cell_type": "code",
   "execution_count": 6,
   "id": "203f096d-57e6-4311-9e5b-44e7c0386904",
   "metadata": {},
   "outputs": [
    {
     "data": {
      "text/plain": [
       "array([0, 1])"
      ]
     },
     "execution_count": 6,
     "metadata": {},
     "output_type": "execute_result"
    }
   ],
   "source": [
    "j"
   ]
  }
 ],
 "metadata": {
  "kernelspec": {
   "display_name": "Python 3 (ipykernel)",
   "language": "python",
   "name": "python3"
  },
  "language_info": {
   "codemirror_mode": {
    "name": "ipython",
    "version": 3
   },
   "file_extension": ".py",
   "mimetype": "text/x-python",
   "name": "python",
   "nbconvert_exporter": "python",
   "pygments_lexer": "ipython3",
   "version": "3.11.6"
  }
 },
 "nbformat": 4,
 "nbformat_minor": 5
}
