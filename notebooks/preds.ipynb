{
 "cells": [
  {
   "cell_type": "code",
   "execution_count": null,
   "id": "61abdfa8-1c93-40c2-83d6-3bed80a7a615",
   "metadata": {},
   "outputs": [],
   "source": []
  },
  {
   "cell_type": "code",
   "execution_count": 2,
   "id": "5876cfe3-2059-4f09-b1a4-9a60361ec77c",
   "metadata": {},
   "outputs": [],
   "source": [
    "from ai.train import TrainNNConfig\n",
    "%load_ext autoreload\n",
    "%autoreload 2\n",
    "config = TrainNNConfig.from_yaml_file('/Users/egafni/projects/AI/experiments/next_token/wavenet/exp_0/train.config')"
   ]
  },
  {
   "cell_type": "code",
   "execution_count": 19,
   "id": "c8c676a0-351d-4931-ab58-05f547474cf1",
   "metadata": {},
   "outputs": [
    {
     "name": "stderr",
     "output_type": "stream",
     "text": [
      "\u001b[32m2023-11-25 00:20:06.572\u001b[0m | \u001b[1mINFO    \u001b[0m | \u001b[36mai.datamodule.text\u001b[0m:\u001b[36mprepare_data\u001b[0m:\u001b[36m76\u001b[0m - \u001b[1mCreating datasets...\u001b[0m\n"
     ]
    }
   ],
   "source": [
    "dm = config.datamodule.i()\n",
    "dm.prepare_data()"
   ]
  },
  {
   "cell_type": "code",
   "execution_count": 20,
   "id": "8447f242-9645-4883-8065-4f0d6a52db42",
   "metadata": {},
   "outputs": [
    {
     "data": {
      "text/plain": [
       "<ai.datamodule.text.TextDataset at 0x287c20190>"
      ]
     },
     "execution_count": 20,
     "metadata": {},
     "output_type": "execute_result"
    }
   ],
   "source": [
    ")"
   ]
  },
  {
   "cell_type": "code",
   "execution_count": 7,
   "id": "642a2891-6c17-4ee6-852a-fefc53f7eb27",
   "metadata": {},
   "outputs": [],
   "source": [
    "model_class = config.lightning_module.get_target()\n",
    "model = model_class.load_from_checkpoint('/Users/egafni/projects/AI/experiments/next_token/wavenet/exp_0/checkpoints/epoch0__step400.ckpt')"
   ]
  },
  {
   "cell_type": "code",
   "execution_count": 12,
   "id": "b026eacf-7810-459e-9020-4c6e97935706",
   "metadata": {},
   "outputs": [],
   "source": [
    "x,y = next(iter(dm.test_dataloader()))"
   ]
  },
  {
   "cell_type": "code",
   "execution_count": 23,
   "id": "11ef3bf3-f4f4-49ee-9f2c-63ce23bbe53e",
   "metadata": {},
   "outputs": [],
   "source": [
    "# dm.train_dataloader.dat\n",
    "y_hat = model.generate(x[:1,:], 100)\n"
   ]
  },
  {
   "cell_type": "code",
   "execution_count": 28,
   "id": "e8aa9c34-331b-46e7-b74f-ca95a5883c0e",
   "metadata": {},
   "outputs": [
    {
     "data": {
      "text/plain": [
       "tensor([[14, 21,  5, 12,  0,  1, 14, 19, 21, 13,  1, 14,  1,  0,  1, 14, 20,  1,\n",
       "         18,  5, 19,  0,  1, 14, 21, 19,  8,  0,  1, 15,  0,  1]])"
      ]
     },
     "execution_count": 28,
     "metadata": {},
     "output_type": "execute_result"
    }
   ],
   "source": [
    "x[:1,:]"
   ]
  },
  {
   "cell_type": "code",
   "execution_count": 24,
   "id": "5b077fd4-34b8-452e-a408-d3a991577b13",
   "metadata": {},
   "outputs": [
    {
     "data": {
      "text/plain": [
       "tensor([[13,  2,  5, 19, 20,  5, 25,  1,  5,  0, 10,  1, 12,  9, 12, 14, 25,  0,\n",
       "         16,  1, 13,  1,  0, 10,  1,  0, 11,  5, 12,  1, 14,  0, 22,  9,  5, 12,\n",
       "         25, 14,  0, 13,  1, 13, 25,  9,  5,  0, 17, 11,  9, 19, 19,  5,  0, 10,\n",
       "         15, 13, 25,  0, 19,  5, 14, 26,  1,  9,  0, 11,  9, 22,  9,  0, 26,  5,\n",
       "         12,  5, 18, 25,  1,  8,  0, 14,  1, 13, 25,  0,  3,  1, 12,  9,  1,  0,\n",
       "         18,  1, 12,  5,  5, 12, 12,  1,  0, 19]])"
      ]
     },
     "execution_count": 24,
     "metadata": {},
     "output_type": "execute_result"
    }
   ],
   "source": [
    "y_hat"
   ]
  },
  {
   "cell_type": "code",
   "execution_count": 27,
   "id": "30422334-ad8b-4e25-be97-230af1d3a75e",
   "metadata": {},
   "outputs": [
    {
     "name": "stdout",
     "output_type": "stream",
     "text": [
      "mbesteyae\n",
      "jalilny\n",
      "pama\n",
      "ja\n",
      "kelan\n",
      "vielyn\n",
      "mamyie\n",
      "qkisse\n",
      "jomy\n",
      "senzai\n",
      "kivi\n",
      "zeleryah\n",
      "namy\n",
      "calia\n",
      "raleella\n",
      "s\n"
     ]
    }
   ],
   "source": [
    "print(''.join(dm.ds_train.decode(y_hat[0])))"
   ]
  },
  {
   "cell_type": "code",
   "execution_count": null,
   "id": "d40852e2-6dec-4feb-a4f9-70dfabc8dd78",
   "metadata": {},
   "outputs": [],
   "source": [
    "class WaveBlock(nn.Module):\n",
    "    def __init__(self, in_channels, out_channels, dilation_rates, kernel_size):\n",
    "        super(WaveBlock, self).__init__()\n",
    "        self.num_rates = dilation_rates\n",
    "        self.convs = nn.ModuleList()\n",
    "        self.filter_convs = nn.ModuleList()\n",
    "        self.gate_convs = nn.ModuleList()\n",
    "\n",
    "        self.convs.append(nn.Conv1d(in_channels, out_channels, kernel_size=1))\n",
    "        dilation_rates = [2 ** i for i in range(dilation_rates)]\n",
    "        for dilation_rate in dilation_rates:\n",
    "            self.filter_convs.append(\n",
    "                nn.Conv1d(out_channels, out_channels, kernel_size=kernel_size,\n",
    "                          padding=int((dilation_rate * (kernel_size - 1)) / 2), dilation=dilation_rate))\n",
    "            self.gate_convs.append(\n",
    "                nn.Conv1d(out_channels, out_channels, kernel_size=kernel_size,\n",
    "                          padding=int((dilation_rate * (kernel_size - 1)) / 2), dilation=dilation_rate))\n",
    "            self.convs.append(nn.Conv1d(out_channels, out_channels, kernel_size=1))\n",
    "\n",
    "    def forward(self, x):\n",
    "        x = self.convs[0](x)\n",
    "        res = x\n",
    "        for i in range(self.num_rates):\n",
    "            x = torch.tanh(self.filter_convs[i](x)) * torch.sigmoid(self.gate_convs[i](x))\n",
    "            x = self.convs[i + 1](x)\n",
    "            res = res + x\n",
    "        return res"
   ]
  }
 ],
 "metadata": {
  "kernelspec": {
   "display_name": "Python 3 (ipykernel)",
   "language": "python",
   "name": "python3"
  },
  "language_info": {
   "codemirror_mode": {
    "name": "ipython",
    "version": 3
   },
   "file_extension": ".py",
   "mimetype": "text/x-python",
   "name": "python",
   "nbconvert_exporter": "python",
   "pygments_lexer": "ipython3",
   "version": "3.11.6"
  }
 },
 "nbformat": 4,
 "nbformat_minor": 5
}
