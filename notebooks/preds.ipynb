{
 "cells": [
  {
   "cell_type": "code",
   "execution_count": 12,
   "id": "657fd300-3429-4240-9809-efbea2224a2c",
   "metadata": {},
   "outputs": [
    {
     "data": {
      "text/plain": [
       "'dqfpf58t'"
      ]
     },
     "execution_count": 12,
     "metadata": {},
     "output_type": "execute_result"
    }
   ],
   "source": [
    "import wandb\n",
    "import torch\n",
    "wandb.util.generate_id()"
   ]
  },
  {
   "cell_type": "code",
   "execution_count": 2,
   "id": "5876cfe3-2059-4f09-b1a4-9a60361ec77c",
   "metadata": {},
   "outputs": [
    {
     "name": "stderr",
     "output_type": "stream",
     "text": [
      "/static/user/spock/.cache/pypoetry/virtualenvs/ai-iwSNfyWa-py3.10/lib/python3.10/site-packages/tqdm/auto.py:21: TqdmWarning: IProgress not found. Please update jupyter and ipywidgets. See https://ipywidgets.readthedocs.io/en/stable/user_install.html\n",
      "  from .autonotebook import tqdm as notebook_tqdm\n"
     ]
    }
   ],
   "source": [
    "from ai.train import TrainNNConfig\n",
    "%load_ext autoreload\n",
    "%autoreload 2\n",
    "config = TrainNNConfig.from_yaml_file('/mnt/ssd3/user/spock/projects/AI/experiments/next_token/WaveNet/shuffle_v2/train.config')\n",
    "config = TrainNNConfig.from_yaml_file('/mnt/ssd3/user/spock/projects/AI/experiments/next_token/SimpleLSTM/v1/train.config')\n",
    "config = TrainNNConfig.from_yaml_file('/mnt/ssd3/user/spock/projects/AI/experiments/next_token/Transformer/v5/train.config')"
   ]
  },
  {
   "cell_type": "code",
   "execution_count": 3,
   "id": "c8c676a0-351d-4931-ab58-05f547474cf1",
   "metadata": {},
   "outputs": [
    {
     "name": "stderr",
     "output_type": "stream",
     "text": [
      "\u001b[32m2023-11-25 15:50:35.088\u001b[0m | \u001b[1mINFO    \u001b[0m | \u001b[36mai.datamodule.text\u001b[0m:\u001b[36mprepare_data\u001b[0m:\u001b[36m76\u001b[0m - \u001b[1mCreating datasets...\u001b[0m\n"
     ]
    }
   ],
   "source": [
    "dm = config.datamodule.i()\n",
    "dm.prepare_data()"
   ]
  },
  {
   "cell_type": "code",
   "execution_count": 18,
   "id": "642a2891-6c17-4ee6-852a-fefc53f7eb27",
   "metadata": {},
   "outputs": [],
   "source": [
    "model_class = config.lightning_module.get_target()\n",
    "model = model_class.load_from_checkpoint('/mnt/ssd3/user/spock/projects/AI/experiments/next_token/Transformer/v5//checkpoints/epoch0__step2000.ckpt')\n"
   ]
  },
  {
   "cell_type": "code",
   "execution_count": 19,
   "id": "b026eacf-7810-459e-9020-4c6e97935706",
   "metadata": {},
   "outputs": [],
   "source": [
    "x,y = next(iter(dm.train_dataloader()))"
   ]
  },
  {
   "cell_type": "code",
   "execution_count": 20,
   "id": "7a24a701-f17e-4413-950d-1e9325259615",
   "metadata": {},
   "outputs": [],
   "source": [
    "model = model.to('cpu')"
   ]
  },
  {
   "cell_type": "code",
   "execution_count": 21,
   "id": "1426ea0d-e30d-458f-afe1-347cf8a2fb40",
   "metadata": {},
   "outputs": [],
   "source": [
    "with torch.inference_mode():\n",
    "    y_hat = model(x)\n",
    "    y_hat.shape"
   ]
  },
  {
   "cell_type": "code",
   "execution_count": 22,
   "id": "11ef3bf3-f4f4-49ee-9f2c-63ce23bbe53e",
   "metadata": {},
   "outputs": [],
   "source": [
    "# dm.train_dataloader.dat\n",
    "g = model.generate(x[:1,:], 500)"
   ]
  },
  {
   "cell_type": "code",
   "execution_count": 23,
   "id": "2c983761-08c7-4e7e-903c-7e4f598d0484",
   "metadata": {},
   "outputs": [
    {
     "name": "stdout",
     "output_type": "stream",
     "text": [
      "ange to affen,\n",
      "Now, heis roth more to sack arm whill you, his\n",
      "Hen, I have to not knowly you fachied.\n",
      "\n",
      "GLOUZAS:\n",
      "He slemp you wrond sinst Very art it kingg.\n",
      "\n",
      "KING RICHARD III:\n",
      "Astend tames, I seafs yet him she body king.\n",
      "\n",
      "Ken you Keeps his virth as with fall no heare wome?\n",
      "\n",
      "CARLAMILLANUS:\n",
      "Go what to for sat on her tleman she,\n",
      "This spake you measet, but I same,\n",
      "Hath therein; he tell year'st more it a feels.\n",
      "\n",
      "KING HENRY VI:\n",
      "My, which Clip shall body, I have corsaw our your begar'd\n",
      "Too her? thy them,\n"
     ]
    }
   ],
   "source": [
    "print(''.join(dm.ds_train.decode(g[0])))"
   ]
  },
  {
   "cell_type": "code",
   "execution_count": 17,
   "id": "30422334-ad8b-4e25-be97-230af1d3a75e",
   "metadata": {},
   "outputs": [
    {
     "name": "stdout",
     "output_type": "stream",
     "text": [
      "st:\n",
      "Tonge, beseected mannest sother those twake\n",
      "Pentroan exeofs andul ever wien.\n",
      "\n",
      "BRALA:\n",
      "Faulse in extrer;\n",
      "And but ne his be;\n",
      "Of vel neve be what this all stay avectors?\n",
      "\n",
      "MENENIUS:\n",
      "Now futter speer, like;\n",
      "\n",
      "CORIONUS:\n",
      "And on stall geran; I day, too, anst them, to-nain in\n",
      "ester a noble their goge.\n",
      "Which with you lose and, you tell, harly?\n",
      "\n",
      "HeSTINGSS:\n",
      "Tyse you my lord;\n",
      "Came, I tarm, tlovines then than then\n",
      "as I suchpoirshed dewich'd.'\n",
      "How that wrohk sworer, I am worness?\n",
      "\n",
      "AMust hearnend\n",
      "senatings d \n"
     ]
    }
   ],
   "source": [
    "print(''.join(dm.ds_train.decode(g[0])))"
   ]
  },
  {
   "cell_type": "code",
   "execution_count": 32,
   "id": "d40852e2-6dec-4feb-a4f9-70dfabc8dd78",
   "metadata": {},
   "outputs": [],
   "source": [
    "# class WaveBlock(nn.Module):\n",
    "#     def __init__(self, in_channels, out_channels, dilation_rates, kernel_size):\n",
    "#         super(WaveBlock, self).__init__()\n",
    "#         self.num_rates = dilation_rates\n",
    "#         self.convs = nn.ModuleList()\n",
    "#         self.filter_convs = nn.ModuleList()\n",
    "#         self.gate_convs = nn.ModuleList()\n",
    "\n",
    "#         self.convs.append(nn.Conv1d(in_channels, out_channels, kernel_size=1))\n",
    "#         dilation_rates = [2 ** i for i in range(dilation_rates)]\n",
    "#         for dilation_rate in dilation_rates:\n",
    "#             self.filter_convs.append(\n",
    "#                 nn.Conv1d(out_channels, out_channels, kernel_size=kernel_size,\n",
    "#                           padding=int((dilation_rate * (kernel_size - 1)) / 2), dilation=dilation_rate))\n",
    "#             self.gate_convs.append(\n",
    "#                 nn.Conv1d(out_channels, out_channels, kernel_size=kernel_size,\n",
    "#                           padding=int((dilation_rate * (kernel_size - 1)) / 2), dilation=dilation_rate))\n",
    "#             self.convs.append(nn.Conv1d(out_channels, out_channels, kernel_size=1))\n",
    "\n",
    "#     def forward(self, x):\n",
    "#         x = self.convs[0](x)\n",
    "#         res = x\n",
    "#         for i in range(self.num_rates):\n",
    "#             x = torch.tanh(self.filter_convs[i](x)) * torch.sigmoid(self.gate_convs[i](x))\n",
    "#             x = self.convs[i + 1](x)\n",
    "#             res = res + x\n",
    "#         return res"
   ]
  },
  {
   "cell_type": "code",
   "execution_count": null,
   "id": "0d943984-43f7-45be-be61-516c9b265460",
   "metadata": {},
   "outputs": [],
   "source": []
  }
 ],
 "metadata": {
  "kernelspec": {
   "display_name": "Python 3 (ipykernel)",
   "language": "python",
   "name": "python3"
  },
  "language_info": {
   "codemirror_mode": {
    "name": "ipython",
    "version": 3
   },
   "file_extension": ".py",
   "mimetype": "text/x-python",
   "name": "python",
   "nbconvert_exporter": "python",
   "pygments_lexer": "ipython3",
   "version": "3.10.12"
  }
 },
 "nbformat": 4,
 "nbformat_minor": 5
}
