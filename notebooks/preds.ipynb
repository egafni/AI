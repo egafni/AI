{
 "cells": [
  {
   "cell_type": "code",
   "execution_count": 12,
   "id": "657fd300-3429-4240-9809-efbea2224a2c",
   "metadata": {},
   "outputs": [
    {
     "data": {
      "text/plain": [
       "'dqfpf58t'"
      ]
     },
     "execution_count": 12,
     "metadata": {},
     "output_type": "execute_result"
    }
   ],
   "source": [
    "import wandb\n",
    "import torch\n",
    "wandb.util.generate_id()"
   ]
  },
  {
   "cell_type": "code",
   "execution_count": 2,
   "id": "5876cfe3-2059-4f09-b1a4-9a60361ec77c",
   "metadata": {},
   "outputs": [
    {
     "name": "stderr",
     "output_type": "stream",
     "text": [
      "/static/user/spock/.cache/pypoetry/virtualenvs/ai-iwSNfyWa-py3.10/lib/python3.10/site-packages/tqdm/auto.py:21: TqdmWarning: IProgress not found. Please update jupyter and ipywidgets. See https://ipywidgets.readthedocs.io/en/stable/user_install.html\n",
      "  from .autonotebook import tqdm as notebook_tqdm\n"
     ]
    }
   ],
   "source": [
    "from ai.train import TrainNNConfig\n",
    "%load_ext autoreload\n",
    "%autoreload 2\n",
    "config = TrainNNConfig.from_yaml_file('/mnt/ssd3/user/spock/projects/AI/experiments/next_token/WaveNet/shuffle_v2/train.config')\n",
    "config = TrainNNConfig.from_yaml_file('/mnt/ssd3/user/spock/projects/AI/experiments/next_token/SimpleLSTM/v1/train.config')\n"
   ]
  },
  {
   "cell_type": "code",
   "execution_count": 26,
   "id": "642a2891-6c17-4ee6-852a-fefc53f7eb27",
   "metadata": {},
   "outputs": [
    {
     "name": "stderr",
     "output_type": "stream",
     "text": [
      "\u001b[32m2023-11-25 16:02:15.922\u001b[0m | \u001b[1mINFO    \u001b[0m | \u001b[36mai.datamodule.text\u001b[0m:\u001b[36mprepare_data\u001b[0m:\u001b[36m76\u001b[0m - \u001b[1mCreating datasets...\u001b[0m\n"
     ]
    },
    {
     "name": "stdout",
     "output_type": "stream",
     "text": [
      "BOLINGHARISHON BOLING HENRY VI:\n",
      "The queen, as wish a tongue city.\n",
      "\n",
      "FRIAR LADURENCE:\n",
      "Come, one brital kind you mind your gosfending of curches,\n",
      "But which the was narrief is and his face;\n",
      "Be tuke and wrick eagly one dooe, and and fretune,\n",
      "Unto a daughneral that what our neature.. Do you no experse,\n",
      "Will revery eld not so.\n",
      "\n",
      "SICINIUS:\n",
      "'God no vitly peace, and read will loadful thing no sons,\n",
      "That I would past you patience; yet her drops to of\n",
      "braise: but my strange, go! But fond my hath this niften draught,\n",
      "You hands not driwth a day.\n",
      "\n",
      "AUTOLYCUS:\n",
      "What should Make men, and say that all detere times\n",
      "And fid is at thy stone arms. But thy soul shall well\n",
      "Capule in that smil hencember me in thy life,\n",
      "Can lively and brincew-blow Cown: whose implace him them wilt.\n",
      "\n",
      "Second Marcius,\n",
      "If thy commorderer coves the mine of Coriolanus,\n",
      "Liked whoscass should thy Kind 'day's patient\n",
      "To have frondly day a hope and king have.\n",
      "Her is ensived the poticle.\n",
      "Ah, all reclivers underm our case;\n",
      "And only hath his c\n"
     ]
    }
   ],
   "source": [
    "from ai.train import TrainNNConfig\n",
    "import torch\n",
    "\n",
    "config = TrainNNConfig.from_yaml_file('/mnt/ssd3/user/spock/projects/AI/experiments/next_token/Transformer/v5/train.config')\n",
    "dm = config.datamodule.i()\n",
    "dm.prepare_data()\n",
    "model_class = config.lightning_module.get_target()\n",
    "model = model_class.load_from_checkpoint('/mnt/ssd3/user/spock/projects/AI/experiments/next_token/Transformer/v5//checkpoints/epoch0__step3600.ckpt')\n",
    "x,y = next(iter(dm.train_dataloader()))\n",
    "model = model.to('cpu')\n",
    "with torch.inference_mode():\n",
    "    y_hat = model(x)\n",
    "    y_hat.shape\n",
    "\n",
    "# dm.train_dataloader.dat\n",
    "g = model.generate(x[:1,:], 1000)\n",
    "print(''.join(dm.ds_train.decode(g[0])))"
   ]
  },
  {
   "cell_type": "code",
   "execution_count": null,
   "id": "0d943984-43f7-45be-be61-516c9b265460",
   "metadata": {},
   "outputs": [],
   "source": []
  }
 ],
 "metadata": {
  "kernelspec": {
   "display_name": "Python 3 (ipykernel)",
   "language": "python",
   "name": "python3"
  },
  "language_info": {
   "codemirror_mode": {
    "name": "ipython",
    "version": 3
   },
   "file_extension": ".py",
   "mimetype": "text/x-python",
   "name": "python",
   "nbconvert_exporter": "python",
   "pygments_lexer": "ipython3",
   "version": "3.10.12"
  }
 },
 "nbformat": 4,
 "nbformat_minor": 5
}
