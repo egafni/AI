{
 "cells": [
  {
   "cell_type": "code",
   "execution_count": 3,
   "id": "279c8f9e-4f15-4924-8196-2f335a44e15e",
   "metadata": {},
   "outputs": [],
   "source": [
    "import os\n",
    "os.environ['CUDA_VISIBLE_DEVICES']='1'"
   ]
  },
  {
   "cell_type": "code",
   "execution_count": 4,
   "id": "7ce889a0-4528-4ba8-a0ba-0624acd81951",
   "metadata": {},
   "outputs": [],
   "source": [
    "from ai.datamodules.text import TextDataModule\n",
    "from ai.constants import REPO_DIR\n",
    "from ai.misc_utils import get_vocab_size\n",
    "import matplotlib.pyplot as plt\n",
    "import numpy as np\n",
    "import torch\n",
    "import math\n",
    "from torch import nn\n",
    "import torch.nn.functional as F\n",
    "from dataclasses import dataclass\n",
    "from ai.models.nlp.transformer import Transformer as Transformer2\n",
    "fname = f'{REPO_DIR}/data/shakespeare.txt'\n",
    "# fname = f'{REPO_DIR}/data/names.txt'"
   ]
  },
  {
   "cell_type": "code",
   "execution_count": 5,
   "id": "5a2ba374-6511-415b-9230-f0a9a0b6ee57",
   "metadata": {},
   "outputs": [],
   "source": [
    "config = Transformer2.Config(\n",
    "    vocab_size = get_vocab_size(fname),\n",
    "    block_size = 32,\n",
    "    # mlp_size:int = 64\n",
    "    n_embd = 128,\n",
    "    n_heads = 16,\n",
    "    n_blocks = 4,\n",
    "    dropout=.2\n",
    ")\n",
    "batch_size = 4096"
   ]
  },
  {
   "cell_type": "code",
   "execution_count": 6,
   "id": "b103fd19-c3ce-40b5-83ce-de22c884486d",
   "metadata": {},
   "outputs": [
    {
     "name": "stderr",
     "output_type": "stream",
     "text": [
      "\u001b[32m2024-02-09 09:37:12.951\u001b[0m | \u001b[1mINFO    \u001b[0m | \u001b[36mai.datamodules.text\u001b[0m:\u001b[36mprepare_data\u001b[0m:\u001b[36m76\u001b[0m - \u001b[1mCreating datasets...\u001b[0m\n"
     ]
    }
   ],
   "source": [
    "dm = TextDataModule.Config(fname=fname, block_size=config.block_size, batch_size=batch_size, \n",
    "                           num_workers=0).i()\n",
    "dm.prepare_data()"
   ]
  },
  {
   "cell_type": "code",
   "execution_count": 25,
   "id": "a10dfce8-d79a-4565-86af-969ad3a2857f",
   "metadata": {},
   "outputs": [],
   "source": [
    "class Transformer(nn.Module):\n",
    "    def __init__(self, config):\n",
    "        super().__init__()\n",
    "        self.config = config\n",
    "        self.embed = nn.Embedding(config.vocab_size, config.n_embd)\n",
    "        self.transformer = nn.Transformer(d_model=config.n_embd, nhead=config.n_heads, num_encoder_layers=0, num_decoder_layers=config.n_blocks, \n",
    "                           dropout=config.dropout,\n",
    "                            batch_first=True, dim_feedforward=config.n_embd*4)      \n",
    "        self.proj = nn.Linear(config.n_embd, config.vocab_size)\n",
    "\n",
    "    def forward(self,x,y):\n",
    "        o = self.embed(x)\n",
    "        o = self.transformer(o,y)\n",
    "        return self.proj(o)\n",
    "        "
   ]
  },
  {
   "cell_type": "code",
   "execution_count": 27,
   "id": "ad8a4475-8e25-450a-80a3-87afde21b3ac",
   "metadata": {},
   "outputs": [],
   "source": [
    "# B = batch_size\n",
    "T = config.block_size\n",
    "# model = Transformer2(config)\n",
    "model = Transformer(config)\n",
    "model = model.cuda()\n",
    "dl = dm.train_dataloader()"
   ]
  },
  {
   "cell_type": "code",
   "execution_count": 10,
   "id": "f8eb1ff0-d6ef-4f85-84d5-683a0d275858",
   "metadata": {},
   "outputs": [
    {
     "ename": "TypeError",
     "evalue": "Transformer.forward() missing 1 required positional argument: 'tgt'",
     "output_type": "error",
     "traceback": [
      "\u001b[0;31m---------------------------------------------------------------------------\u001b[0m",
      "\u001b[0;31mTypeError\u001b[0m                                 Traceback (most recent call last)",
      "Cell \u001b[0;32mIn[10], line 12\u001b[0m\n\u001b[1;32m      9\u001b[0m B \u001b[38;5;241m=\u001b[39m X\u001b[38;5;241m.\u001b[39mshape[\u001b[38;5;241m0\u001b[39m]\n\u001b[1;32m     11\u001b[0m \u001b[38;5;66;03m# forward\u001b[39;00m\n\u001b[0;32m---> 12\u001b[0m logits \u001b[38;5;241m=\u001b[39m \u001b[43mmodel\u001b[49m\u001b[43m(\u001b[49m\u001b[43mX\u001b[49m\u001b[43m)\u001b[49m\n\u001b[1;32m     13\u001b[0m loss \u001b[38;5;241m=\u001b[39m F\u001b[38;5;241m.\u001b[39mcross_entropy(logits\u001b[38;5;241m.\u001b[39mview(B\u001b[38;5;241m*\u001b[39mT,config\u001b[38;5;241m.\u001b[39mvocab_size), y\u001b[38;5;241m.\u001b[39mview(B\u001b[38;5;241m*\u001b[39mT))\n\u001b[1;32m     14\u001b[0m \u001b[38;5;66;03m# logits = model(X)\u001b[39;00m\n\u001b[1;32m     15\u001b[0m \u001b[38;5;66;03m# loss = F.cross_entropy(logits.view(B*T,config.vocab_size), y.view(B*T))\u001b[39;00m\n",
      "File \u001b[0;32m/static/user/spock/.cache/pypoetry/virtualenvs/ai-iwSNfyWa-py3.10/lib/python3.10/site-packages/torch/nn/modules/module.py:1518\u001b[0m, in \u001b[0;36mModule._wrapped_call_impl\u001b[0;34m(self, *args, **kwargs)\u001b[0m\n\u001b[1;32m   1516\u001b[0m     \u001b[38;5;28;01mreturn\u001b[39;00m \u001b[38;5;28mself\u001b[39m\u001b[38;5;241m.\u001b[39m_compiled_call_impl(\u001b[38;5;241m*\u001b[39margs, \u001b[38;5;241m*\u001b[39m\u001b[38;5;241m*\u001b[39mkwargs)  \u001b[38;5;66;03m# type: ignore[misc]\u001b[39;00m\n\u001b[1;32m   1517\u001b[0m \u001b[38;5;28;01melse\u001b[39;00m:\n\u001b[0;32m-> 1518\u001b[0m     \u001b[38;5;28;01mreturn\u001b[39;00m \u001b[38;5;28;43mself\u001b[39;49m\u001b[38;5;241;43m.\u001b[39;49m\u001b[43m_call_impl\u001b[49m\u001b[43m(\u001b[49m\u001b[38;5;241;43m*\u001b[39;49m\u001b[43margs\u001b[49m\u001b[43m,\u001b[49m\u001b[43m \u001b[49m\u001b[38;5;241;43m*\u001b[39;49m\u001b[38;5;241;43m*\u001b[39;49m\u001b[43mkwargs\u001b[49m\u001b[43m)\u001b[49m\n",
      "File \u001b[0;32m/static/user/spock/.cache/pypoetry/virtualenvs/ai-iwSNfyWa-py3.10/lib/python3.10/site-packages/torch/nn/modules/module.py:1527\u001b[0m, in \u001b[0;36mModule._call_impl\u001b[0;34m(self, *args, **kwargs)\u001b[0m\n\u001b[1;32m   1522\u001b[0m \u001b[38;5;66;03m# If we don't have any hooks, we want to skip the rest of the logic in\u001b[39;00m\n\u001b[1;32m   1523\u001b[0m \u001b[38;5;66;03m# this function, and just call forward.\u001b[39;00m\n\u001b[1;32m   1524\u001b[0m \u001b[38;5;28;01mif\u001b[39;00m \u001b[38;5;129;01mnot\u001b[39;00m (\u001b[38;5;28mself\u001b[39m\u001b[38;5;241m.\u001b[39m_backward_hooks \u001b[38;5;129;01mor\u001b[39;00m \u001b[38;5;28mself\u001b[39m\u001b[38;5;241m.\u001b[39m_backward_pre_hooks \u001b[38;5;129;01mor\u001b[39;00m \u001b[38;5;28mself\u001b[39m\u001b[38;5;241m.\u001b[39m_forward_hooks \u001b[38;5;129;01mor\u001b[39;00m \u001b[38;5;28mself\u001b[39m\u001b[38;5;241m.\u001b[39m_forward_pre_hooks\n\u001b[1;32m   1525\u001b[0m         \u001b[38;5;129;01mor\u001b[39;00m _global_backward_pre_hooks \u001b[38;5;129;01mor\u001b[39;00m _global_backward_hooks\n\u001b[1;32m   1526\u001b[0m         \u001b[38;5;129;01mor\u001b[39;00m _global_forward_hooks \u001b[38;5;129;01mor\u001b[39;00m _global_forward_pre_hooks):\n\u001b[0;32m-> 1527\u001b[0m     \u001b[38;5;28;01mreturn\u001b[39;00m \u001b[43mforward_call\u001b[49m\u001b[43m(\u001b[49m\u001b[38;5;241;43m*\u001b[39;49m\u001b[43margs\u001b[49m\u001b[43m,\u001b[49m\u001b[43m \u001b[49m\u001b[38;5;241;43m*\u001b[39;49m\u001b[38;5;241;43m*\u001b[39;49m\u001b[43mkwargs\u001b[49m\u001b[43m)\u001b[49m\n\u001b[1;32m   1529\u001b[0m \u001b[38;5;28;01mtry\u001b[39;00m:\n\u001b[1;32m   1530\u001b[0m     result \u001b[38;5;241m=\u001b[39m \u001b[38;5;28;01mNone\u001b[39;00m\n",
      "\u001b[0;31mTypeError\u001b[0m: Transformer.forward() missing 1 required positional argument: 'tgt'"
     ]
    }
   ],
   "source": [
    "lr=5e-3\n",
    "step=0\n",
    "\n",
    "for epoch in range(40):\n",
    "    for X,y in iter(dl):\n",
    "        X = X.cuda()\n",
    "        y = y.cuda()\n",
    "        step+=1\n",
    "        B = X.shape[0]\n",
    "\n",
    "        # forward\n",
    "        logits = model(X)\n",
    "        loss = F.cross_entropy(logits.view(B*T,config.vocab_size), y.view(B*T))\n",
    "        # logits = model(X)\n",
    "        # loss = F.cross_entropy(logits.view(B*T,config.vocab_size), y.view(B*T))\n",
    "        if step % 100 == 0:\n",
    "            print(f'e{epoch}|s{step}: loss={loss:.2f}')\n",
    "\n",
    "        for param in model.parameters():\n",
    "            param.grad = None\n",
    "        loss.backward()\n",
    "        for param in model.parameters():\n",
    "            if param.grad is not None:\n",
    "                param.data -= param.grad * lr\n"
   ]
  },
  {
   "cell_type": "code",
   "execution_count": null,
   "id": "9797c67f-9667-42dc-b5c3-7d53dd45e966",
   "metadata": {},
   "outputs": [],
   "source": [
    "x = X.clone()\n",
    "result = []\n",
    "for i in range(30):\n",
    "    with torch.inference_mode():\n",
    "        logits = model(x)\n",
    "    probas = torch.softmax(logits, -1)\n",
    "    # greedy\n",
    "    # token_ids = probas[:,-1].argmax(-1)\n",
    "    token_ids = torch.multinomial(probas[:,-1], num_samples=1)\n",
    "    x = x.roll(-1)\n",
    "    x[:,-1] = token_ids.flatten()\n",
    "    result.append(token_ids.flatten())\n",
    "\n",
    "\n",
    "prompt = X[0]\n",
    "answer = result[0]\n",
    "print(''.join(dm.ds_train.decode(prompt)))\n",
    "print('*'*72)\n",
    "print(''.join(dm.ds_train.decode(answer)))"
   ]
  },
  {
   "cell_type": "code",
   "execution_count": 20,
   "id": "da5cb0b2-f4c2-4063-b43e-e028a8f59837",
   "metadata": {},
   "outputs": [
    {
     "data": {
      "text/plain": [
       "torch.Size([256, 32, 65])"
      ]
     },
     "execution_count": 20,
     "metadata": {},
     "output_type": "execute_result"
    }
   ],
   "source": [
    "probas.shape"
   ]
  },
  {
   "cell_type": "code",
   "execution_count": 22,
   "id": "1b8b6ab0-6ac5-46b2-b04c-e6cdcc9b49a3",
   "metadata": {},
   "outputs": [],
   "source": [
    "# dm.ds_train.decode(answer)"
   ]
  },
  {
   "cell_type": "code",
   "execution_count": null,
   "id": "3b43a6f8-23fa-4d38-82ff-5ea6b61edb85",
   "metadata": {},
   "outputs": [],
   "source": []
  }
 ],
 "metadata": {
  "kernelspec": {
   "display_name": "Python 3 (ipykernel)",
   "language": "python",
   "name": "python3"
  },
  "language_info": {
   "codemirror_mode": {
    "name": "ipython",
    "version": 3
   },
   "file_extension": ".py",
   "mimetype": "text/x-python",
   "name": "python",
   "nbconvert_exporter": "python",
   "pygments_lexer": "ipython3",
   "version": "3.10.12"
  }
 },
 "nbformat": 4,
 "nbformat_minor": 5
}
