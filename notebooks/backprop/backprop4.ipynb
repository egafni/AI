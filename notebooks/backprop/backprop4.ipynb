{
 "cells": [
  {
   "cell_type": "code",
   "execution_count": 1,
   "id": "cefdd96d-f3d9-4d52-b6b3-a5c88f34994f",
   "metadata": {},
   "outputs": [],
   "source": [
    "import torch\n",
    "from torch import nn\n",
    "import torch.nn.functional as F\n",
    "import math"
   ]
  },
  {
   "cell_type": "code",
   "execution_count": 11,
   "id": "96912d9c-6ae4-4685-82f0-fb66c16b9438",
   "metadata": {},
   "outputs": [],
   "source": [
    "B=3\n",
    "C=4\n",
    "H=5\n",
    "\n",
    "X = torch.randn((B,C))\n",
    "y = torch.randint(0,2,(B,))\n",
    "\n",
    "w1 = torch.randn(C,H) / math.sqrt(C) / math.sqrt(2)\n",
    "b1 = torch.randn(H)\n",
    "\n",
    "w2 = torch.randn(H,H) / math.sqrt(C) / math.sqrt(2)\n",
    "b2 = torch.randn(H)\n",
    "\n",
    "w3 = torch.randn(H,2) / math.sqrt(H) / math.sqrt(2)\n",
    "b3 = torch.randn(2)\n",
    "\n",
    "params = [w1,b1,w2,b2,w3,b3]\n",
    "for p in params:\n",
    "    p.requires_grad=True"
   ]
  },
  {
   "cell_type": "code",
   "execution_count": 12,
   "id": "6611c0d0-316a-4eba-bd93-a3dd0e229b26",
   "metadata": {},
   "outputs": [],
   "source": [
    "def check(a,b):\n",
    "    assert a.shape == b.shape\n",
    "    assert torch.isclose(a,b.grad).all(), f'{a}\\n{b}'"
   ]
  },
  {
   "cell_type": "code",
   "execution_count": 13,
   "id": "cb12ccf8-8a38-4feb-b9bb-f0149c96639c",
   "metadata": {},
   "outputs": [
    {
     "data": {
      "text/plain": [
       "(torch.Size([3, 2]), torch.Size([3, 5]), torch.Size([5, 2]))"
      ]
     },
     "execution_count": 13,
     "metadata": {},
     "output_type": "execute_result"
    }
   ],
   "source": [
    "logits.shape, act2.shape, w3.shape"
   ]
  },
  {
   "cell_type": "code",
   "execution_count": 21,
   "id": "fafba109-4236-41d6-8fab-9fc9c8779c7a",
   "metadata": {},
   "outputs": [
    {
     "name": "stdout",
     "output_type": "stream",
     "text": [
      "0.14 acc tensor(1.)\n",
      "0.13 acc tensor(1.)\n",
      "0.13 acc tensor(1.)\n",
      "0.12 acc tensor(1.)\n",
      "0.11 acc tensor(1.)\n",
      "0.11 acc tensor(1.)\n",
      "0.10 acc tensor(1.)\n",
      "0.10 acc tensor(1.)\n",
      "0.09 acc tensor(1.)\n",
      "0.09 acc tensor(1.)\n"
     ]
    }
   ],
   "source": [
    "lr = .1\n",
    "\n",
    "for i in range(10):\n",
    "    pre1 = X@w1+b1\n",
    "    act1 = torch.relu(pre1)\n",
    "    pre2 = act1@w2+b2\n",
    "    act2 = torch.relu(pre2)\n",
    "    logits = act2@w3+b3\n",
    "    y_proba = torch.softmax(logits, dim=1)\n",
    "    loss = -torch.log(y_proba[range(B), y]).mean()\n",
    "    # break\n",
    "\n",
    "    for p in [pre1,act1,pre2,act2,logits]:\n",
    "        p.retain_grad()\n",
    "\n",
    "    print(f'{loss:.2f}','acc', (y == y_proba.argmax(1)).sum() / B)\n",
    "\n",
    "    for p in params:\n",
    "        p.grad = None    \n",
    "    loss.backward()\n",
    "    # for p in params:\n",
    "    #     p.data -= lr * p.grad\n",
    "        \n",
    "    dlogits = y_proba.clone()\n",
    "    dlogits[range(B), y] -= 1\n",
    "    dlogits /= B\n",
    "    check(dlogits, logits)\n",
    "    \n",
    "    dw3 = act2.T@dlogits\n",
    "    check(dw3, w3)\n",
    "    dact2 = dlogits@w3.T\n",
    "    check(dact2, act2)    \n",
    "    db3 = dlogits.sum(0)\n",
    "    check(db3, b3)\n",
    "    dpre2 = torch.where(pre2>0, dact2, 0)\n",
    "    check(dpre2, pre2)\n",
    "    db2 = dpre2.sum(0)\n",
    "    check(db2, b2)\n",
    "    dw2 = act1.T@dpre2\n",
    "    check(dw2, w2)    \n",
    "    dact1 = dpre2@w2.T\n",
    "    check(dact1, act1)    \n",
    "    dpre1 = torch.where(pre1>0, dact1, 0)\n",
    "    check(dpre1, pre1)    \n",
    "    dw1 = X.T@dpre1\n",
    "    check(dw1, w1)    \n",
    "    db1 = dpre1.sum(0)\n",
    "\n",
    "    # break\n",
    "    dparams = [dw1,db1,dw2,db2,dw3,db3]\n",
    "\n",
    "    for p,dp in zip(params, dparams):\n",
    "        p.data -= lr * dp\n",
    "\n",
    "\n",
    "    \n"
   ]
  },
  {
   "cell_type": "code",
   "execution_count": 22,
   "id": "d819b4b4-d52c-48f8-ab54-5510d95af0ee",
   "metadata": {},
   "outputs": [
    {
     "data": {
      "text/plain": [
       "torch.Size([3, 5])"
      ]
     },
     "execution_count": 22,
     "metadata": {},
     "output_type": "execute_result"
    }
   ],
   "source": [
    "dpre2.shape"
   ]
  },
  {
   "cell_type": "code",
   "execution_count": null,
   "id": "266a81b8-311d-49ad-86a1-fd9e62d1afff",
   "metadata": {},
   "outputs": [],
   "source": [
    "dpre"
   ]
  },
  {
   "cell_type": "code",
   "execution_count": 152,
   "id": "ef16d527-9bfe-43ff-9bd4-d834bcc9175c",
   "metadata": {},
   "outputs": [
    {
     "name": "stdout",
     "output_type": "stream",
     "text": [
      "None\n",
      "None\n",
      "None\n",
      "None\n"
     ]
    }
   ],
   "source": [
    "for p in params:\n",
    "    print(p.grad)"
   ]
  },
  {
   "cell_type": "code",
   "execution_count": null,
   "id": "2fe8e059-a582-4c07-be22-9fe64fbca6ff",
   "metadata": {},
   "outputs": [],
   "source": []
  },
  {
   "cell_type": "code",
   "execution_count": 96,
   "id": "f55e9ca5-61a4-4f81-8197-07e920bd0120",
   "metadata": {},
   "outputs": [
    {
     "name": "stdout",
     "output_type": "stream",
     "text": [
      "acc tensor(0.6000)\n"
     ]
    }
   ],
   "source": []
  },
  {
   "cell_type": "code",
   "execution_count": 153,
   "id": "0ce61729-c615-42ba-83f0-a47303bf0db0",
   "metadata": {},
   "outputs": [
    {
     "data": {
      "text/plain": [
       "tensor([[0.5000, 0.5000],\n",
       "        [0.9889, 0.0111],\n",
       "        [0.5000, 0.5000],\n",
       "        [0.9821, 0.0179],\n",
       "        [0.5000, 0.5000],\n",
       "        [0.5000, 0.5000],\n",
       "        [0.5000, 0.5000],\n",
       "        [0.5000, 0.5000],\n",
       "        [0.9806, 0.0194],\n",
       "        [0.9875, 0.0125]], grad_fn=<SoftmaxBackward0>)"
      ]
     },
     "execution_count": 153,
     "metadata": {},
     "output_type": "execute_result"
    }
   ],
   "source": [
    "y_proba"
   ]
  },
  {
   "cell_type": "code",
   "execution_count": 154,
   "id": "a110365e-d8e0-40a5-92ea-f427093b1adf",
   "metadata": {},
   "outputs": [
    {
     "data": {
      "text/plain": [
       "tensor([0, 0, 0, 0, 0, 0, 0, 0, 0, 0])"
      ]
     },
     "execution_count": 154,
     "metadata": {},
     "output_type": "execute_result"
    }
   ],
   "source": [
    "y_proba.argmax(1)"
   ]
  },
  {
   "cell_type": "code",
   "execution_count": 155,
   "id": "9aa42473-5bc4-4820-afaa-c159b0a5b9ca",
   "metadata": {},
   "outputs": [
    {
     "data": {
      "text/plain": [
       "tensor([1, 0, 1, 0, 1, 1, 1, 1, 0, 0])"
      ]
     },
     "execution_count": 155,
     "metadata": {},
     "output_type": "execute_result"
    }
   ],
   "source": [
    "y"
   ]
  },
  {
   "cell_type": "code",
   "execution_count": null,
   "id": "88e7caa0-4032-4352-a859-8b2317c4b8aa",
   "metadata": {},
   "outputs": [],
   "source": []
  }
 ],
 "metadata": {
  "kernelspec": {
   "display_name": "Python 3 (ipykernel)",
   "language": "python",
   "name": "python3"
  },
  "language_info": {
   "codemirror_mode": {
    "name": "ipython",
    "version": 3
   },
   "file_extension": ".py",
   "mimetype": "text/x-python",
   "name": "python",
   "nbconvert_exporter": "python",
   "pygments_lexer": "ipython3",
   "version": "3.10.12"
  }
 },
 "nbformat": 4,
 "nbformat_minor": 5
}
