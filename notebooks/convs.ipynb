{
 "cells": [
  {
   "cell_type": "code",
   "execution_count": 1,
   "id": "3873a166-16e4-463c-a16d-f62f2f955731",
   "metadata": {},
   "outputs": [],
   "source": [
    "from torch import nn\n",
    "import torch"
   ]
  },
  {
   "cell_type": "code",
   "execution_count": 2,
   "id": "5121a0be-6134-4712-8a22-e2146804b94c",
   "metadata": {},
   "outputs": [],
   "source": [
    "class CausalConv1d(nn.Module):\n",
    "    def __init__(self, \n",
    "                 in_channels, \n",
    "                 out_channels, \n",
    "                 kernel_size, \n",
    "                 dilation=1,\n",
    "                 causal=True,\n",
    "                 **kwargs):\n",
    "        super(CausalConv1d, self).__init__()\n",
    "        self.causal = causal\n",
    "        if causal:\n",
    "            self.padding = (kernel_size - 1) * dilation\n",
    "            self.conv = nn.Conv1d(in_channels, \n",
    "                                  out_channels, \n",
    "                                  kernel_size, \n",
    "                                  padding=self.padding, \n",
    "                                  dilation=dilation, \n",
    "                                  bias=False, \n",
    "                                  **kwargs)\n",
    "        else:\n",
    "            self.padding = 0\n",
    "            self.conv = nn.Conv1d(in_channels, \n",
    "                                  out_channels, \n",
    "                                  kernel_size, \n",
    "                                  padding=self.padding, \n",
    "                                  dilation=dilation, \n",
    "                                  bias=False, \n",
    "                                  **kwargs)\n",
    "    \n",
    "    def forward(self, input_):\n",
    "        if self.causal:\n",
    "            return self.conv(input_)[:, :, :-self.padding] if self.padding else self.conv(input_)\n",
    "        else:\n",
    "            return self.conv(input_)\n"
   ]
  },
  {
   "cell_type": "code",
   "execution_count": 3,
   "id": "15731301-7235-4c60-b04d-16165d1b22ca",
   "metadata": {},
   "outputs": [
    {
     "name": "stdout",
     "output_type": "stream",
     "text": [
      "padding 0\n",
      "x: torch.Size([1, 2, 10])\n",
      "o: torch.Size([1, 2, 10])\n",
      "\n",
      " tensor([[[ 0.0000, -0.3043, -0.4812, -0.4617, -0.4812, -0.5008, -0.5203,\n",
      "          -0.5398, -0.5593, -0.5789],\n",
      "         [ 0.0000, -0.1504, -0.2772, -0.7280, -1.0385, -1.3490, -1.6596,\n",
      "          -1.9701, -2.2806, -2.5911]]], grad_fn=<SliceBackward0>)\n",
      "m.conv.grad\n",
      " tensor([[[-1.6514, -2.0302],\n",
      "         [-1.6514, -2.0302]],\n",
      "\n",
      "        [[ 2.6584,  3.1030],\n",
      "         [ 2.6584,  3.1030]]])\n",
      "x.grad\n",
      " tensor([[[ 0.0000,  0.0000,  0.0000,  0.0000,  0.1112, -0.0630,  0.2115,\n",
      "          -0.2304,  0.0000,  0.0000],\n",
      "         [ 0.0000,  0.0000,  0.0000,  0.0000, -0.0606, -0.0007, -0.1360,\n",
      "           0.0031,  0.0000,  0.0000]]])\n"
     ]
    }
   ],
   "source": [
    "B=1\n",
    "C=2\n",
    "O=2\n",
    "L=10\n",
    "K=2\n",
    "D=3\n",
    "padding = (K - 1) * D\n",
    "padding=0\n",
    "causal=True\n",
    "print('padding', padding)\n",
    "# S=1\n",
    "x = torch.arange(L).float().repeat((B,C,1)) # B,C,L\n",
    "x.requires_grad=True\n",
    "\n",
    "\n",
    "m1 = CausalConv1d(C,O,K,1,causal=causal)\n",
    "m1.zero_grad()\n",
    "m2 = CausalConv1d(O,O,K,2,causal=causal)\n",
    "m2.zero_grad()\n",
    "\n",
    "o = m2(m1(x))\n",
    "print('x:', x.shape) # B,C,L\n",
    "# print('m:', m.weight.shape) # O,C,K\n",
    "\n",
    "print('o:',o.shape) # B,O,L\n",
    "print('\\n',o)\n",
    "\n",
    "x.grad = None\n",
    "o[0,:,-3].mean().backward()\n",
    "print('m.conv.grad\\n', m1.conv.weight.grad)\n",
    "print('x.grad\\n', x.grad)"
   ]
  },
  {
   "cell_type": "code",
   "execution_count": 4,
   "id": "fdc2b192-2635-4787-95e5-401f1aa5e470",
   "metadata": {},
   "outputs": [
    {
     "name": "stdout",
     "output_type": "stream",
     "text": [
      "padding 0\n",
      "x: torch.Size([1, 2, 10])\n",
      "o: torch.Size([1, 2, 10])\n",
      "\n",
      " tensor([[[ 0.0000, -0.0498, -0.1917, -0.3475, -0.7206, -0.9686, -1.3282,\n",
      "          -1.5337, -1.7393, -1.9448],\n",
      "         [ 0.0000,  0.1781,  0.5667,  0.7634,  1.1631,  1.3731,  1.5376,\n",
      "           1.7228,  1.9080,  2.0932]]], grad_fn=<SliceBackward0>)\n",
      "x.grad\n",
      " tensor([[[ 0.0000,  0.0000,  0.0538, -0.0494, -0.0353, -0.0065, -0.0481,\n",
      "           0.0448,  0.0338,  0.0000],\n",
      "         [ 0.0000,  0.0000,  0.0335, -0.0291,  0.0030, -0.0007, -0.0548,\n",
      "           0.0144,  0.0304,  0.0000]]])\n"
     ]
    }
   ],
   "source": [
    "B=1\n",
    "C=2\n",
    "O=2\n",
    "L=10\n",
    "K=3\n",
    "# D=3\n",
    "causal = True\n",
    "padding = (K - 1) * D\n",
    "padding=0\n",
    "print('padding', padding)\n",
    "# S=1\n",
    "x = torch.arange(L).float().repeat((B,C,1)) # B,C,L\n",
    "x.requires_grad=True\n",
    "x.grad = None\n",
    "\n",
    "m1 = CausalConv1d(C,O,K,1, causal=causal)\n",
    "m1.zero_grad()\n",
    "m2 = CausalConv1d(O,O,K,2,causal=causal)\n",
    "m2.zero_grad()\n",
    "\n",
    "o = m2(m1(x))\n",
    "print('x:', x.shape) # B,C,L\n",
    "# print('m:', m.weight.shape) # O,C,K\n",
    "\n",
    "print('o:',o.shape) # B,O,L\n",
    "print('\\n',o)\n",
    "\n",
    "\n",
    "o[0,:,-2].mean().backward()\n",
    "# print('m.conv.grad\\n', m.conv.weight.grad)\n",
    "print('x.grad\\n', x.grad)"
   ]
  },
  {
   "cell_type": "code",
   "execution_count": 25,
   "id": "78ac845d-2647-49a4-9e2a-49e6457dee0e",
   "metadata": {},
   "outputs": [
    {
     "data": {
      "text/plain": [
       "tensor([[[ 0.0000,  0.0589, -0.0095, -0.1673, -0.2739, -0.3528, -0.2900,\n",
       "          -0.3044, -0.3189, -0.3333],\n",
       "         [ 0.0000, -0.1277, -0.2582, -0.0409,  0.1276, -0.0453, -0.1835,\n",
       "          -0.1501, -0.1168, -0.0834]]], grad_fn=<SliceBackward0>)"
      ]
     },
     "execution_count": 25,
     "metadata": {},
     "output_type": "execute_result"
    }
   ],
   "source": [
    "o"
   ]
  },
  {
   "cell_type": "code",
   "execution_count": 26,
   "id": "cefb7beb-4b7a-455c-a945-b530712c7da1",
   "metadata": {},
   "outputs": [
    {
     "data": {
      "text/plain": [
       "tensor([[[0., 1., 2., 3., 4., 5., 6., 7., 8., 9.],\n",
       "         [0., 1., 2., 3., 4., 5., 6., 7., 8., 9.]]], requires_grad=True)"
      ]
     },
     "execution_count": 26,
     "metadata": {},
     "output_type": "execute_result"
    }
   ],
   "source": [
    "x"
   ]
  },
  {
   "cell_type": "code",
   "execution_count": null,
   "id": "3e1e0c8a-8b44-4fbe-b387-5a156c5ca190",
   "metadata": {},
   "outputs": [],
   "source": []
  }
 ],
 "metadata": {
  "kernelspec": {
   "display_name": "Python 3 (ipykernel)",
   "language": "python",
   "name": "python3"
  },
  "language_info": {
   "codemirror_mode": {
    "name": "ipython",
    "version": 3
   },
   "file_extension": ".py",
   "mimetype": "text/x-python",
   "name": "python",
   "nbconvert_exporter": "python",
   "pygments_lexer": "ipython3",
   "version": "3.11.6"
  }
 },
 "nbformat": 4,
 "nbformat_minor": 5
}