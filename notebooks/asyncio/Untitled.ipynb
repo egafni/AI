{
 "cells": [
  {
   "cell_type": "code",
   "execution_count": 116,
   "id": "107f416f-ac3a-43aa-8bee-f0de90076c1f",
   "metadata": {},
   "outputs": [
    {
     "data": {
      "text/plain": [
       "tensor(2.3361, grad_fn=<NegBackward0>)"
      ]
     },
     "execution_count": 116,
     "metadata": {},
     "output_type": "execute_result"
    }
   ],
   "source": [
    "import torch\n",
    "import torch.nn.functional as F\n",
    "from torch import nn \n",
    "torch.manual_seed(0)\n",
    "C=10\n",
    "B=5\n",
    "logits = torch.rand((B,10))\n",
    "logits.requires_grad=True\n",
    "y = torch.randint(low=0,high=4,size=(B,))\n",
    "# loss = F.cross_entropy(logits,y)\n",
    "y_proba = F.softmax(logits,dim=1)\n",
    "loss = -torch.log(y_proba[y]).mean()\n",
    "loss.backward()\n",
    "loss"
   ]
  },
  {
   "cell_type": "code",
   "execution_count": 145,
   "id": "6d8334b0-e557-4634-a751-059535565f5c",
   "metadata": {},
   "outputs": [
    {
     "name": "stdout",
     "output_type": "stream",
     "text": [
      "tensor([-1.8626e-08, -3.5390e-08,  0.0000e+00, -1.6764e-08,  0.0000e+00])\n"
     ]
    },
    {
     "data": {
      "text/plain": [
       "tensor([[-0.0005,  0.0056, -0.0070, -0.0064, -0.0038,  0.0024, -0.0006,  0.0091,\n",
       "         -0.0012,  0.0024],\n",
       "        [-0.0028,  0.0003, -0.0188, -0.0122, -0.0059,  0.0077,  0.0210,  0.0298,\n",
       "         -0.0126, -0.0065],\n",
       "        [ 0.0000,  0.0000,  0.0000,  0.0000,  0.0000,  0.0000,  0.0000,  0.0000,\n",
       "          0.0000,  0.0000],\n",
       "        [-0.0036,  0.0107, -0.0056, -0.0041, -0.0059, -0.0075, -0.0051,  0.0107,\n",
       "          0.0049,  0.0054],\n",
       "        [ 0.0000,  0.0000,  0.0000,  0.0000,  0.0000,  0.0000,  0.0000,  0.0000,\n",
       "          0.0000,  0.0000]])"
      ]
     },
     "execution_count": 145,
     "metadata": {},
     "output_type": "execute_result"
    }
   ],
   "source": [
    "print(logits.grad.sum(1))\n",
    "logits.grad"
   ]
  },
  {
   "cell_type": "code",
   "execution_count": 147,
   "id": "b3c4d728-fec1-4248-b1c9-1084e706ce46",
   "metadata": {},
   "outputs": [],
   "source": [
    "dlogits = torch.ones_like(logits)\n",
    "dlogits = torch.softmax(logits, 1)\n",
    "dlogits[range(B), y] -=  1\n",
    "dlogits /= B"
   ]
  },
  {
   "cell_type": "code",
   "execution_count": 152,
   "id": "adf7a979-5d50-4620-945f-4fb629a47456",
   "metadata": {},
   "outputs": [],
   "source": [
    "# dlogits.shape"
   ]
  },
  {
   "cell_type": "code",
   "execution_count": 149,
   "id": "2117e283-699c-4ee6-9297-39ea48aaf498",
   "metadata": {},
   "outputs": [],
   "source": [
    "# dlogits"
   ]
  },
  {
   "cell_type": "code",
   "execution_count": 144,
   "id": "ee51e1d4-26d0-43d0-812a-d8cac6cd54c0",
   "metadata": {},
   "outputs": [
    {
     "data": {
      "text/plain": [
       "tensor([ 1.8626e-09,  1.1176e-08,  9.3132e-10,  0.0000e+00, -3.7253e-09],\n",
       "       grad_fn=<SumBackward1>)"
      ]
     },
     "execution_count": 144,
     "metadata": {},
     "output_type": "execute_result"
    }
   ],
   "source": [
    "dlogits.sum(1)"
   ]
  },
  {
   "cell_type": "code",
   "execution_count": 131,
   "id": "0d677336-3ced-4528-9e1a-3d9c7ae96caf",
   "metadata": {},
   "outputs": [
    {
     "data": {
      "text/plain": [
       "tensor([[-0.1805,  0.0256,  0.0130,  0.0136,  0.0162,  0.0224,  0.0194,  0.0291,\n",
       "          0.0188,  0.0224],\n",
       "        [ 0.0191, -0.1799,  0.0137,  0.0159,  0.0180,  0.0226,  0.0270,  0.0299,\n",
       "          0.0158,  0.0178],\n",
       "        [ 0.0221, -0.1721,  0.0166,  0.0268,  0.0170,  0.0194,  0.0290,  0.0116,\n",
       "          0.0134,  0.0162],\n",
       "        [ 0.0164, -0.1693,  0.0144,  0.0159,  0.0141,  0.0125,  0.0149,  0.0307,\n",
       "          0.0249,  0.0254],\n",
       "        [ 0.0217,  0.0163,  0.0230, -0.1868,  0.0147,  0.0163,  0.0289,  0.0283,\n",
       "          0.0169,  0.0207]], grad_fn=<DivBackward0>)"
      ]
     },
     "execution_count": 131,
     "metadata": {},
     "output_type": "execute_result"
    }
   ],
   "source": [
    "dlogits"
   ]
  },
  {
   "cell_type": "code",
   "execution_count": 93,
   "id": "efe33528-6ac6-4ff8-b91e-7face92dd416",
   "metadata": {},
   "outputs": [
    {
     "data": {
      "text/plain": [
       "tensor([-7.4506e-09, -9.3132e-09, -3.7253e-09, -1.8626e-09,  5.5879e-09])"
      ]
     },
     "execution_count": 93,
     "metadata": {},
     "output_type": "execute_result"
    }
   ],
   "source": []
  },
  {
   "cell_type": "code",
   "execution_count": null,
   "id": "7acff86a-fb5a-4ccb-ac46-3d58e65c2a01",
   "metadata": {},
   "outputs": [],
   "source": []
  }
 ],
 "metadata": {
  "kernelspec": {
   "display_name": "Python 3 (ipykernel)",
   "language": "python",
   "name": "python3"
  },
  "language_info": {
   "codemirror_mode": {
    "name": "ipython",
    "version": 3
   },
   "file_extension": ".py",
   "mimetype": "text/x-python",
   "name": "python",
   "nbconvert_exporter": "python",
   "pygments_lexer": "ipython3",
   "version": "3.11.6"
  }
 },
 "nbformat": 4,
 "nbformat_minor": 5
}
