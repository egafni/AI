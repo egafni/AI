{
 "cells": [
  {
   "cell_type": "code",
   "execution_count": 49,
   "id": "6f531553-b6a0-4443-9a7b-884a7a494a1c",
   "metadata": {},
   "outputs": [],
   "source": [
    "import math\n",
    "\n",
    "def generate_A(G, N, Aprefix):\n",
    "    A = list(Aprefix)\n",
    "    state = A[-1]\n",
    "    while len(A) < N:\n",
    "        state = (state * 1103515245 + 12345) % 2**31\n",
    "        A.append(state % G)\n",
    "    return A"
   ]
  },
  {
   "cell_type": "code",
   "execution_count": 81,
   "id": "748914c0-b168-428d-b2a7-a0c8aef2db7b",
   "metadata": {},
   "outputs": [
    {
     "name": "stdout",
     "output_type": "stream",
     "text": [
      "3 8\n"
     ]
    }
   ],
   "source": [
    "G = 2\n",
    "N = 4\n",
    "Aprefix = [1, 0, 0, 1]\n",
    "\n",
    "A = generate_A(G,N,Aprefix)\n",
    "\n",
    "\"\"\"\n",
    "2\n",
    "4\n",
    "{1, 0, 0, 1}\n",
    "Returns: {3, 5 }\n",
    "The shortest impossible DNAs are {0,0,0}, {0,1,0}, {0,1,1}, {1,1,0}, and {1,1,1}.\n",
    "\"\"\"\n",
    "\n",
    "\"\"\"\n",
    "step 1) figure out # of possible permutations of sequences given any particular length\n",
    "[nPg,...] n=1..N\n",
    "step 2) figure out all possible permutations of sequences that can reached by G for any length < N\n",
    "[all_possible_combinations_mutate(G,n)] n=1..N\n",
    "step 3)\n",
    "find the first element where step1 is less than step 3 and extract answer\n",
    "\"\"\"\n",
    "\n",
    "Aprefix = [1, 0, 0, 1]\n",
    "G=2\n",
    "N=4\n",
    "\n",
    "# G=5\n",
    "# N=4\n",
    "# Aprefix=[1, 0, 0, 1]\n",
    "\n",
    "# G=7\n",
    "# N=7\n",
    "# Aprefix = [0, 1, 2, 3, 4, 5, 6]\n",
    "\n",
    "# G=7\n",
    "# N=14\n",
    "# Aprefix=[0, 0, 1, 1, 2, 2, 3, 3, 4, 4, 5, 5, 6, 6]\n",
    "\n",
    "\n",
    "# G=3\n",
    "# N=10\n",
    "# Aprefix=[1, 2, 0]\n",
    "\n",
    "\n",
    "A = generate_A(G,N,Aprefix)\n",
    "\n",
    "\n",
    "total_seqs_found = 0\n",
    "current_seen_sequence = {x:False for x in range(G)}\n",
    "\n",
    "for x in A:\n",
    "    current_seen_sequence[x] = True\n",
    "    if all(current_seen_sequence.values()):\n",
    "        total_seqs_found += 1\n",
    "        current_seen_sequence = {x:False for x in range(G)}\n",
    "\n",
    "L = total_seqs_found + 1\n",
    "total_possible = G**L\n",
    "possible_from_seq = G**(L-1) * sum(current_seen_sequence.values())\n",
    "X = total_possible - possible_from_seq\n",
    "print(L,X)"
   ]
  },
  {
   "cell_type": "code",
   "execution_count": 87,
   "id": "7e390eae-7476-488d-8520-0969068a2cd1",
   "metadata": {},
   "outputs": [],
   "source": [
    "# want: all possible subsequences of length L\n",
    "\n",
    "M = [[[None]*L for _ in range(G)]]\n",
    "\n",
    "for x in A:\n",
    "    M"
   ]
  },
  {
   "cell_type": "code",
   "execution_count": null,
   "id": "9aba71fd-f1e7-492b-9996-65cd9cacfcd0",
   "metadata": {},
   "outputs": [],
   "source": [
    "\n",
    "\n",
    "1,1,1\n",
    "1,1,0\n",
    "1,0,0\n",
    "1,0,1\n",
    "0,1,1\n",
    "0,1,0\n",
    "0,0,0\n",
    "0,0,1"
   ]
  },
  {
   "cell_type": "code",
   "execution_count": 72,
   "id": "a049423a-a418-4efd-ab86-ce2e886a0a73",
   "metadata": {},
   "outputs": [
    {
     "data": {
      "text/plain": [
       "{0: False, 1: False}"
      ]
     },
     "execution_count": 72,
     "metadata": {},
     "output_type": "execute_result"
    }
   ],
   "source": [
    "current_seen_sequence"
   ]
  },
  {
   "cell_type": "code",
   "execution_count": 71,
   "id": "9b3a91a3-0ec3-450a-8f61-612380e90e76",
   "metadata": {},
   "outputs": [
    {
     "data": {
      "text/plain": [
       "0"
      ]
     },
     "execution_count": 71,
     "metadata": {},
     "output_type": "execute_result"
    }
   ],
   "source": [
    "sum(current_seen_sequence.values())"
   ]
  },
  {
   "cell_type": "code",
   "execution_count": 69,
   "id": "b8c0dd31-8759-41f3-b26b-8a51724dd8b6",
   "metadata": {},
   "outputs": [
    {
     "data": {
      "text/plain": [
       "8"
      ]
     },
     "execution_count": 69,
     "metadata": {},
     "output_type": "execute_result"
    }
   ],
   "source": [
    "total_possible"
   ]
  },
  {
   "cell_type": "code",
   "execution_count": 70,
   "id": "e2c9f1a6-f801-45ab-8d77-40340e67bed3",
   "metadata": {},
   "outputs": [
    {
     "data": {
      "text/plain": [
       "0"
      ]
     },
     "execution_count": 70,
     "metadata": {},
     "output_type": "execute_result"
    }
   ],
   "source": [
    "possible_from_seq"
   ]
  },
  {
   "cell_type": "code",
   "execution_count": 66,
   "id": "9029c5b5-2ad1-4044-9569-0bdc0d0cb4db",
   "metadata": {},
   "outputs": [
    {
     "data": {
      "text/plain": [
       "3"
      ]
     },
     "execution_count": 66,
     "metadata": {},
     "output_type": "execute_result"
    }
   ],
   "source": [
    "L"
   ]
  },
  {
   "cell_type": "code",
   "execution_count": 56,
   "id": "abf1515d-ca51-483e-a076-ff00ffe6a4bb",
   "metadata": {},
   "outputs": [
    {
     "data": {
      "text/plain": [
       "5040.0"
      ]
     },
     "execution_count": 56,
     "metadata": {},
     "output_type": "execute_result"
    }
   ],
   "source": [
    "2*2*2"
   ]
  },
  {
   "cell_type": "code",
   "execution_count": 53,
   "id": "1a72c0fa-7e7a-4257-a209-82b6fe9de7bc",
   "metadata": {},
   "outputs": [
    {
     "data": {
      "text/plain": [
       "{0: False,\n",
       " 1: False,\n",
       " 2: True,\n",
       " 3: True,\n",
       " 4: True,\n",
       " 5: True,\n",
       " 6: False,\n",
       " 7: False,\n",
       " 8: True,\n",
       " 9: False}"
      ]
     },
     "execution_count": 53,
     "metadata": {},
     "output_type": "execute_result"
    }
   ],
   "source": [
    "{ current_seen_sequence }"
   ]
  },
  {
   "cell_type": "code",
   "execution_count": 47,
   "id": "48bfa04e-7fa5-4929-b10e-1bc0d7bc8956",
   "metadata": {},
   "outputs": [
    {
     "data": {
      "text/plain": [
       "5040.0"
      ]
     },
     "execution_count": 47,
     "metadata": {},
     "output_type": "execute_result"
    }
   ],
   "source": [
    "X"
   ]
  },
  {
   "cell_type": "code",
   "execution_count": 44,
   "id": "6807ea1b-9e9f-44c0-8c17-c470011f0e3f",
   "metadata": {},
   "outputs": [
    {
     "data": {
      "text/plain": [
       "{0: False,\n",
       " 1: False,\n",
       " 2: True,\n",
       " 3: True,\n",
       " 4: True,\n",
       " 5: True,\n",
       " 6: False,\n",
       " 7: False,\n",
       " 8: True,\n",
       " 9: False}"
      ]
     },
     "execution_count": 44,
     "metadata": {},
     "output_type": "execute_result"
    }
   ],
   "source": [
    "current_seen_sequence"
   ]
  },
  {
   "cell_type": "code",
   "execution_count": null,
   "id": "8c4401dd-16f8-4d9e-b168-ad57ae072ba7",
   "metadata": {},
   "outputs": [],
   "source": []
  }
 ],
 "metadata": {
  "kernelspec": {
   "display_name": "Python 3 (ipykernel)",
   "language": "python",
   "name": "python3"
  },
  "language_info": {
   "codemirror_mode": {
    "name": "ipython",
    "version": 3
   },
   "file_extension": ".py",
   "mimetype": "text/x-python",
   "name": "python",
   "nbconvert_exporter": "python",
   "pygments_lexer": "ipython3",
   "version": "3.11.6"
  }
 },
 "nbformat": 4,
 "nbformat_minor": 5
}
