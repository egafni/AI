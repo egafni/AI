{
 "cells": [
  {
   "cell_type": "code",
   "execution_count": 53,
   "id": "0469227f-43c5-4d2e-a94a-e668180566d1",
   "metadata": {},
   "outputs": [],
   "source": [
    "import torch\n",
    "from torch.nn import functional as F\n",
    "import math\n",
    "\n",
    "d = 1024\n",
    "T = 128\n",
    "p=0.0\n",
    "dropout = torch.nn.Dropout(p=p)\n",
    "\n",
    "device=torch.device('cuda')\n",
    "x = torch.randn(T, d).to(device)\n",
    "\n",
    "# dropout=.5\n",
    "wq = torch.rand(d,d).to(device)\n",
    "wk = torch.rand(d,d).to(device)\n",
    "wv = torch.rand(d,d).to(device)\n",
    "\n",
    "q = x@wq\n",
    "k = x@wk\n",
    "v = x@wv\n",
    "\n",
    "mask = ~torch.tril(torch.ones(T, T).to(torch.bool)).to(device)  # causal mask"
   ]
  },
  {
   "cell_type": "code",
   "execution_count": 54,
   "id": "d5dd0d45-3546-44e8-a59f-d1d27c74604c",
   "metadata": {},
   "outputs": [],
   "source": [
    "# %timeit \n",
    "z = F.scaled_dot_product_attention(q,k,v, dropout_p=p,is_causal=True)#.sum(1)"
   ]
  },
  {
   "cell_type": "code",
   "execution_count": 55,
   "id": "27021d04-93e6-4130-a94f-d41e150b30d4",
   "metadata": {},
   "outputs": [],
   "source": [
    "# %%timeit\n",
    "\n",
    "attn = q @ k.transpose(-2, -1)  # B,nh,T,C @ B,N,C,T = B,nh,T,T\n",
    "attn = torch.masked_fill(attn, mask, value=float('-inf'))\n",
    "attn = attn * math.sqrt(k.size(-1))  # causal mask, normalize\n",
    "attn = torch.softmax(attn, dim=-1)\n",
    "dattn = dropout(attn)\n",
    "# self.last_attn_map = attn.detach().cpu().clone()\n",
    "# assert dattn.isnan().sum() == 0\n",
    "z2 = dattn @ v  # B,nh,T,T @ B,nh,T,hs = B,nh,T,hs\n"
   ]
  },
  {
   "cell_type": "code",
   "execution_count": 56,
   "id": "9be83347-f7ed-459f-bb71-8fa52358100f",
   "metadata": {},
   "outputs": [
    {
     "data": {
      "text/plain": [
       "tensor([[ -0.2110,  -1.5818,  -5.6437,  ..., -18.7893,  10.4426,   7.2090],\n",
       "        [ -0.2110,  -1.5818,  -5.6437,  ..., -18.7893,  10.4426,   7.2090],\n",
       "        [-24.8567, -26.1446, -23.0648,  ..., -21.2818, -12.6791, -14.6870],\n",
       "        ...,\n",
       "        [ 35.5712,  44.4382,  53.2575,  ...,  54.2117,  36.7921,  40.5944],\n",
       "        [ 35.5712,  44.4382,  53.2575,  ...,  54.2117,  36.7921,  40.5944],\n",
       "        [-46.2574, -32.8182, -45.1698,  ..., -28.5072, -20.4379, -13.8146]],\n",
       "       device='cuda:0')"
      ]
     },
     "execution_count": 56,
     "metadata": {},
     "output_type": "execute_result"
    }
   ],
   "source": [
    "z"
   ]
  },
  {
   "cell_type": "code",
   "execution_count": 57,
   "id": "d09cb8ea-c357-451a-af62-81ec9fbd53f6",
   "metadata": {},
   "outputs": [
    {
     "data": {
      "text/plain": [
       "tensor([[ -0.2110,  -1.5818,  -5.6437,  ..., -18.7893,  10.4426,   7.2090],\n",
       "        [ -0.2110,  -1.5818,  -5.6437,  ..., -18.7893,  10.4426,   7.2090],\n",
       "        [-24.8567, -26.1446, -23.0648,  ..., -21.2818, -12.6791, -14.6870],\n",
       "        ...,\n",
       "        [ 35.5712,  44.4382,  53.2575,  ...,  54.2117,  36.7921,  40.5944],\n",
       "        [ 35.5712,  44.4382,  53.2575,  ...,  54.2117,  36.7921,  40.5944],\n",
       "        [-46.2574, -32.8182, -45.1698,  ..., -28.5072, -20.4379, -13.8146]],\n",
       "       device='cuda:0')"
      ]
     },
     "execution_count": 57,
     "metadata": {},
     "output_type": "execute_result"
    }
   ],
   "source": [
    "z2"
   ]
  },
  {
   "cell_type": "code",
   "execution_count": null,
   "id": "bb07d8a2-e873-44ff-8fd9-14eef791f460",
   "metadata": {},
   "outputs": [],
   "source": []
  }
 ],
 "metadata": {
  "kernelspec": {
   "display_name": "Python 3 (ipykernel)",
   "language": "python",
   "name": "python3"
  },
  "language_info": {
   "codemirror_mode": {
    "name": "ipython",
    "version": 3
   },
   "file_extension": ".py",
   "mimetype": "text/x-python",
   "name": "python",
   "nbconvert_exporter": "python",
   "pygments_lexer": "ipython3",
   "version": "3.10.12"
  }
 },
 "nbformat": 4,
 "nbformat_minor": 5
}
