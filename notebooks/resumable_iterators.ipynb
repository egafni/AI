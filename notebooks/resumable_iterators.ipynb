{
 "cells": [
  {
   "cell_type": "code",
   "execution_count": 2,
   "id": "a72b7d69-dffb-4f28-b66a-a461d9193e6b",
   "metadata": {},
   "outputs": [],
   "source": [
    "#asyncio"
   ]
  },
  {
   "cell_type": "code",
   "execution_count": 21,
   "id": "320d6fe4-4bf1-4628-be9c-f5b6856631c4",
   "metadata": {},
   "outputs": [],
   "source": [
    "# class ResumableIterator:\n",
    "#     def __init__(self, iterable):\n",
    "#         pass\n",
    "#     def __iter__(self):\n",
    "#         pass\n",
    "#     def __next__(self):\n",
    "#         pass\n",
    "#     def get_state(self):\n",
    "#         pass\n",
    "#     def set_state(self, x):\n",
    "#         pass\n",
    "\n",
    "# def test_resumable_iterator(itrbl:ResumableIterator, expected:list):\n",
    "#     states = [itrbl.get_state()]\n",
    "    \n",
    "#     for x in itrbl:\n",
    "#         states.append(itrbl.get_state())\n",
    "\n",
    "#     print(states)\n",
    "#     for i, state in enumerate(states):\n",
    "#         itrbl.set_state(state)\n",
    "#         assert list(itrbl) == expected[i:], (state, list(itrbl), expected[i:])\n",
    "\n",
    "\n",
    "# class ListResumableIterator(ResumableIterator):\n",
    "#     def __init__(self, iterable):\n",
    "#         self.iterable = iterable\n",
    "#         self.index = 0\n",
    "        \n",
    "#     def __iter__(self):\n",
    "#         return self\n",
    "#     def __next__(self):\n",
    "#         try:\n",
    "#             x= self.iterable[self.index]\n",
    "#             self.index +=1\n",
    "#             return x\n",
    "#         except IndexError:\n",
    "#             raise StopIteration('')\n",
    "\n",
    "#     def get_state(self):\n",
    "#         return self.index\n",
    "    \n",
    "#     def set_state(self, state):\n",
    "#         self.index = state\n",
    "\n",
    "# resumable_iterator = ListResumableIterator(['a','b','c','d'])\n",
    "# test_resumable_iterator(resumable_iterator, ['a','b','c','d'])\n",
    "\n",
    "# def JsonResumableIterator(filename):\n",
    "#     data = {'a.json':{'item1','item2','item2.5',},\n",
    "#              'b.json': [],\n",
    "#              'c.json':{'item3','item4'}        \n",
    "#             }\n",
    "#     return ListResumableIterator(data[filename])\n",
    "\n",
    "\n",
    "# class ResumableMultipleFileIterator(ResumableIterator):\n",
    "#     def __init__(self, filenames):\n",
    "#         self.iterators = [JsonResumableIterator(f) for f in filenames]\n",
    "#         self.current_file_index = 0\n",
    "#         self.current_file_state = #\n",
    "\n",
    "#     def __iter__(self):\n",
    "#         return self\n",
    "\n",
    "#     def __next__(self):\n",
    "#         pass\n",
    "\n",
    "#     def get_state(self):\n",
    "#         return self.current_file_index, self.current_file_state\n",
    "    \n",
    "#     def set_state(self, state):\n",
    "#         self.state = state\n",
    "\n",
    "# filenames = ['a.json','b.json','c.json']\n",
    "# it = ResumableMultipleFileIterator(filenames)\n",
    "# test_resumable_iterator(it, ..?)\n",
    "\n",
    "# class MixtureOfFiles(filenames, weights=[.25,.3,.23]):\n",
    "#     def __next__(self):\n",
    "#         pass\n",
    "\n",
    "#     def set_state(self, state):\n",
    "#         pass\n",
    "\n",
    "    \n",
    "    "
   ]
  },
  {
   "cell_type": "code",
   "execution_count": 43,
   "id": "6d77de2a-6d60-4509-ba8e-51b3317fecef",
   "metadata": {},
   "outputs": [
    {
     "data": {
      "text/plain": [
       "'emma\\n'"
      ]
     },
     "execution_count": 43,
     "metadata": {},
     "output_type": "execute_result"
    }
   ],
   "source": []
  },
  {
   "cell_type": "code",
   "execution_count": null,
   "id": "43abc1eb-428a-4a66-ad71-819571557660",
   "metadata": {},
   "outputs": [],
   "source": []
  },
  {
   "cell_type": "code",
   "execution_count": null,
   "id": "9bbeb90b-0baa-4687-bfc2-180d78a9b392",
   "metadata": {},
   "outputs": [],
   "source": []
  }
 ],
 "metadata": {
  "kernelspec": {
   "display_name": "Python 3 (ipykernel)",
   "language": "python",
   "name": "python3"
  },
  "language_info": {
   "codemirror_mode": {
    "name": "ipython",
    "version": 3
   },
   "file_extension": ".py",
   "mimetype": "text/x-python",
   "name": "python",
   "nbconvert_exporter": "python",
   "pygments_lexer": "ipython3",
   "version": "3.11.6"
  }
 },
 "nbformat": 4,
 "nbformat_minor": 5
}
