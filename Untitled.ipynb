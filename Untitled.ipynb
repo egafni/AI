{
 "cells": [
  {
   "cell_type": "code",
   "execution_count": 5,
   "id": "84bd61c7-5649-4623-a2b5-27687030c2d9",
   "metadata": {},
   "outputs": [
    {
     "data": {
      "text/plain": [
       "array([15.,  0.,  5.])"
      ]
     },
     "execution_count": 5,
     "metadata": {},
     "output_type": "execute_result"
    }
   ],
   "source": [
    "import numpy as np\n",
    "a = np.array(\n",
    "    [[7,5,3],[3,2,5],[1,2,1]]\n",
    ")\n",
    "b = np.array([120,70,20])\n",
    "np.linalg.solve(a,b)"
   ]
  },
  {
   "cell_type": "code",
   "execution_count": 9,
   "id": "8e8f85a5-60d8-4cf9-a0b6-63b82bb95d08",
   "metadata": {},
   "outputs": [
    {
     "data": {
      "text/plain": [
       "3"
      ]
     },
     "execution_count": 9,
     "metadata": {},
     "output_type": "execute_result"
    }
   ],
   "source": [
    "np.linalg.matrix_rank(a)\n"
   ]
  },
  {
   "cell_type": "code",
   "execution_count": null,
   "id": "0cc9f2e1-150a-427b-b459-cad7d66b6e5f",
   "metadata": {},
   "outputs": [],
   "source": []
  }
 ],
 "metadata": {
  "kernelspec": {
   "display_name": "Python 3 (ipykernel)",
   "language": "python",
   "name": "python3"
  },
  "language_info": {
   "codemirror_mode": {
    "name": "ipython",
    "version": 3
   },
   "file_extension": ".py",
   "mimetype": "text/x-python",
   "name": "python",
   "nbconvert_exporter": "python",
   "pygments_lexer": "ipython3",
   "version": "3.10.12"
  }
 },
 "nbformat": 4,
 "nbformat_minor": 5
}
